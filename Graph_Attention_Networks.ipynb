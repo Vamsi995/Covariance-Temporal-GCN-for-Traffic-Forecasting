{
  "nbformat": 4,
  "nbformat_minor": 0,
  "metadata": {
    "colab": {
      "provenance": [],
      "authorship_tag": "ABX9TyNNhekxF50zCYWiNngHqTlr",
      "include_colab_link": true
    },
    "kernelspec": {
      "name": "python3",
      "display_name": "Python 3"
    },
    "language_info": {
      "name": "python"
    }
  },
  "cells": [
    {
      "cell_type": "markdown",
      "metadata": {
        "id": "view-in-github",
        "colab_type": "text"
      },
      "source": [
        "<a href=\"https://colab.research.google.com/github/Vamsi995/Covariance-Temporal-GCN-for-Traffic-Forecasting/blob/main/Graph_Attention_Networks.ipynb\" target=\"_parent\"><img src=\"https://colab.research.google.com/assets/colab-badge.svg\" alt=\"Open In Colab\"/></a>"
      ]
    },
    {
      "cell_type": "code",
      "execution_count": null,
      "metadata": {
        "colab": {
          "base_uri": "https://localhost:8080/"
        },
        "collapsed": true,
        "id": "iUraoQhgBMMZ",
        "outputId": "722aac43-0eee-4999-d493-2967bf568cc8"
      },
      "outputs": [
        {
          "output_type": "stream",
          "name": "stdout",
          "text": [
            "--2024-11-28 20:24:47--  https://github.com/lehaifeng/T-GCN/blob/master/data/los_adj.csv\n",
            "Resolving github.com (github.com)... 140.82.116.4\n",
            "Connecting to github.com (github.com)|140.82.116.4|:443... connected.\n",
            "HTTP request sent, awaiting response... 200 OK\n",
            "Length: unspecified [text/html]\n",
            "Saving to: ‘los_adj.csv’\n",
            "\n",
            "los_adj.csv             [ <=>                ] 490.42K  --.-KB/s    in 0.04s   \n",
            "\n",
            "2024-11-28 20:24:47 (11.6 MB/s) - ‘los_adj.csv’ saved [502187]\n",
            "\n"
          ]
        }
      ],
      "source": [
        "!wget https://github.com/lehaifeng/T-GCN/blob/master/data/los_adj.csv"
      ]
    },
    {
      "cell_type": "code",
      "source": [
        "!wget https://github.com/lehaifeng/T-GCN/blob/master/data/los_speed.csv"
      ],
      "metadata": {
        "colab": {
          "base_uri": "https://localhost:8080/"
        },
        "collapsed": true,
        "id": "Fa0J6veQDa7-",
        "outputId": "54789752-14d1-4f7c-df98-6e4d0fe33534"
      },
      "execution_count": null,
      "outputs": [
        {
          "output_type": "stream",
          "name": "stdout",
          "text": [
            "--2024-11-28 20:24:47--  https://github.com/lehaifeng/T-GCN/blob/master/data/los_speed.csv\n",
            "Resolving github.com (github.com)... 140.82.116.4\n",
            "Connecting to github.com (github.com)|140.82.116.4|:443... connected.\n",
            "HTTP request sent, awaiting response... 200 OK\n",
            "Length: unspecified [text/html]\n",
            "Saving to: ‘los_speed.csv’\n",
            "\n",
            "los_speed.csv           [ <=>                ] 284.16K  --.-KB/s    in 0.03s   \n",
            "\n",
            "2024-11-28 20:24:48 (9.31 MB/s) - ‘los_speed.csv’ saved [290984]\n",
            "\n"
          ]
        }
      ]
    },
    {
      "cell_type": "code",
      "source": [
        "import numpy as np\n",
        "import pandas as pd\n",
        "import pickle as pkl\n",
        "\n",
        "def load_sz_data(dataset):\n",
        "    sz_adj = pd.read_csv(r'/content/sz_adj.csv',header=None)\n",
        "    adj = np.asarray(sz_adj)\n",
        "    sz_tf = pd.read_csv(r'/content/sz_speed.csv')\n",
        "    return sz_tf, adj\n",
        "\n",
        "def load_los_data():\n",
        "    los_adj = pd.read_csv(r'/content/los_adj.csv',header=None)\n",
        "    adj = np.asarray(los_adj)\n",
        "    los_tf = pd.read_csv(r'/content/los_speed.csv')\n",
        "    return los_tf, adj\n",
        "\n",
        "\n",
        "def preprocess_data(data, time_len, rate, seq_len, pre_len):\n",
        "    train_size = int(time_len * rate)\n",
        "    train_data = data[0:train_size]\n",
        "    test_data = data[train_size:time_len]\n",
        "\n",
        "    trainX, trainY, testX, testY = [], [], [], []\n",
        "    for i in range(len(train_data) - seq_len - pre_len):\n",
        "        a = train_data[i: i + seq_len + pre_len]\n",
        "        trainX.append(a[0 : seq_len])\n",
        "        trainY.append(a[seq_len : seq_len + pre_len])\n",
        "    for i in range(len(test_data) - seq_len -pre_len):\n",
        "        b = test_data[i: i + seq_len + pre_len]\n",
        "        testX.append(b[0 : seq_len])\n",
        "        testY.append(b[seq_len : seq_len + pre_len])\n",
        "\n",
        "    trainX1 = np.array(trainX)\n",
        "    trainY1 = np.array(trainY)\n",
        "    testX1 = np.array(testX)\n",
        "    testY1 = np.array(testY)\n",
        "    return trainX1, trainY1, testX1, testY1"
      ],
      "metadata": {
        "id": "1Dj1IYa3DlSf"
      },
      "execution_count": null,
      "outputs": []
    },
    {
      "cell_type": "code",
      "source": [
        "speed, adj = load_los_data()"
      ],
      "metadata": {
        "id": "yLXk7jmnEAK5"
      },
      "execution_count": null,
      "outputs": []
    },
    {
      "cell_type": "code",
      "source": [
        "adj.shape"
      ],
      "metadata": {
        "id": "FrPLea8tNu8U",
        "colab": {
          "base_uri": "https://localhost:8080/"
        },
        "outputId": "a557790e-685d-4871-a881-82aa82e52598"
      },
      "execution_count": null,
      "outputs": [
        {
          "output_type": "execute_result",
          "data": {
            "text/plain": [
              "(207, 207)"
            ]
          },
          "metadata": {},
          "execution_count": 10
        }
      ]
    },
    {
      "cell_type": "code",
      "source": [
        "speed.shape"
      ],
      "metadata": {
        "colab": {
          "base_uri": "https://localhost:8080/"
        },
        "id": "wweGeDqTOc5-",
        "outputId": "aeec0051-cd44-4378-f519-f4dfa700e70a"
      },
      "execution_count": null,
      "outputs": [
        {
          "output_type": "execute_result",
          "data": {
            "text/plain": [
              "(2016, 207)"
            ]
          },
          "metadata": {},
          "execution_count": 11
        }
      ]
    },
    {
      "cell_type": "markdown",
      "source": [
        "# Dataset Exploration"
      ],
      "metadata": {
        "id": "bNaYVlFKcfE1"
      }
    },
    {
      "cell_type": "code",
      "source": [
        "from matplotlib import pyplot as plt\n",
        "import numpy as np\n",
        "\n",
        "\n",
        "plt.plot(speed.iloc[:, 0])\n",
        "\n",
        "plt.plot(speed.iloc[:, 1])\n",
        "\n",
        "\n"
      ],
      "metadata": {
        "colab": {
          "base_uri": "https://localhost:8080/",
          "height": 448
        },
        "id": "M95ezSIcOf7x",
        "outputId": "8b1fd1ac-3626-4731-e9c4-0839ae4d84c0"
      },
      "execution_count": null,
      "outputs": [
        {
          "output_type": "execute_result",
          "data": {
            "text/plain": [
              "[<matplotlib.lines.Line2D at 0x7ea0e5fef250>]"
            ]
          },
          "metadata": {},
          "execution_count": 16
        },
        {
          "output_type": "display_data",
          "data": {
            "text/plain": [
              "<Figure size 640x480 with 1 Axes>"
            ],
            "image/png": "[encoded data removed]"
          },
          "metadata": {}
        }
      ]
    },
    {
      "cell_type": "code",
      "source": [
        "# new_feat = np.asarray(speed.iloc[1]).reshape((207, 1)).astype(np.float32)\n",
        "features = torch.from_numpy(np.asarray(speed).astype(np.float32))"
      ],
      "metadata": {
        "id": "NqOdggoBhBar"
      },
      "execution_count": null,
      "outputs": []
    },
    {
      "cell_type": "code",
      "source": [
        "# Parameters\n",
        "window_length = 10  # Length of each time window\n",
        "num_windows = features.shape[0] - window_length + 1  # Number of sliding windows\n",
        "\n",
        "sliding_windows = features.unfold(0, window_length, 1).permute(0, 2, 1).unsqueeze(-1)\n"
      ],
      "metadata": {
        "id": "ylgK6ZDPT-Yl"
      },
      "execution_count": null,
      "outputs": []
    },
    {
      "cell_type": "code",
      "source": [
        "import torch\n",
        "import torch.nn as nn\n",
        "import torch.nn.functional as Functional\n",
        "\n",
        "class STGraphSAGE(nn.Module):\n",
        "    def __init__(self, input_dim, att_hidden, hidden_dim, output_dim, k, num_time_steps, num_heads):\n",
        "        \"\"\"\n",
        "        Initialize the STGraphSAGE module.\n",
        "        Args:\n",
        "            input_dim: Dimension of input node features.\n",
        "            hidden_dim: Dimension of hidden layers.\n",
        "            output_dim: Dimension of the output embeddings.\n",
        "            k: Number of spatial orders (k-hop neighbors).\n",
        "            num_time_steps: Number of time steps (S).\n",
        "        \"\"\"\n",
        "        super(STGraphSAGE, self).__init__()\n",
        "        self.k = k\n",
        "        self.num_time_steps = num_time_steps\n",
        "        self.Ut = nn.ModuleList([nn.Linear((k + 1) * input_dim, hidden_dim) for _ in range(num_time_steps)])\n",
        "        self.bt = nn.ParameterList([nn.Parameter(torch.zeros(hidden_dim)) for _ in range(num_time_steps)])\n",
        "        self.output_dim = output_dim\n",
        "        self.hidden_dim = hidden_dim\n",
        "\n",
        "\n",
        "        self.num_heads = num_heads\n",
        "\n",
        "        # Linear transformations for attention mechanism\n",
        "        self.U = nn.Linear(input_dim, att_hidden, bias=False)\n",
        "        self.a = nn.Linear(att_hidden * 2, 1, bias=False)\n",
        "\n",
        "        # Multi-head attention components\n",
        "        self.attention_heads = nn.ModuleList([nn.Linear(input_dim, att_hidden, bias=False) for _ in range(num_heads)])\n",
        "\n",
        "\n",
        "    def compute_attention(self, xi, xj):\n",
        "        \"\"\"\n",
        "        Compute attention between two nodes xi and xj.\n",
        "        Args:\n",
        "            xi: Features of node i.\n",
        "            xj: Features of node j.\n",
        "        Returns:\n",
        "            Attention score (rho_ij).\n",
        "        \"\"\"\n",
        "        concatenated_features = torch.cat([xi, xj], dim=-1)\n",
        "        return Functional.leaky_relu(self.a(concatenated_features), negative_slope=0.2)\n",
        "\n",
        "    def dynamic_attention_weights(self, node_features, adjacency_matrix, k):\n",
        "        \"\"\"\n",
        "        Compute the spatial weight matrix W.\n",
        "        Args:\n",
        "            node_features: Tensor of shape (N, F), where N is the number of nodes and F is the feature dimension.\n",
        "            neighbors: List of neighbors for each node (as indices).\n",
        "            k: The maximum order of neighbors.\n",
        "        Returns:\n",
        "            The global weight matrix W.\n",
        "        \"\"\"\n",
        "        N, _ = node_features.shape\n",
        "        adjacency_matrix = torch.from_numpy(adjacency_matrix) if not isinstance(adjacency_matrix, torch.Tensor) else adjacency_matrix\n",
        "\n",
        "        # Transform node features\n",
        "        transformed_features = self.U(node_features)\n",
        "\n",
        "        # Initialize the global weight matrix\n",
        "        W_global = torch.zeros((k, N, N), device=node_features.device)\n",
        "        W_local = torch.zeros((N, N), device=node_features.device)\n",
        "\n",
        "\n",
        "        # Multi-head attention (averaging results across heads)\n",
        "        W_multihead = torch.zeros_like(W_global)\n",
        "\n",
        "        for head in self.attention_heads:\n",
        "            transformed_features_head = head(node_features)\n",
        "            W_order = torch.zeros_like(W_local)\n",
        "\n",
        "            for order in range(k):\n",
        "              W_order = torch.zeros((N, N), device=node_features.device)\n",
        "\n",
        "              if order != 0:\n",
        "                A_k = torch.matrix_power(adjacency_matrix, order+1)\n",
        "              else:\n",
        "                A_k = adjacency_matrix\n",
        "\n",
        "              # Ensure binary adjacency matrix (1 for neighbors, 0 for non-neighbors)\n",
        "              A_k = (A_k > 0).float()\n",
        "\n",
        "              # Remove self-loops\n",
        "              A_k.fill_diagonal_(0)\n",
        "\n",
        "              # Compute attention scores for k-th order neighbors\n",
        "              W_order = torch.zeros((N, N), device=node_features.device)\n",
        "              for i in range(N):\n",
        "                  for j in range(N):\n",
        "                      if A_k[i, j] > 0:  # If j is a k-th order neighbor of i\n",
        "                          rho_ij = self.compute_attention(transformed_features_head[i], transformed_features_head[j])\n",
        "                          W_order[i, j] = rho_ij\n",
        "\n",
        "              W_order = Functional.softmax(W_order, dim=1)\n",
        "              W_multihead[order] += W_order\n",
        "              # W_multihead += W_order\n",
        "\n",
        "        W_multihead /= self.num_heads\n",
        "\n",
        "        return W_multihead\n",
        "\n",
        "    def forward(self, node_features, adjacency_matrix):\n",
        "        \"\"\"\n",
        "        Forward pass for STGraphSAGE.\n",
        "        Args:\n",
        "            node_features: Tensor of shape (S, N, F), where S is the number of time steps,\n",
        "                           N is the number of nodes, and F is the feature dimension.\n",
        "            adjacency_matrix: Tensor of shape (N, N), representing the adjacency matrix of the graph.\n",
        "            W_k: List of spatial weight matrices, one for each spatial order (k-hop).\n",
        "        Returns:\n",
        "            Spatial-temporal embeddings of all nodes (N, output_dim).\n",
        "        \"\"\"\n",
        "        S, N, F = node_features.size()\n",
        "        aggregated_embeddings = torch.zeros((N, self.output_dim), device=node_features.device)\n",
        "\n",
        "        for i in range(1):\n",
        "            x_S_i = torch.zeros((N, self.output_dim), device=node_features.device)\n",
        "\n",
        "            for t in range(S):\n",
        "                # Step 4: Initialize hi with x(t)_i\n",
        "                hi = node_features[t]\n",
        "\n",
        "                W_k = self.dynamic_attention_weights(node_features[t], adjacency_matrix, self.k)\n",
        "\n",
        "                for k in range(1, self.k + 1):\n",
        "                    # Compute k-hop neighbors (spatial aggregation)\n",
        "                    A_k = torch.matrix_power(adjacency_matrix, k)\n",
        "                    A_k = (A_k > 0).float()  # Ensure binary adjacency\n",
        "                    A_k.fill_diagonal_(0)  # Remove self-loops\n",
        "\n",
        "                    # hk_i = sum_j W(k)_i,j * x(t)_j\n",
        "                    hk_i = torch.sum(A_k[i, :, None] * W_k[k - 1] * node_features[t], dim=0).reshape((N, F))\n",
        "                    hi = torch.cat([hi, hk_i], dim=-1)  # Concatenate hk_i to hi\n",
        "\n",
        "                # Step 9: Compute h(t)_i\n",
        "                hi_t = Functional.relu(self.Ut[t](hi) + self.bt[t])\n",
        "\n",
        "                # Step 10: Normalize h(t)_i\n",
        "                hi_t = hi_t / torch.norm(hi_t, p=2)\n",
        "\n",
        "                # Step 11: Update x_S_i\n",
        "                x_S_i += hi_t\n",
        "\n",
        "            # Step 13: Normalize x_S_i\n",
        "            x_S_i = x_S_i / torch.norm(x_S_i, p=2)\n",
        "            aggregated_embeddings = x_S_i\n",
        "\n",
        "        return aggregated_embeddings"
      ],
      "metadata": {
        "id": "iyRZHuJSROUl"
      },
      "execution_count": null,
      "outputs": []
    },
    {
      "cell_type": "code",
      "source": [
        "\n",
        "\n",
        "# Example usage\n",
        "\n",
        "# Number of nodes, feature dimension, hidden dimension, and number of attention heads\n",
        "num_nodes = 207\n",
        "feature_dim = 1\n",
        "att_hidden_dim = 8\n",
        "\n",
        "graph_sage_hidden_dim = 8\n",
        "num_heads = 2\n",
        "k = 2  # Maximum order of neighbors\n",
        "num_time_steps = 10  # Number of time steps (S)\n",
        "output_dim = 8\n",
        "\n",
        "# Instantiate and run the model\n",
        "# model = AttentionWeightLearning(input_dim=feature_dim, hidden_dim=hidden_dim, num_heads=num_heads)\n",
        "# W = model(torch.from_numpy(new_feat), adj, k)\n",
        "\n",
        "model = STGraphSAGE(feature_dim, att_hidden_dim, graph_sage_hidden_dim, output_dim, k, num_time_steps, num_heads)\n",
        "embeddings = model(sliding_windows[0], torch.from_numpy(adj))\n",
        "\n",
        "print(\"Weight Matrix (W):\")\n",
        "print(W)\n"
      ],
      "metadata": {
        "colab": {
          "base_uri": "https://localhost:8080/"
        },
        "id": "ma-NAgFRc9BZ",
        "outputId": "caca27e8-5ac8-4232-e7e8-a99bd9a03908"
      },
      "execution_count": null,
      "outputs": [
        {
          "output_type": "stream",
          "name": "stdout",
          "text": [
            "torch.Size([207, 1]) torch.Size([207, 1]) torch.Size([2, 207, 207]) torch.Size([207, 1])\n",
            "torch.Size([207, 1]) torch.Size([207, 2]) torch.Size([2, 207, 207]) torch.Size([207, 1])\n",
            "torch.Size([207, 3]) Linear(in_features=3, out_features=8, bias=True)\n",
            "torch.Size([207, 1]) torch.Size([207, 1]) torch.Size([2, 207, 207]) torch.Size([207, 1])\n",
            "torch.Size([207, 1]) torch.Size([207, 2]) torch.Size([2, 207, 207]) torch.Size([207, 1])\n",
            "torch.Size([207, 3]) Linear(in_features=3, out_features=8, bias=True)\n",
            "torch.Size([207, 1]) torch.Size([207, 1]) torch.Size([2, 207, 207]) torch.Size([207, 1])\n",
            "torch.Size([207, 1]) torch.Size([207, 2]) torch.Size([2, 207, 207]) torch.Size([207, 1])\n",
            "torch.Size([207, 3]) Linear(in_features=3, out_features=8, bias=True)\n",
            "torch.Size([207, 1]) torch.Size([207, 1]) torch.Size([2, 207, 207]) torch.Size([207, 1])\n",
            "torch.Size([207, 1]) torch.Size([207, 2]) torch.Size([2, 207, 207]) torch.Size([207, 1])\n",
            "torch.Size([207, 3]) Linear(in_features=3, out_features=8, bias=True)\n",
            "torch.Size([207, 1]) torch.Size([207, 1]) torch.Size([2, 207, 207]) torch.Size([207, 1])\n",
            "torch.Size([207, 1]) torch.Size([207, 2]) torch.Size([2, 207, 207]) torch.Size([207, 1])\n",
            "torch.Size([207, 3]) Linear(in_features=3, out_features=8, bias=True)\n",
            "torch.Size([207, 1]) torch.Size([207, 1]) torch.Size([2, 207, 207]) torch.Size([207, 1])\n",
            "torch.Size([207, 1]) torch.Size([207, 2]) torch.Size([2, 207, 207]) torch.Size([207, 1])\n",
            "torch.Size([207, 3]) Linear(in_features=3, out_features=8, bias=True)\n",
            "torch.Size([207, 1]) torch.Size([207, 1]) torch.Size([2, 207, 207]) torch.Size([207, 1])\n",
            "torch.Size([207, 1]) torch.Size([207, 2]) torch.Size([2, 207, 207]) torch.Size([207, 1])\n",
            "torch.Size([207, 3]) Linear(in_features=3, out_features=8, bias=True)\n",
            "torch.Size([207, 1]) torch.Size([207, 1]) torch.Size([2, 207, 207]) torch.Size([207, 1])\n",
            "torch.Size([207, 1]) torch.Size([207, 2]) torch.Size([2, 207, 207]) torch.Size([207, 1])\n",
            "torch.Size([207, 3]) Linear(in_features=3, out_features=8, bias=True)\n",
            "torch.Size([207, 1]) torch.Size([207, 1]) torch.Size([2, 207, 207]) torch.Size([207, 1])\n",
            "torch.Size([207, 1]) torch.Size([207, 2]) torch.Size([2, 207, 207]) torch.Size([207, 1])\n",
            "torch.Size([207, 3]) Linear(in_features=3, out_features=8, bias=True)\n",
            "torch.Size([207, 1]) torch.Size([207, 1]) torch.Size([2, 207, 207]) torch.Size([207, 1])\n",
            "torch.Size([207, 1]) torch.Size([207, 2]) torch.Size([2, 207, 207]) torch.Size([207, 1])\n",
            "torch.Size([207, 3]) Linear(in_features=3, out_features=8, bias=True)\n",
            "Weight Matrix (W):\n",
            "tensor([[[1.3605e-05, 1.3605e-05, 1.3605e-05,  ..., 1.3605e-05,\n",
            "          1.3605e-05, 1.3605e-05],\n",
            "         [3.1993e-06, 3.1993e-06, 5.5718e-02,  ..., 3.1993e-06,\n",
            "          3.1993e-06, 3.1993e-06],\n",
            "         [6.1096e-06, 1.9362e-02, 6.1096e-06,  ..., 6.1096e-06,\n",
            "          6.1096e-06, 6.1096e-06],\n",
            "         ...,\n",
            "         [1.0911e-04, 1.0911e-04, 1.0911e-04,  ..., 1.0911e-04,\n",
            "          1.0911e-04, 1.0911e-04],\n",
            "         [5.0624e-06, 5.0624e-06, 5.0624e-06,  ..., 5.0624e-06,\n",
            "          5.0624e-06, 5.0624e-06],\n",
            "         [1.0497e-05, 1.0497e-05, 1.0497e-05,  ..., 1.0497e-05,\n",
            "          1.0497e-05, 1.0497e-05]],\n",
            "\n",
            "        [[3.4279e-07, 3.4279e-07, 3.4279e-07,  ..., 3.4279e-07,\n",
            "          3.4279e-07, 3.4279e-07],\n",
            "         [5.3895e-08, 5.3895e-08, 1.3926e-03,  ..., 5.3895e-08,\n",
            "          5.3895e-08, 5.3895e-08],\n",
            "         [1.5981e-06, 5.2079e-03, 1.5981e-06,  ..., 1.5981e-06,\n",
            "          1.5981e-06, 1.5981e-06],\n",
            "         ...,\n",
            "         [1.7807e-05, 1.7807e-05, 1.7807e-05,  ..., 1.7807e-05,\n",
            "          1.7807e-05, 1.7807e-05],\n",
            "         [5.6244e-07, 5.6244e-07, 5.6244e-07,  ..., 5.6244e-07,\n",
            "          5.6244e-07, 5.6244e-07],\n",
            "         [6.4554e-06, 6.4554e-06, 6.4554e-06,  ..., 6.4554e-06,\n",
            "          6.4554e-06, 6.4554e-06]]], grad_fn=<DivBackward0>)\n"
          ]
        }
      ]
    },
    {
      "cell_type": "code",
      "source": [
        "embeddings.shape"
      ],
      "metadata": {
        "colab": {
          "base_uri": "https://localhost:8080/"
        },
        "id": "mGFT9LYJWKJ_",
        "outputId": "08184600-16b8-44e5-d57e-1ce6fab06a26"
      },
      "execution_count": null,
      "outputs": [
        {
          "output_type": "execute_result",
          "data": {
            "text/plain": [
              "torch.Size([207, 8])"
            ]
          },
          "metadata": {},
          "execution_count": 105
        }
      ]
    },
    {
      "cell_type": "code",
      "source": [],
      "metadata": {
        "id": "bZKX3PCKjRJn"
      },
      "execution_count": null,
      "outputs": []
    },
    {
      "cell_type": "code",
      "source": [
        "!git clone https://github.com/thuml/Autoformer.git"
      ],
      "metadata": {
        "colab": {
          "base_uri": "https://localhost:8080/"
        },
        "id": "tsV7qaebvQ2O",
        "outputId": "25d4196b-a1b3-4b8a-8d5f-1967f86d859b"
      },
      "execution_count": null,
      "outputs": [
        {
          "output_type": "stream",
          "name": "stdout",
          "text": [
            "Cloning into 'Autoformer'...\n",
            "remote: Enumerating objects: 371, done.\u001b[K\n",
            "remote: Counting objects: 100% (209/209), done.\u001b[K\n",
            "remote: Compressing objects: 100% (66/66), done.\u001b[K\n",
            "remote: Total 371 (delta 155), reused 143 (delta 143), pack-reused 162 (from 1)\u001b[K\n",
            "Receiving objects: 100% (371/371), 2.20 MiB | 5.35 MiB/s, done.\n",
            "Resolving deltas: 100% (219/219), done.\n"
          ]
        }
      ]
    },
    {
      "cell_type": "code",
      "source": [
        "!bash /content/Autoformer/scripts/Traffic_script/Autoformer.sh"
      ],
      "metadata": {
        "colab": {
          "base_uri": "https://localhost:8080/"
        },
        "id": "IV3T627uvSBm",
        "outputId": "1072f6ee-d660-4385-f63e-4ff84ade43e8"
      },
      "execution_count": null,
      "outputs": [
        {
          "output_type": "stream",
          "name": "stdout",
          "text": [
            "2024-11-29:02:30:58,136 INFO     [utils.py:161] NumExpr defaulting to 2 threads.\n",
            "Args in experiment:\n",
            "Namespace(is_training=1, model_id='traffic_96_96', model='Autoformer', data='custom', root_path='./dataset/traffic/', data_path='traffic.csv', features='M', target='OT', freq='h', checkpoints='./checkpoints/', seq_len=96, label_len=48, pred_len=96, bucket_size=4, n_hashes=4, enc_in=862, dec_in=862, c_out=862, d_model=512, n_heads=8, e_layers=2, d_layers=1, d_ff=2048, moving_avg=25, factor=3, distil=True, dropout=0.05, embed='timeF', activation='gelu', output_attention=False, do_predict=False, num_workers=10, itr=1, train_epochs=3, batch_size=32, patience=3, learning_rate=0.0001, des='Exp', loss='mse', lradj='type1', use_amp=False, use_gpu=False, gpu=0, use_multi_gpu=False, devices='0,1,2,3')\n",
            "Use CPU\n",
            ">>>>>>>start training : traffic_96_96_Autoformer_custom_ftM_sl96_ll48_pl96_dm512_nh8_el2_dl1_df2048_fc3_ebtimeF_dtTrue_Exp_0>>>>>>>>>>>>>>>>>>>>>>>>>>\n",
            "train 12089\n",
            "val 1661\n",
            "test 3413\n",
            "\titers: 100, epoch: 1 | loss: 0.3716267\n",
            "\tspeed: 10.2534s/iter; left time: 10581.5334s\n",
            "\titers: 200, epoch: 1 | loss: 0.3240120\n",
            "\tspeed: 10.5183s/iter; left time: 9803.0832s\n",
            "\titers: 300, epoch: 1 | loss: 0.2888196\n",
            "\tspeed: 10.3767s/iter; left time: 8633.3852s\n",
            "Epoch: 1 cost time: 3927.0142323970795\n"
          ]
        }
      ]
    },
    {
      "cell_type": "code",
      "source": [
        "!pip install -r /content/Autoformer/requirements.txt"
      ],
      "metadata": {
        "colab": {
          "base_uri": "https://localhost:8080/"
        },
        "collapsed": true,
        "id": "VZ9v18BavbOE",
        "outputId": "71cbe180-dbd2-4f32-cfa3-fbe76790a816"
      },
      "execution_count": null,
      "outputs": [
        {
          "output_type": "stream",
          "name": "stdout",
          "text": [
            "Requirement already satisfied: pandas in /usr/local/lib/python3.10/dist-packages (from -r /content/Autoformer/requirements.txt (line 1)) (2.2.2)\n",
            "Requirement already satisfied: scikit-learn in /usr/local/lib/python3.10/dist-packages (from -r /content/Autoformer/requirements.txt (line 2)) (1.5.2)\n",
            "Requirement already satisfied: torchvision in /usr/local/lib/python3.10/dist-packages (from -r /content/Autoformer/requirements.txt (line 3)) (0.20.1+cu121)\n",
            "Requirement already satisfied: numpy in /usr/local/lib/python3.10/dist-packages (from -r /content/Autoformer/requirements.txt (line 4)) (1.26.4)\n",
            "Requirement already satisfied: matplotlib in /usr/local/lib/python3.10/dist-packages (from -r /content/Autoformer/requirements.txt (line 5)) (3.8.0)\n",
            "Requirement already satisfied: reformer_pytorch in /usr/local/lib/python3.10/dist-packages (from -r /content/Autoformer/requirements.txt (line 6)) (1.4.4)\n",
            "Requirement already satisfied: python-dateutil>=2.8.2 in /usr/local/lib/python3.10/dist-packages (from pandas->-r /content/Autoformer/requirements.txt (line 1)) (2.8.2)\n",
            "Requirement already satisfied: pytz>=2020.1 in /usr/local/lib/python3.10/dist-packages (from pandas->-r /content/Autoformer/requirements.txt (line 1)) (2024.2)\n",
            "Requirement already satisfied: tzdata>=2022.7 in /usr/local/lib/python3.10/dist-packages (from pandas->-r /content/Autoformer/requirements.txt (line 1)) (2024.2)\n",
            "Requirement already satisfied: scipy>=1.6.0 in /usr/local/lib/python3.10/dist-packages (from scikit-learn->-r /content/Autoformer/requirements.txt (line 2)) (1.13.1)\n",
            "Requirement already satisfied: joblib>=1.2.0 in /usr/local/lib/python3.10/dist-packages (from scikit-learn->-r /content/Autoformer/requirements.txt (line 2)) (1.4.2)\n",
            "Requirement already satisfied: threadpoolctl>=3.1.0 in /usr/local/lib/python3.10/dist-packages (from scikit-learn->-r /content/Autoformer/requirements.txt (line 2)) (3.5.0)\n",
            "Requirement already satisfied: torch==2.5.1 in /usr/local/lib/python3.10/dist-packages (from torchvision->-r /content/Autoformer/requirements.txt (line 3)) (2.5.1+cu121)\n",
            "Requirement already satisfied: pillow!=8.3.*,>=5.3.0 in /usr/local/lib/python3.10/dist-packages (from torchvision->-r /content/Autoformer/requirements.txt (line 3)) (11.0.0)\n",
            "Requirement already satisfied: filelock in /usr/local/lib/python3.10/dist-packages (from torch==2.5.1->torchvision->-r /content/Autoformer/requirements.txt (line 3)) (3.16.1)\n",
            "Requirement already satisfied: typing-extensions>=4.8.0 in /usr/local/lib/python3.10/dist-packages (from torch==2.5.1->torchvision->-r /content/Autoformer/requirements.txt (line 3)) (4.12.2)\n",
            "Requirement already satisfied: networkx in /usr/local/lib/python3.10/dist-packages (from torch==2.5.1->torchvision->-r /content/Autoformer/requirements.txt (line 3)) (3.4.2)\n",
            "Requirement already satisfied: jinja2 in /usr/local/lib/python3.10/dist-packages (from torch==2.5.1->torchvision->-r /content/Autoformer/requirements.txt (line 3)) (3.1.4)\n",
            "Requirement already satisfied: fsspec in /usr/local/lib/python3.10/dist-packages (from torch==2.5.1->torchvision->-r /content/Autoformer/requirements.txt (line 3)) (2024.10.0)\n",
            "Requirement already satisfied: sympy==1.13.1 in /usr/local/lib/python3.10/dist-packages (from torch==2.5.1->torchvision->-r /content/Autoformer/requirements.txt (line 3)) (1.13.1)\n",
            "Requirement already satisfied: mpmath<1.4,>=1.1.0 in /usr/local/lib/python3.10/dist-packages (from sympy==1.13.1->torch==2.5.1->torchvision->-r /content/Autoformer/requirements.txt (line 3)) (1.3.0)\n",
            "Requirement already satisfied: contourpy>=1.0.1 in /usr/local/lib/python3.10/dist-packages (from matplotlib->-r /content/Autoformer/requirements.txt (line 5)) (1.3.1)\n",
            "Requirement already satisfied: cycler>=0.10 in /usr/local/lib/python3.10/dist-packages (from matplotlib->-r /content/Autoformer/requirements.txt (line 5)) (0.12.1)\n",
            "Requirement already satisfied: fonttools>=4.22.0 in /usr/local/lib/python3.10/dist-packages (from matplotlib->-r /content/Autoformer/requirements.txt (line 5)) (4.55.0)\n",
            "Requirement already satisfied: kiwisolver>=1.0.1 in /usr/local/lib/python3.10/dist-packages (from matplotlib->-r /content/Autoformer/requirements.txt (line 5)) (1.4.7)\n",
            "Requirement already satisfied: packaging>=20.0 in /usr/local/lib/python3.10/dist-packages (from matplotlib->-r /content/Autoformer/requirements.txt (line 5)) (24.2)\n",
            "Requirement already satisfied: pyparsing>=2.3.1 in /usr/local/lib/python3.10/dist-packages (from matplotlib->-r /content/Autoformer/requirements.txt (line 5)) (3.2.0)\n",
            "Requirement already satisfied: axial-positional-embedding>=0.1.0 in /usr/local/lib/python3.10/dist-packages (from reformer_pytorch->-r /content/Autoformer/requirements.txt (line 6)) (0.2.1)\n",
            "Requirement already satisfied: einops in /usr/local/lib/python3.10/dist-packages (from reformer_pytorch->-r /content/Autoformer/requirements.txt (line 6)) (0.8.0)\n",
            "Requirement already satisfied: local-attention in /usr/local/lib/python3.10/dist-packages (from reformer_pytorch->-r /content/Autoformer/requirements.txt (line 6)) (1.9.15)\n",
            "Requirement already satisfied: product-key-memory in /usr/local/lib/python3.10/dist-packages (from reformer_pytorch->-r /content/Autoformer/requirements.txt (line 6)) (0.2.11)\n",
            "Requirement already satisfied: six>=1.5 in /usr/local/lib/python3.10/dist-packages (from python-dateutil>=2.8.2->pandas->-r /content/Autoformer/requirements.txt (line 1)) (1.16.0)\n",
            "Requirement already satisfied: colt5-attention>=0.10.14 in /usr/local/lib/python3.10/dist-packages (from product-key-memory->reformer_pytorch->-r /content/Autoformer/requirements.txt (line 6)) (0.11.1)\n",
            "Requirement already satisfied: MarkupSafe>=2.0 in /usr/local/lib/python3.10/dist-packages (from jinja2->torch==2.5.1->torchvision->-r /content/Autoformer/requirements.txt (line 3)) (3.0.2)\n"
          ]
        }
      ]
    },
    {
      "cell_type": "code",
      "source": [],
      "metadata": {
        "id": "9cGq7VIKvoTu"
      },
      "execution_count": null,
      "outputs": []
    }
  ]
}