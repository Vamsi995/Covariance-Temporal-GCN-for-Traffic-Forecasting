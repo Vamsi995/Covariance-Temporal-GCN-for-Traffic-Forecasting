{
  "cells": [
    {
      "cell_type": "markdown",
      "metadata": {
        "id": "view-in-github",
        "colab_type": "text"
      },
      "source": [
        "<a href=\"https://colab.research.google.com/github/Vamsi995/Covariance-Temporal-GCN-for-Traffic-Forecasting/blob/main/TGCN.ipynb\" target=\"_parent\"><img src=\"https://colab.research.google.com/assets/colab-badge.svg\" alt=\"Open In Colab\"/></a>"
      ]
    },
    {
      "cell_type": "code",
      "execution_count": null,
      "metadata": {
        "colab": {
          "base_uri": "https://localhost:8080/"
        },
        "collapsed": true,
        "id": "iUraoQhgBMMZ",
        "outputId": "530e2c52-177e-432f-aa36-13c9881937fb"
      },
      "outputs": [
        {
          "name": "stdout",
          "output_type": "stream",
          "text": [
            "--2024-11-30 01:12:48--  https://github.com/lehaifeng/T-GCN/blob/master/data/los_adj.csv\n",
            "Resolving github.com (github.com)... 140.82.113.4\n",
            "Connecting to github.com (github.com)|140.82.113.4|:443... connected.\n",
            "HTTP request sent, awaiting response... 200 OK\n",
            "Length: unspecified [text/html]\n",
            "Saving to: ‘los_adj.csv’\n",
            "\n",
            "los_adj.csv             [  <=>               ] 490.45K  1.30MB/s    in 0.4s    \n",
            "\n",
            "2024-11-30 01:12:49 (1.30 MB/s) - ‘los_adj.csv’ saved [502217]\n",
            "\n"
          ]
        }
      ],
      "source": [
        "!wget -c https://github.com/lehaifeng/T-GCN/blob/master/data/los_adj.csv"
      ]
    },
    {
      "cell_type": "code",
      "execution_count": null,
      "metadata": {
        "colab": {
          "base_uri": "https://localhost:8080/"
        },
        "collapsed": true,
        "id": "Fa0J6veQDa7-",
        "outputId": "33fca424-211d-45a1-fc2f-abde9fad2e76"
      },
      "outputs": [
        {
          "name": "stdout",
          "output_type": "stream",
          "text": [
            "--2024-11-30 01:12:49--  https://github.com/lehaifeng/T-GCN/blob/master/data/los_speed.csv\n",
            "Resolving github.com (github.com)... 140.82.114.4\n",
            "Connecting to github.com (github.com)|140.82.114.4|:443... connected.\n",
            "HTTP request sent, awaiting response... 200 OK\n",
            "Length: unspecified [text/html]\n",
            "Saving to: ‘los_speed.csv’\n",
            "\n",
            "los_speed.csv           [  <=>               ] 284.16K   942KB/s    in 0.3s    \n",
            "\n",
            "2024-11-30 01:12:50 (942 KB/s) - ‘los_speed.csv’ saved [290984]\n",
            "\n"
          ]
        }
      ],
      "source": [
        "!wget -c https://github.com/lehaifeng/T-GCN/blob/master/data/los_speed.csv"
      ]
    },
    {
      "cell_type": "code",
      "execution_count": null,
      "metadata": {
        "id": "1Dj1IYa3DlSf"
      },
      "outputs": [],
      "source": [
        "import numpy as np\n",
        "import pandas as pd\n",
        "import pickle as pkl\n",
        "\n",
        "def load_sz_data():\n",
        "    sz_adj = pd.read_csv(r'/content/sz_adj.csv',header=None)\n",
        "    adj = np.asarray(sz_adj)\n",
        "    sz_tf = pd.read_csv(r'/content/sz_speed.csv')\n",
        "    return sz_tf, adj\n",
        "\n",
        "def load_los_data():\n",
        "    los_adj = pd.read_csv(r'/content/los_adj.csv',header=None)\n",
        "    adj = np.asarray(los_adj)\n",
        "    los_tf = pd.read_csv(r'/content/los_speed.csv')\n",
        "    return los_tf, adj\n",
        "\n",
        "\n",
        "def preprocess_data(data, time_len, rate, seq_len, pre_len):\n",
        "    train_size = int(time_len * rate)\n",
        "    train_data = data[0:train_size]\n",
        "    test_data = data[train_size:time_len]\n",
        "\n",
        "    trainX, trainY, testX, testY = [], [], [], []\n",
        "    for i in range(len(train_data) - seq_len - pre_len):\n",
        "        a = train_data[i: i + seq_len + pre_len]\n",
        "        trainX.append(a[0 : seq_len])\n",
        "        trainY.append(a[seq_len : seq_len + pre_len])\n",
        "    for i in range(len(test_data) - seq_len -pre_len):\n",
        "        b = test_data[i: i + seq_len + pre_len]\n",
        "        testX.append(b[0 : seq_len])\n",
        "        testY.append(b[seq_len : seq_len + pre_len])\n",
        "\n",
        "    trainX1 = np.array(trainX)\n",
        "    trainY1 = np.array(trainY)\n",
        "    testX1 = np.array(testX)\n",
        "    testY1 = np.array(testY)\n",
        "    return trainX1, trainY1, testX1, testY1"
      ]
    },
    {
      "cell_type": "code",
      "execution_count": null,
      "metadata": {
        "id": "yLXk7jmnEAK5"
      },
      "outputs": [],
      "source": [
        "speed, adj = load_los_data()"
      ]
    },
    {
      "cell_type": "code",
      "execution_count": null,
      "metadata": {
        "colab": {
          "base_uri": "https://localhost:8080/"
        },
        "id": "FrPLea8tNu8U",
        "outputId": "db3b855c-d0a2-4144-82a5-c17650128fa7"
      },
      "outputs": [
        {
          "output_type": "execute_result",
          "data": {
            "text/plain": [
              "(207, 207)"
            ]
          },
          "metadata": {},
          "execution_count": 106
        }
      ],
      "source": [
        "adj.shape"
      ]
    },
    {
      "cell_type": "code",
      "execution_count": null,
      "metadata": {
        "colab": {
          "base_uri": "https://localhost:8080/"
        },
        "id": "wweGeDqTOc5-",
        "outputId": "94cb8f8a-2e0c-42a8-cc27-d357aa717632"
      },
      "outputs": [
        {
          "output_type": "execute_result",
          "data": {
            "text/plain": [
              "(2016, 207)"
            ]
          },
          "metadata": {},
          "execution_count": 107
        }
      ],
      "source": [
        "speed.shape"
      ]
    },
    {
      "cell_type": "code",
      "execution_count": null,
      "metadata": {
        "id": "eGcaH2q9v0mH"
      },
      "outputs": [],
      "source": [
        "import numpy as np\n",
        "import pandas as pd\n",
        "import torch\n",
        "\n",
        "\n",
        "def load_features(feat_path, dtype=np.float32):\n",
        "    feat_df = pd.read_csv(feat_path)\n",
        "    feat = np.array(feat_df, dtype=dtype)\n",
        "    return feat\n",
        "\n",
        "\n",
        "def load_adjacency_matrix(adj_path, dtype=np.float32):\n",
        "    adj_df = pd.read_csv(adj_path, header=None)\n",
        "    adj = np.array(adj_df, dtype=dtype)\n",
        "    return adj\n",
        "\n",
        "\n",
        "def generate_dataset(\n",
        "    data, cov_data, seq_len, pre_len, time_len=None, split_ratio=0.8, normalize=True\n",
        "):\n",
        "    \"\"\"\n",
        "    :param data: feature matrix\n",
        "    :param seq_len: length of the train data sequence\n",
        "    :param pre_len: length of the prediction data sequence\n",
        "    :param time_len: length of the time series in total\n",
        "    :param split_ratio: proportion of the training set\n",
        "    :param normalize: scale the data to (0, 1], divide by the maximum value in the data\n",
        "    :return: train set (X, Y) and test set (X, Y)\n",
        "    \"\"\"\n",
        "    if time_len is None:\n",
        "        time_len = data.shape[0]\n",
        "    if normalize:\n",
        "        max_val = np.max(data)\n",
        "        data = data / max_val\n",
        "    train_size = int(time_len * split_ratio)\n",
        "    train_data = data[:train_size]\n",
        "    train_cov = cov_data[:train_size]\n",
        "    test_data = data[train_size:time_len]\n",
        "    test_cov = cov_data[train_size:time_len]\n",
        "    train_X, train_Y, test_X, test_Y = list(), list(), list(), list()\n",
        "    for i in range(len(train_data) - seq_len - pre_len):\n",
        "        train_X.append(np.array(train_cov[i : i + seq_len]))\n",
        "        train_Y.append(np.array(train_data[i + seq_len : i + seq_len + pre_len]))\n",
        "    for i in range(len(test_data) - seq_len - pre_len):\n",
        "        test_X.append(np.array(test_cov[i : i + seq_len]))\n",
        "        test_Y.append(np.array(test_data[i + seq_len : i + seq_len + pre_len]))\n",
        "    return np.array(train_X), np.array(train_Y), np.array(test_X), np.array(test_Y)\n",
        "\n",
        "\n",
        "def generate_torch_datasets(\n",
        "    data, cov_data, seq_len, pre_len, time_len=None, split_ratio=0.8, normalize=True\n",
        "):\n",
        "    train_X, train_Y, test_X, test_Y = generate_dataset(\n",
        "        data,\n",
        "        cov_data,\n",
        "        seq_len,\n",
        "        pre_len,\n",
        "        time_len=time_len,\n",
        "        split_ratio=split_ratio,\n",
        "        normalize=normalize,\n",
        "    )\n",
        "    train_dataset = torch.utils.data.TensorDataset(\n",
        "        torch.FloatTensor(train_X), torch.FloatTensor(train_Y)\n",
        "    )\n",
        "    test_dataset = torch.utils.data.TensorDataset(\n",
        "        torch.FloatTensor(test_X), torch.FloatTensor(test_Y)\n",
        "    )\n",
        "    return train_dataset, test_dataset"
      ]
    },
    {
      "cell_type": "code",
      "execution_count": null,
      "metadata": {
        "id": "xMveJNYmvnIZ"
      },
      "outputs": [],
      "source": [
        "import argparse\n",
        "import numpy as np\n",
        "# import pytorch_lightning as pl\n",
        "from torch.utils.data.dataloader import DataLoader\n",
        "\n",
        "\n",
        "class SpatioTemporalCSVDataModule():\n",
        "    def __init__(\n",
        "        self,\n",
        "        feat_path: str,\n",
        "        adj_path: str,\n",
        "        batch_size: int = 64,\n",
        "        seq_len: int = 12,\n",
        "        pre_len: int = 12,\n",
        "        split_ratio: float = 0.8,\n",
        "        normalize: bool = True,\n",
        "        features=None,\n",
        "        adj_matrix=None,\n",
        "        **kwargs\n",
        "    ):\n",
        "        super(SpatioTemporalCSVDataModule, self).__init__()\n",
        "        self._feat_path = feat_path\n",
        "        self._adj_path = adj_path\n",
        "        self.batch_size = batch_size\n",
        "        self.seq_len = seq_len\n",
        "        self.pre_len = pre_len\n",
        "        self.split_ratio = split_ratio\n",
        "        self.normalize = normalize\n",
        "        self._feat = load_features(self._feat_path)\n",
        "        if features is not None:\n",
        "            self.cov_data = self._feat + features\n",
        "        else:\n",
        "          self.cov_data = self._feat\n",
        "        if adj_matrix is not None:\n",
        "            self._adj = adj_matrix\n",
        "        self._feat_max_val = np.max(self._feat)\n",
        "        self._adj = load_adjacency_matrix(self._adj_path)\n",
        "\n",
        "        self.train_dataset, self.val_dataset = generate_torch_datasets(\n",
        "            self._feat,\n",
        "            self.cov_data,\n",
        "            self.seq_len,\n",
        "            self.pre_len,\n",
        "            split_ratio=self.split_ratio,\n",
        "            normalize=self.normalize,\n",
        "        )\n",
        "\n",
        "    @staticmethod\n",
        "    def add_data_specific_arguments(parent_parser):\n",
        "        parser = argparse.ArgumentParser(parents=[parent_parser], add_help=False)\n",
        "        parser.add_argument(\"--batch_size\", type=int, default=32)\n",
        "        parser.add_argument(\"--seq_len\", type=int, default=12)\n",
        "        parser.add_argument(\"--pre_len\", type=int, default=3)\n",
        "        parser.add_argument(\"--split_ratio\", type=float, default=0.8)\n",
        "        parser.add_argument(\"--normalize\", type=bool, default=True)\n",
        "        return parser\n",
        "\n",
        "    def setup(self, stage: str = None):\n",
        "        (\n",
        "            self.train_dataset,\n",
        "            self.val_dataset,\n",
        "        ) = generate_torch_datasets(\n",
        "            self._feat,\n",
        "            self.seq_len,\n",
        "            self.pre_len,\n",
        "            split_ratio=self.split_ratio,\n",
        "            normalize=self.normalize,\n",
        "        )\n",
        "\n",
        "    def train_dataloader(self):\n",
        "        return DataLoader(self.train_dataset, batch_size=self.batch_size)\n",
        "\n",
        "    def val_dataloader(self):\n",
        "        return DataLoader(self.val_dataset, batch_size=len(self.val_dataset))\n",
        "\n",
        "    @property\n",
        "    def feat_max_val(self):\n",
        "        return self._feat_max_val\n",
        "\n",
        "    @property\n",
        "    def adj(self):\n",
        "        return self._adj"
      ]
    },
    {
      "cell_type": "code",
      "execution_count": null,
      "metadata": {
        "id": "Fi60TAK8vvdf"
      },
      "outputs": [],
      "source": [
        "data_module = SpatioTemporalCSVDataModule(\"/content/los_speed.csv\", \"/content/los_adj.csv\")"
      ]
    },
    {
      "cell_type": "code",
      "execution_count": null,
      "metadata": {
        "id": "jegnllRbxbNI"
      },
      "outputs": [],
      "source": [
        "import numpy as np\n",
        "import scipy.sparse as sp\n",
        "import torch\n",
        "from torch.nn.functional import normalize\n",
        "\n",
        "\n",
        "def calculate_laplacian_with_self_loop(matrix):\n",
        "    matrix = matrix + torch.eye(matrix.size(0))\n",
        "    row_sum = matrix.sum(1)\n",
        "    d_inv_sqrt = torch.pow(row_sum, -0.5).flatten()\n",
        "    d_inv_sqrt[torch.isinf(d_inv_sqrt)] = 0.0\n",
        "    d_mat_inv_sqrt = torch.diag(d_inv_sqrt)\n",
        "    normalized_laplacian = (\n",
        "        matrix.matmul(d_mat_inv_sqrt).transpose(0, 1).matmul(d_mat_inv_sqrt)\n",
        "    )\n",
        "    return normalized_laplacian"
      ]
    },
    {
      "cell_type": "code",
      "execution_count": null,
      "metadata": {
        "id": "bo3k7bV5wQAQ"
      },
      "outputs": [],
      "source": [
        "import argparse\n",
        "import torch\n",
        "import torch.nn as nn\n",
        "\n",
        "\n",
        "class TGCNGraphConvolution(nn.Module):\n",
        "    def __init__(self, adj, num_gru_units: int, output_dim: int, bias: float = 0.0):\n",
        "        super(TGCNGraphConvolution, self).__init__()\n",
        "        self._num_gru_units = num_gru_units\n",
        "        self._output_dim = output_dim\n",
        "        self._bias_init_value = bias\n",
        "        self.register_buffer(\n",
        "            \"laplacian\", calculate_laplacian_with_self_loop(torch.FloatTensor(adj))\n",
        "        )\n",
        "        self.weights = nn.Parameter(\n",
        "            torch.FloatTensor(self._num_gru_units + 1, self._output_dim)\n",
        "        )\n",
        "        self.biases = nn.Parameter(torch.FloatTensor(self._output_dim))\n",
        "        self.reset_parameters()\n",
        "\n",
        "    def reset_parameters(self):\n",
        "        nn.init.xavier_uniform_(self.weights)\n",
        "        nn.init.constant_(self.biases, self._bias_init_value)\n",
        "\n",
        "    def forward(self, inputs, hidden_state):\n",
        "        batch_size, num_nodes = inputs.shape\n",
        "        # inputs (batch_size, num_nodes) -> (batch_size, num_nodes, 1)\n",
        "        inputs = inputs.reshape((batch_size, num_nodes, 1))\n",
        "        # hidden_state (batch_size, num_nodes, num_gru_units)\n",
        "        hidden_state = hidden_state.reshape(\n",
        "            (batch_size, num_nodes, self._num_gru_units)\n",
        "        )\n",
        "        # [x, h] (batch_size, num_nodes, num_gru_units + 1)\n",
        "        concatenation = torch.cat((inputs, hidden_state), dim=2)\n",
        "        # [x, h] (num_nodes, num_gru_units + 1, batch_size)\n",
        "        concatenation = concatenation.transpose(0, 1).transpose(1, 2)\n",
        "        # [x, h] (num_nodes, (num_gru_units + 1) * batch_size)\n",
        "        concatenation = concatenation.reshape(\n",
        "            (num_nodes, (self._num_gru_units + 1) * batch_size)\n",
        "        )\n",
        "        # A[x, h] (num_nodes, (num_gru_units + 1) * batch_size)\n",
        "        a_times_concat = self.laplacian @ concatenation\n",
        "        # A[x, h] (num_nodes, num_gru_units + 1, batch_size)\n",
        "        a_times_concat = a_times_concat.reshape(\n",
        "            (num_nodes, self._num_gru_units + 1, batch_size)\n",
        "        )\n",
        "        # A[x, h] (batch_size, num_nodes, num_gru_units + 1)\n",
        "        a_times_concat = a_times_concat.transpose(0, 2).transpose(1, 2)\n",
        "        # A[x, h] (batch_size * num_nodes, num_gru_units + 1)\n",
        "        a_times_concat = a_times_concat.reshape(\n",
        "            (batch_size * num_nodes, self._num_gru_units + 1)\n",
        "        )\n",
        "        # A[x, h]W + b (batch_size * num_nodes, output_dim)\n",
        "        outputs = a_times_concat @ self.weights + self.biases\n",
        "        # A[x, h]W + b (batch_size, num_nodes, output_dim)\n",
        "        outputs = outputs.reshape((batch_size, num_nodes, self._output_dim))\n",
        "        # A[x, h]W + b (batch_size, num_nodes * output_dim)\n",
        "        outputs = outputs.reshape((batch_size, num_nodes * self._output_dim))\n",
        "        return outputs\n",
        "\n",
        "    @property\n",
        "    def hyperparameters(self):\n",
        "        return {\n",
        "            \"num_gru_units\": self._num_gru_units,\n",
        "            \"output_dim\": self._output_dim,\n",
        "            \"bias_init_value\": self._bias_init_value,\n",
        "        }\n",
        "\n",
        "\n",
        "class TGCNCell(nn.Module):\n",
        "    def __init__(self, adj, input_dim: int, hidden_dim: int):\n",
        "        super(TGCNCell, self).__init__()\n",
        "        self._input_dim = input_dim\n",
        "        self._hidden_dim = hidden_dim\n",
        "        self.register_buffer(\"adj\", torch.FloatTensor(adj))\n",
        "        self.graph_conv1 = TGCNGraphConvolution(\n",
        "            self.adj, self._hidden_dim, self._hidden_dim * 2, bias=1.0\n",
        "        )\n",
        "        self.graph_conv2 = TGCNGraphConvolution(\n",
        "            self.adj, self._hidden_dim, self._hidden_dim\n",
        "        )\n",
        "\n",
        "    def forward(self, inputs, hidden_state):\n",
        "        # [r, u] = sigmoid(A[x, h]W + b)\n",
        "        # [r, u] (batch_size, num_nodes * (2 * num_gru_units))\n",
        "        concatenation = torch.sigmoid(self.graph_conv1(inputs, hidden_state))\n",
        "        # r (batch_size, num_nodes, num_gru_units)\n",
        "        # u (batch_size, num_nodes, num_gru_units)\n",
        "        r, u = torch.chunk(concatenation, chunks=2, dim=1)\n",
        "        # c = tanh(A[x, (r * h)W + b])\n",
        "        # c (batch_size, num_nodes * num_gru_units)\n",
        "        c = torch.tanh(self.graph_conv2(inputs, r * hidden_state))\n",
        "        # h := u * h + (1 - u) * c\n",
        "        # h (batch_size, num_nodes * num_gru_units)\n",
        "        new_hidden_state = u * hidden_state + (1.0 - u) * c\n",
        "        return new_hidden_state, new_hidden_state\n",
        "\n",
        "    @property\n",
        "    def hyperparameters(self):\n",
        "        return {\"input_dim\": self._input_dim, \"hidden_dim\": self._hidden_dim}\n",
        "\n",
        "\n",
        "class TGCN(nn.Module):\n",
        "    def __init__(self, adj, hidden_dim: int, **kwargs):\n",
        "        super(TGCN, self).__init__()\n",
        "        self._input_dim = adj.shape[0]\n",
        "        self._hidden_dim = hidden_dim\n",
        "        self.register_buffer(\"adj\", torch.FloatTensor(adj))\n",
        "        self.tgcn_cell = TGCNCell(self.adj, self._input_dim, self._hidden_dim)\n",
        "\n",
        "    def forward(self, inputs):\n",
        "        batch_size, seq_len, num_nodes = inputs.shape\n",
        "        assert self._input_dim == num_nodes\n",
        "        hidden_state = torch.zeros(batch_size, num_nodes * self._hidden_dim).type_as(\n",
        "            inputs\n",
        "        )\n",
        "        output = None\n",
        "        for i in range(seq_len):\n",
        "            output, hidden_state = self.tgcn_cell(inputs[:, i, :], hidden_state)\n",
        "            output = output.reshape((batch_size, num_nodes, self._hidden_dim))\n",
        "        return output\n",
        "\n",
        "    @staticmethod\n",
        "    def add_model_specific_arguments(parent_parser):\n",
        "        parser = argparse.ArgumentParser(parents=[parent_parser], add_help=False)\n",
        "        parser.add_argument(\"--hidden_dim\", type=int, default=64)\n",
        "        return parser\n",
        "\n",
        "    @property\n",
        "    def hyperparameters(self):\n",
        "        return {\"input_dim\": self._input_dim, \"hidden_dim\": self._hidden_dim}"
      ]
    },
    {
      "cell_type": "code",
      "execution_count": null,
      "metadata": {
        "id": "HeRtOgGf063l"
      },
      "outputs": [],
      "source": [
        "hidden_dim = 32\n",
        "epochs = 100"
      ]
    },
    {
      "cell_type": "code",
      "execution_count": null,
      "metadata": {
        "id": "0zKLqesyzNze"
      },
      "outputs": [],
      "source": [
        "model = TGCN(data_module.adj, hidden_dim=hidden_dim)\n",
        "# python main.py --model_name TGCN --max_epochs 3000 --learning_rate 0.001 --weight_decay 0 --batch_size 32 --hidden_dim 64 --loss mse_with_regularizer --settings supervised --gpus 1\n"
      ]
    },
    {
      "cell_type": "code",
      "execution_count": null,
      "metadata": {
        "id": "Zlbg8FXVxdBc"
      },
      "outputs": [],
      "source": [
        "import torch\n",
        "import torch.nn as nn\n",
        "import torch.optim as optim\n",
        "import torch.nn.functional as F\n",
        "from torch.utils.data import DataLoader\n",
        "import argparse\n",
        "from tqdm import tqdm\n",
        "\n",
        "\n",
        "class SupervisedForecastTask:\n",
        "    def __init__(\n",
        "        self,\n",
        "        model: nn.Module,\n",
        "        regressor=\"linear\",\n",
        "        loss=\"mse\",\n",
        "        pre_len: int = 12,\n",
        "        learning_rate: float = 1e-3,\n",
        "        weight_decay: float = 1.5e-3,\n",
        "        feat_max_val: float = 1.0,\n",
        "        **kwargs\n",
        "    ):\n",
        "        self.model = model\n",
        "        self.regressor = (\n",
        "            nn.Linear(\n",
        "                self.model.hyperparameters.get(\"hidden_dim\")\n",
        "                or self.model.hyperparameters.get(\"output_dim\"),\n",
        "                pre_len,\n",
        "            )\n",
        "            if regressor == \"linear\"\n",
        "            else regressor\n",
        "        )\n",
        "        self._loss = loss\n",
        "        self.feat_max_val = feat_max_val\n",
        "        self.learning_rate = learning_rate\n",
        "        self.weight_decay = weight_decay\n",
        "        self.device = torch.device(\"cuda\" if torch.cuda.is_available() else \"cpu\")\n",
        "\n",
        "        # Move model and regressor to device\n",
        "        self.model.to(self.device)\n",
        "        if self.regressor is not None:\n",
        "            self.regressor.to(self.device)\n",
        "\n",
        "        # Define optimizer\n",
        "        self.optimizer = optim.Adam(\n",
        "            list(self.model.parameters()) + list(self.regressor.parameters())\n",
        "            if self.regressor is not None\n",
        "            else self.model.parameters(),\n",
        "            lr=self.learning_rate,\n",
        "            weight_decay=self.weight_decay,\n",
        "        )\n",
        "\n",
        "    def forward(self, x):\n",
        "        batch_size, _, num_nodes = x.size()\n",
        "        hidden = self.model(x)  # (batch_size, num_nodes, hidden_dim)\n",
        "        hidden = hidden.reshape((-1, hidden.size(2)))  # (batch_size * num_nodes, hidden_dim)\n",
        "        if self.regressor is not None:\n",
        "            predictions = self.regressor(hidden)\n",
        "        else:\n",
        "            predictions = hidden\n",
        "        predictions = predictions.reshape((batch_size, num_nodes, -1))  # (batch_size, num_nodes, pre_len)\n",
        "        return predictions\n",
        "\n",
        "    def loss(self, inputs, targets):\n",
        "        if self._loss == \"mse\":\n",
        "            return F.mse_loss(inputs, targets)\n",
        "        if self._loss == \"mse_with_regularizer\":\n",
        "            return utils.losses.mse_with_regularizer_loss(inputs, targets, self)\n",
        "        raise ValueError(f\"Loss '{self._loss}' not supported\")\n",
        "\n",
        "    def train(self, train_loader, val_loader, epochs):\n",
        "        self.model.train()\n",
        "        if self.regressor is not None:\n",
        "            self.regressor.train()\n",
        "\n",
        "        for epoch in range(epochs):\n",
        "            train_loss = 0.0\n",
        "            for batch in tqdm(train_loader, desc=f\"Epoch {epoch + 1}/{epochs} - Training\"):\n",
        "                x, y = batch\n",
        "                x, y = x.to(self.device), y.to(self.device)\n",
        "\n",
        "\n",
        "                # Forward pass\n",
        "                predictions = self.forward(x)\n",
        "                predictions = predictions.transpose(1, 2).reshape((-1, x.size(2)))  # Reshape predictions\n",
        "                y = y.reshape((-1, y.size(2)))  # Reshape targets\n",
        "\n",
        "                # Compute loss\n",
        "                loss = self.loss(predictions, y)\n",
        "\n",
        "                # Backward pass\n",
        "                self.optimizer.zero_grad()\n",
        "                loss.backward()\n",
        "                self.optimizer.step()\n",
        "\n",
        "                train_loss += loss.item()\n",
        "\n",
        "            avg_train_loss = train_loss / len(train_loader)\n",
        "            print(f\"Epoch {epoch + 1}/{epochs} - Training Loss: {avg_train_loss:.4f}\")\n",
        "\n",
        "            # Run validation\n",
        "            # self.validate(val_loader)\n",
        "\n",
        "    def validate(self, val_loader):\n",
        "        self.model.eval()\n",
        "        if self.regressor is not None:\n",
        "            self.regressor.eval()\n",
        "\n",
        "        val_loss, rmse, mae, r2, explained_var = 0.0, 0.0, 0.0, 0.0, 0.0\n",
        "        with torch.no_grad():\n",
        "            for batch in tqdm(val_loader, desc=\"Validating\"):\n",
        "                x, y = batch\n",
        "                x, y = x.to(self.device), y.to(self.device)\n",
        "\n",
        "                predictions = self.forward(x)\n",
        "                predictions = predictions * self.feat_max_val\n",
        "                y = y * self.feat_max_val\n",
        "\n",
        "                # Compute loss\n",
        "                loss = self.loss(predictions, y)\n",
        "                val_loss += loss.item()\n",
        "\n",
        "                # Metrics\n",
        "                rmse += torch.sqrt(F.mse_loss(predictions, y)).item()\n",
        "                mae += F.l1_loss(predictions, y).item()\n",
        "                r2 += utils.metrics.r2(predictions, y)\n",
        "                explained_var += utils.metrics.explained_variance(predictions, y)\n",
        "\n",
        "        num_batches = len(val_loader)\n",
        "        print(\n",
        "            f\"Validation Loss: {val_loss / num_batches:.4f}, RMSE: {rmse / num_batches:.4f}, \"\n",
        "            f\"MAE: {mae / num_batches:.4f}, R2: {r2 / num_batches:.4f}, Explained Variance: {explained_var / num_batches:.4f}\"\n",
        "        )\n",
        "\n",
        "    @staticmethod\n",
        "    def add_task_specific_arguments(parent_parser):\n",
        "        parser = argparse.ArgumentParser(parents=[parent_parser], add_help=False)\n",
        "        parser.add_argument(\"--learning_rate\", \"--lr\", type=float, default=1e-3)\n",
        "        parser.add_argument(\"--weight_decay\", \"--wd\", type=float, default=1.5e-3)\n",
        "        parser.add_argument(\"--loss\", type=str, default=\"mse\")\n",
        "        return parser"
      ]
    },
    {
      "cell_type": "code",
      "source": [
        "\n",
        "def validate(self, val_loader):\n",
        "        self.model.eval()\n",
        "        if self.regressor is not None:\n",
        "            self.regressor.eval()\n",
        "\n",
        "        val_loss, rmse, mae, r2, explained_var = 0.0, 0.0, 0.0, 0.0, 0.0\n",
        "        accuracy = 0\n",
        "        with torch.no_grad():\n",
        "            for batch in tqdm(val_loader, desc=\"Validating\"):\n",
        "                x, y = batch\n",
        "                x, y = x.to(self.device), y.to(self.device)\n",
        "\n",
        "                predictions = self.forward(x)\n",
        "                predictions = predictions * self.feat_max_val\n",
        "                y = y * self.feat_max_val\n",
        "\n",
        "                predictions = predictions.transpose(1, 2).reshape((-1, x.size(2)))  # Reshape predictions\n",
        "                y = y.reshape((-1, y.size(2)))  # Reshape targets\n",
        "                y = y * self.feat_max_val\n",
        "\n",
        "\n",
        "\n",
        "                # Compute loss\n",
        "                loss = self.loss(predictions, y)\n",
        "                val_loss += loss.item()\n",
        "\n",
        "                # Metrics\n",
        "                rmse += torch.sqrt(F.mse_loss(predictions, y)).item()\n",
        "                mae += F.l1_loss(predictions, y).item()\n",
        "                r2 += r2_f(predictions, y)\n",
        "                explained_var += explained_variance_f(predictions, y)\n",
        "                accuracy += accuracy_f(predictions, y)\n",
        "\n",
        "        num_batches = len(val_loader)\n",
        "        print(\n",
        "            f\"Validation Loss: {val_loss / num_batches:.4f}, RMSE: {rmse / num_batches:.4f}, \"\n",
        "            f\"MAE: {mae / num_batches:.4f}, R2: {r2 / num_batches:.4f}, Explained Variance: {explained_var / num_batches:.4f}\", f\"Accuracy: {accuracy / num_batches:.4f}\"\n",
        "        )"
      ],
      "metadata": {
        "id": "3-rpKbSXNW4Z"
      },
      "execution_count": null,
      "outputs": []
    },
    {
      "cell_type": "code",
      "source": [
        "import torch\n",
        "\n",
        "\n",
        "def accuracy_f(pred, y):\n",
        "    \"\"\"\n",
        "    :param pred: predictions\n",
        "    :param y: ground truth\n",
        "    :return: accuracy, defined as 1 - (norm(y - pred) / norm(y))\n",
        "    \"\"\"\n",
        "    return 1 - torch.linalg.norm(y - pred, \"fro\") / torch.linalg.norm(y, \"fro\")\n",
        "\n",
        "\n",
        "def r2_f(pred, y):\n",
        "    \"\"\"\n",
        "    :param y: ground truth\n",
        "    :param pred: predictions\n",
        "    :return: R square (coefficient of determination)\n",
        "    \"\"\"\n",
        "    return 1 - torch.sum((y - pred) ** 2) / torch.sum((y - torch.mean(pred)) ** 2)\n",
        "\n",
        "\n",
        "def explained_variance_f(pred, y):\n",
        "    return 1 - torch.var(y - pred) / torch.var(y)"
      ],
      "metadata": {
        "id": "KQj_2fq9MmOf"
      },
      "execution_count": null,
      "outputs": []
    },
    {
      "cell_type": "code",
      "execution_count": null,
      "metadata": {
        "id": "7G4uqWTbyfV9"
      },
      "outputs": [],
      "source": [
        "trainer = SupervisedForecastTask(model, feat_max_val=data_module.feat_max_val)"
      ]
    },
    {
      "cell_type": "code",
      "execution_count": null,
      "metadata": {
        "id": "EVl__jsg1HbK",
        "colab": {
          "base_uri": "https://localhost:8080/"
        },
        "outputId": "8ea76420-7e8e-466e-bcff-22e2aed371be"
      },
      "outputs": [
        {
          "output_type": "stream",
          "name": "stderr",
          "text": [
            "Epoch 1/100 - Training: 100%|██████████| 25/25 [00:00<00:00, 46.20it/s]\n"
          ]
        },
        {
          "output_type": "stream",
          "name": "stdout",
          "text": [
            "Epoch 1/100 - Training Loss: 0.3675\n"
          ]
        },
        {
          "output_type": "stream",
          "name": "stderr",
          "text": [
            "Epoch 2/100 - Training: 100%|██████████| 25/25 [00:00<00:00, 49.68it/s]\n"
          ]
        },
        {
          "output_type": "stream",
          "name": "stdout",
          "text": [
            "Epoch 2/100 - Training Loss: 0.1066\n"
          ]
        },
        {
          "output_type": "stream",
          "name": "stderr",
          "text": [
            "Epoch 3/100 - Training: 100%|██████████| 25/25 [00:00<00:00, 46.52it/s]\n"
          ]
        },
        {
          "output_type": "stream",
          "name": "stdout",
          "text": [
            "Epoch 3/100 - Training Loss: 0.0463\n"
          ]
        },
        {
          "output_type": "stream",
          "name": "stderr",
          "text": [
            "Epoch 4/100 - Training: 100%|██████████| 25/25 [00:00<00:00, 47.63it/s]\n"
          ]
        },
        {
          "output_type": "stream",
          "name": "stdout",
          "text": [
            "Epoch 4/100 - Training Loss: 0.0305\n"
          ]
        },
        {
          "output_type": "stream",
          "name": "stderr",
          "text": [
            "Epoch 5/100 - Training: 100%|██████████| 25/25 [00:00<00:00, 47.71it/s]\n"
          ]
        },
        {
          "output_type": "stream",
          "name": "stdout",
          "text": [
            "Epoch 5/100 - Training Loss: 0.0256\n"
          ]
        },
        {
          "output_type": "stream",
          "name": "stderr",
          "text": [
            "Epoch 6/100 - Training: 100%|██████████| 25/25 [00:00<00:00, 49.84it/s]\n"
          ]
        },
        {
          "output_type": "stream",
          "name": "stdout",
          "text": [
            "Epoch 6/100 - Training Loss: 0.0227\n"
          ]
        },
        {
          "output_type": "stream",
          "name": "stderr",
          "text": [
            "Epoch 7/100 - Training: 100%|██████████| 25/25 [00:00<00:00, 47.58it/s]\n"
          ]
        },
        {
          "output_type": "stream",
          "name": "stdout",
          "text": [
            "Epoch 7/100 - Training Loss: 0.0212\n"
          ]
        },
        {
          "output_type": "stream",
          "name": "stderr",
          "text": [
            "Epoch 8/100 - Training: 100%|██████████| 25/25 [00:00<00:00, 48.33it/s]\n"
          ]
        },
        {
          "output_type": "stream",
          "name": "stdout",
          "text": [
            "Epoch 8/100 - Training Loss: 0.0197\n"
          ]
        },
        {
          "output_type": "stream",
          "name": "stderr",
          "text": [
            "Epoch 9/100 - Training: 100%|██████████| 25/25 [00:00<00:00, 47.65it/s]\n"
          ]
        },
        {
          "output_type": "stream",
          "name": "stdout",
          "text": [
            "Epoch 9/100 - Training Loss: 0.0187\n"
          ]
        },
        {
          "output_type": "stream",
          "name": "stderr",
          "text": [
            "Epoch 10/100 - Training: 100%|██████████| 25/25 [00:00<00:00, 46.78it/s]\n"
          ]
        },
        {
          "output_type": "stream",
          "name": "stdout",
          "text": [
            "Epoch 10/100 - Training Loss: 0.0178\n"
          ]
        },
        {
          "output_type": "stream",
          "name": "stderr",
          "text": [
            "Epoch 11/100 - Training: 100%|██████████| 25/25 [00:00<00:00, 48.96it/s]\n"
          ]
        },
        {
          "output_type": "stream",
          "name": "stdout",
          "text": [
            "Epoch 11/100 - Training Loss: 0.0172\n"
          ]
        },
        {
          "output_type": "stream",
          "name": "stderr",
          "text": [
            "Epoch 12/100 - Training: 100%|██████████| 25/25 [00:00<00:00, 47.46it/s]\n"
          ]
        },
        {
          "output_type": "stream",
          "name": "stdout",
          "text": [
            "Epoch 12/100 - Training Loss: 0.0165\n"
          ]
        },
        {
          "output_type": "stream",
          "name": "stderr",
          "text": [
            "Epoch 13/100 - Training: 100%|██████████| 25/25 [00:00<00:00, 47.76it/s]\n"
          ]
        },
        {
          "output_type": "stream",
          "name": "stdout",
          "text": [
            "Epoch 13/100 - Training Loss: 0.0159\n"
          ]
        },
        {
          "output_type": "stream",
          "name": "stderr",
          "text": [
            "Epoch 14/100 - Training: 100%|██████████| 25/25 [00:00<00:00, 46.48it/s]\n"
          ]
        },
        {
          "output_type": "stream",
          "name": "stdout",
          "text": [
            "Epoch 14/100 - Training Loss: 0.0156\n"
          ]
        },
        {
          "output_type": "stream",
          "name": "stderr",
          "text": [
            "Epoch 15/100 - Training: 100%|██████████| 25/25 [00:00<00:00, 47.21it/s]\n"
          ]
        },
        {
          "output_type": "stream",
          "name": "stdout",
          "text": [
            "Epoch 15/100 - Training Loss: 0.0154\n"
          ]
        },
        {
          "output_type": "stream",
          "name": "stderr",
          "text": [
            "Epoch 16/100 - Training: 100%|██████████| 25/25 [00:00<00:00, 47.79it/s]\n"
          ]
        },
        {
          "output_type": "stream",
          "name": "stdout",
          "text": [
            "Epoch 16/100 - Training Loss: 0.0152\n"
          ]
        },
        {
          "output_type": "stream",
          "name": "stderr",
          "text": [
            "Epoch 17/100 - Training: 100%|██████████| 25/25 [00:00<00:00, 48.35it/s]\n"
          ]
        },
        {
          "output_type": "stream",
          "name": "stdout",
          "text": [
            "Epoch 17/100 - Training Loss: 0.0150\n"
          ]
        },
        {
          "output_type": "stream",
          "name": "stderr",
          "text": [
            "Epoch 18/100 - Training: 100%|██████████| 25/25 [00:00<00:00, 40.16it/s]\n"
          ]
        },
        {
          "output_type": "stream",
          "name": "stdout",
          "text": [
            "Epoch 18/100 - Training Loss: 0.0149\n"
          ]
        },
        {
          "output_type": "stream",
          "name": "stderr",
          "text": [
            "Epoch 19/100 - Training: 100%|██████████| 25/25 [00:00<00:00, 35.80it/s]\n"
          ]
        },
        {
          "output_type": "stream",
          "name": "stdout",
          "text": [
            "Epoch 19/100 - Training Loss: 0.0148\n"
          ]
        },
        {
          "output_type": "stream",
          "name": "stderr",
          "text": [
            "Epoch 20/100 - Training: 100%|██████████| 25/25 [00:00<00:00, 35.29it/s]\n"
          ]
        },
        {
          "output_type": "stream",
          "name": "stdout",
          "text": [
            "Epoch 20/100 - Training Loss: 0.0147\n"
          ]
        },
        {
          "output_type": "stream",
          "name": "stderr",
          "text": [
            "Epoch 21/100 - Training: 100%|██████████| 25/25 [00:00<00:00, 31.86it/s]\n"
          ]
        },
        {
          "output_type": "stream",
          "name": "stdout",
          "text": [
            "Epoch 21/100 - Training Loss: 0.0146\n"
          ]
        },
        {
          "output_type": "stream",
          "name": "stderr",
          "text": [
            "Epoch 22/100 - Training: 100%|██████████| 25/25 [00:00<00:00, 41.91it/s]\n"
          ]
        },
        {
          "output_type": "stream",
          "name": "stdout",
          "text": [
            "Epoch 22/100 - Training Loss: 0.0146\n"
          ]
        },
        {
          "output_type": "stream",
          "name": "stderr",
          "text": [
            "Epoch 23/100 - Training: 100%|██████████| 25/25 [00:00<00:00, 49.18it/s]\n"
          ]
        },
        {
          "output_type": "stream",
          "name": "stdout",
          "text": [
            "Epoch 23/100 - Training Loss: 0.0145\n"
          ]
        },
        {
          "output_type": "stream",
          "name": "stderr",
          "text": [
            "Epoch 24/100 - Training: 100%|██████████| 25/25 [00:00<00:00, 47.81it/s]\n"
          ]
        },
        {
          "output_type": "stream",
          "name": "stdout",
          "text": [
            "Epoch 24/100 - Training Loss: 0.0144\n"
          ]
        },
        {
          "output_type": "stream",
          "name": "stderr",
          "text": [
            "Epoch 25/100 - Training: 100%|██████████| 25/25 [00:00<00:00, 49.35it/s]\n"
          ]
        },
        {
          "output_type": "stream",
          "name": "stdout",
          "text": [
            "Epoch 25/100 - Training Loss: 0.0144\n"
          ]
        },
        {
          "output_type": "stream",
          "name": "stderr",
          "text": [
            "Epoch 26/100 - Training: 100%|██████████| 25/25 [00:00<00:00, 48.17it/s]\n"
          ]
        },
        {
          "output_type": "stream",
          "name": "stdout",
          "text": [
            "Epoch 26/100 - Training Loss: 0.0143\n"
          ]
        },
        {
          "output_type": "stream",
          "name": "stderr",
          "text": [
            "Epoch 27/100 - Training: 100%|██████████| 25/25 [00:00<00:00, 48.13it/s]\n"
          ]
        },
        {
          "output_type": "stream",
          "name": "stdout",
          "text": [
            "Epoch 27/100 - Training Loss: 0.0143\n"
          ]
        },
        {
          "output_type": "stream",
          "name": "stderr",
          "text": [
            "Epoch 28/100 - Training: 100%|██████████| 25/25 [00:00<00:00, 47.85it/s]\n"
          ]
        },
        {
          "output_type": "stream",
          "name": "stdout",
          "text": [
            "Epoch 28/100 - Training Loss: 0.0142\n"
          ]
        },
        {
          "output_type": "stream",
          "name": "stderr",
          "text": [
            "Epoch 29/100 - Training: 100%|██████████| 25/25 [00:00<00:00, 49.07it/s]\n"
          ]
        },
        {
          "output_type": "stream",
          "name": "stdout",
          "text": [
            "Epoch 29/100 - Training Loss: 0.0142\n"
          ]
        },
        {
          "output_type": "stream",
          "name": "stderr",
          "text": [
            "Epoch 30/100 - Training: 100%|██████████| 25/25 [00:00<00:00, 48.20it/s]\n"
          ]
        },
        {
          "output_type": "stream",
          "name": "stdout",
          "text": [
            "Epoch 30/100 - Training Loss: 0.0142\n"
          ]
        },
        {
          "output_type": "stream",
          "name": "stderr",
          "text": [
            "Epoch 31/100 - Training: 100%|██████████| 25/25 [00:00<00:00, 48.24it/s]\n"
          ]
        },
        {
          "output_type": "stream",
          "name": "stdout",
          "text": [
            "Epoch 31/100 - Training Loss: 0.0141\n"
          ]
        },
        {
          "output_type": "stream",
          "name": "stderr",
          "text": [
            "Epoch 32/100 - Training: 100%|██████████| 25/25 [00:00<00:00, 48.86it/s]\n"
          ]
        },
        {
          "output_type": "stream",
          "name": "stdout",
          "text": [
            "Epoch 32/100 - Training Loss: 0.0141\n"
          ]
        },
        {
          "output_type": "stream",
          "name": "stderr",
          "text": [
            "Epoch 33/100 - Training: 100%|██████████| 25/25 [00:00<00:00, 46.30it/s]\n"
          ]
        },
        {
          "output_type": "stream",
          "name": "stdout",
          "text": [
            "Epoch 33/100 - Training Loss: 0.0140\n"
          ]
        },
        {
          "output_type": "stream",
          "name": "stderr",
          "text": [
            "Epoch 34/100 - Training: 100%|██████████| 25/25 [00:00<00:00, 50.17it/s]\n"
          ]
        },
        {
          "output_type": "stream",
          "name": "stdout",
          "text": [
            "Epoch 34/100 - Training Loss: 0.0140\n"
          ]
        },
        {
          "output_type": "stream",
          "name": "stderr",
          "text": [
            "Epoch 35/100 - Training: 100%|██████████| 25/25 [00:00<00:00, 46.44it/s]\n"
          ]
        },
        {
          "output_type": "stream",
          "name": "stdout",
          "text": [
            "Epoch 35/100 - Training Loss: 0.0140\n"
          ]
        },
        {
          "output_type": "stream",
          "name": "stderr",
          "text": [
            "Epoch 36/100 - Training: 100%|██████████| 25/25 [00:00<00:00, 50.06it/s]\n"
          ]
        },
        {
          "output_type": "stream",
          "name": "stdout",
          "text": [
            "Epoch 36/100 - Training Loss: 0.0139\n"
          ]
        },
        {
          "output_type": "stream",
          "name": "stderr",
          "text": [
            "Epoch 37/100 - Training: 100%|██████████| 25/25 [00:00<00:00, 45.97it/s]\n"
          ]
        },
        {
          "output_type": "stream",
          "name": "stdout",
          "text": [
            "Epoch 37/100 - Training Loss: 0.0139\n"
          ]
        },
        {
          "output_type": "stream",
          "name": "stderr",
          "text": [
            "Epoch 38/100 - Training: 100%|██████████| 25/25 [00:00<00:00, 50.00it/s]\n"
          ]
        },
        {
          "output_type": "stream",
          "name": "stdout",
          "text": [
            "Epoch 38/100 - Training Loss: 0.0139\n"
          ]
        },
        {
          "output_type": "stream",
          "name": "stderr",
          "text": [
            "Epoch 39/100 - Training: 100%|██████████| 25/25 [00:00<00:00, 47.55it/s]\n"
          ]
        },
        {
          "output_type": "stream",
          "name": "stdout",
          "text": [
            "Epoch 39/100 - Training Loss: 0.0138\n"
          ]
        },
        {
          "output_type": "stream",
          "name": "stderr",
          "text": [
            "Epoch 40/100 - Training: 100%|██████████| 25/25 [00:00<00:00, 49.61it/s]\n"
          ]
        },
        {
          "output_type": "stream",
          "name": "stdout",
          "text": [
            "Epoch 40/100 - Training Loss: 0.0138\n"
          ]
        },
        {
          "output_type": "stream",
          "name": "stderr",
          "text": [
            "Epoch 41/100 - Training: 100%|██████████| 25/25 [00:00<00:00, 35.51it/s]\n"
          ]
        },
        {
          "output_type": "stream",
          "name": "stdout",
          "text": [
            "Epoch 41/100 - Training Loss: 0.0138\n"
          ]
        },
        {
          "output_type": "stream",
          "name": "stderr",
          "text": [
            "Epoch 42/100 - Training: 100%|██████████| 25/25 [00:00<00:00, 36.40it/s]\n"
          ]
        },
        {
          "output_type": "stream",
          "name": "stdout",
          "text": [
            "Epoch 42/100 - Training Loss: 0.0138\n"
          ]
        },
        {
          "output_type": "stream",
          "name": "stderr",
          "text": [
            "Epoch 43/100 - Training: 100%|██████████| 25/25 [00:00<00:00, 33.81it/s]\n"
          ]
        },
        {
          "output_type": "stream",
          "name": "stdout",
          "text": [
            "Epoch 43/100 - Training Loss: 0.0138\n"
          ]
        },
        {
          "output_type": "stream",
          "name": "stderr",
          "text": [
            "Epoch 44/100 - Training: 100%|██████████| 25/25 [00:00<00:00, 32.97it/s]\n"
          ]
        },
        {
          "output_type": "stream",
          "name": "stdout",
          "text": [
            "Epoch 44/100 - Training Loss: 0.0137\n"
          ]
        },
        {
          "output_type": "stream",
          "name": "stderr",
          "text": [
            "Epoch 45/100 - Training: 100%|██████████| 25/25 [00:00<00:00, 47.74it/s]\n"
          ]
        },
        {
          "output_type": "stream",
          "name": "stdout",
          "text": [
            "Epoch 45/100 - Training Loss: 0.0137\n"
          ]
        },
        {
          "output_type": "stream",
          "name": "stderr",
          "text": [
            "Epoch 46/100 - Training: 100%|██████████| 25/25 [00:00<00:00, 47.38it/s]\n"
          ]
        },
        {
          "output_type": "stream",
          "name": "stdout",
          "text": [
            "Epoch 46/100 - Training Loss: 0.0137\n"
          ]
        },
        {
          "output_type": "stream",
          "name": "stderr",
          "text": [
            "Epoch 47/100 - Training: 100%|██████████| 25/25 [00:00<00:00, 47.46it/s]\n"
          ]
        },
        {
          "output_type": "stream",
          "name": "stdout",
          "text": [
            "Epoch 47/100 - Training Loss: 0.0137\n"
          ]
        },
        {
          "output_type": "stream",
          "name": "stderr",
          "text": [
            "Epoch 48/100 - Training: 100%|██████████| 25/25 [00:00<00:00, 49.28it/s]\n"
          ]
        },
        {
          "output_type": "stream",
          "name": "stdout",
          "text": [
            "Epoch 48/100 - Training Loss: 0.0137\n"
          ]
        },
        {
          "output_type": "stream",
          "name": "stderr",
          "text": [
            "Epoch 49/100 - Training: 100%|██████████| 25/25 [00:00<00:00, 47.33it/s]\n"
          ]
        },
        {
          "output_type": "stream",
          "name": "stdout",
          "text": [
            "Epoch 49/100 - Training Loss: 0.0137\n"
          ]
        },
        {
          "output_type": "stream",
          "name": "stderr",
          "text": [
            "Epoch 50/100 - Training: 100%|██████████| 25/25 [00:00<00:00, 50.02it/s]\n"
          ]
        },
        {
          "output_type": "stream",
          "name": "stdout",
          "text": [
            "Epoch 50/100 - Training Loss: 0.0137\n"
          ]
        },
        {
          "output_type": "stream",
          "name": "stderr",
          "text": [
            "Epoch 51/100 - Training: 100%|██████████| 25/25 [00:00<00:00, 47.40it/s]\n"
          ]
        },
        {
          "output_type": "stream",
          "name": "stdout",
          "text": [
            "Epoch 51/100 - Training Loss: 0.0136\n"
          ]
        },
        {
          "output_type": "stream",
          "name": "stderr",
          "text": [
            "Epoch 52/100 - Training: 100%|██████████| 25/25 [00:00<00:00, 50.31it/s]\n"
          ]
        },
        {
          "output_type": "stream",
          "name": "stdout",
          "text": [
            "Epoch 52/100 - Training Loss: 0.0136\n"
          ]
        },
        {
          "output_type": "stream",
          "name": "stderr",
          "text": [
            "Epoch 53/100 - Training: 100%|██████████| 25/25 [00:00<00:00, 46.65it/s]\n"
          ]
        },
        {
          "output_type": "stream",
          "name": "stdout",
          "text": [
            "Epoch 53/100 - Training Loss: 0.0136\n"
          ]
        },
        {
          "output_type": "stream",
          "name": "stderr",
          "text": [
            "Epoch 54/100 - Training: 100%|██████████| 25/25 [00:00<00:00, 49.46it/s]\n"
          ]
        },
        {
          "output_type": "stream",
          "name": "stdout",
          "text": [
            "Epoch 54/100 - Training Loss: 0.0136\n"
          ]
        },
        {
          "output_type": "stream",
          "name": "stderr",
          "text": [
            "Epoch 55/100 - Training: 100%|██████████| 25/25 [00:00<00:00, 47.02it/s]\n"
          ]
        },
        {
          "output_type": "stream",
          "name": "stdout",
          "text": [
            "Epoch 55/100 - Training Loss: 0.0136\n"
          ]
        },
        {
          "output_type": "stream",
          "name": "stderr",
          "text": [
            "Epoch 56/100 - Training: 100%|██████████| 25/25 [00:00<00:00, 49.37it/s]\n"
          ]
        },
        {
          "output_type": "stream",
          "name": "stdout",
          "text": [
            "Epoch 56/100 - Training Loss: 0.0136\n"
          ]
        },
        {
          "output_type": "stream",
          "name": "stderr",
          "text": [
            "Epoch 57/100 - Training: 100%|██████████| 25/25 [00:00<00:00, 48.09it/s]\n"
          ]
        },
        {
          "output_type": "stream",
          "name": "stdout",
          "text": [
            "Epoch 57/100 - Training Loss: 0.0136\n"
          ]
        },
        {
          "output_type": "stream",
          "name": "stderr",
          "text": [
            "Epoch 58/100 - Training: 100%|██████████| 25/25 [00:00<00:00, 48.15it/s]\n"
          ]
        },
        {
          "output_type": "stream",
          "name": "stdout",
          "text": [
            "Epoch 58/100 - Training Loss: 0.0136\n"
          ]
        },
        {
          "output_type": "stream",
          "name": "stderr",
          "text": [
            "Epoch 59/100 - Training: 100%|██████████| 25/25 [00:00<00:00, 48.84it/s]\n"
          ]
        },
        {
          "output_type": "stream",
          "name": "stdout",
          "text": [
            "Epoch 59/100 - Training Loss: 0.0136\n"
          ]
        },
        {
          "output_type": "stream",
          "name": "stderr",
          "text": [
            "Epoch 60/100 - Training: 100%|██████████| 25/25 [00:00<00:00, 46.93it/s]\n"
          ]
        },
        {
          "output_type": "stream",
          "name": "stdout",
          "text": [
            "Epoch 60/100 - Training Loss: 0.0136\n"
          ]
        },
        {
          "output_type": "stream",
          "name": "stderr",
          "text": [
            "Epoch 61/100 - Training: 100%|██████████| 25/25 [00:00<00:00, 49.32it/s]\n"
          ]
        },
        {
          "output_type": "stream",
          "name": "stdout",
          "text": [
            "Epoch 61/100 - Training Loss: 0.0135\n"
          ]
        },
        {
          "output_type": "stream",
          "name": "stderr",
          "text": [
            "Epoch 62/100 - Training: 100%|██████████| 25/25 [00:00<00:00, 46.42it/s]\n"
          ]
        },
        {
          "output_type": "stream",
          "name": "stdout",
          "text": [
            "Epoch 62/100 - Training Loss: 0.0135\n"
          ]
        },
        {
          "output_type": "stream",
          "name": "stderr",
          "text": [
            "Epoch 63/100 - Training: 100%|██████████| 25/25 [00:00<00:00, 46.16it/s]\n"
          ]
        },
        {
          "output_type": "stream",
          "name": "stdout",
          "text": [
            "Epoch 63/100 - Training Loss: 0.0135\n"
          ]
        },
        {
          "output_type": "stream",
          "name": "stderr",
          "text": [
            "Epoch 64/100 - Training: 100%|██████████| 25/25 [00:00<00:00, 34.64it/s]\n"
          ]
        },
        {
          "output_type": "stream",
          "name": "stdout",
          "text": [
            "Epoch 64/100 - Training Loss: 0.0135\n"
          ]
        },
        {
          "output_type": "stream",
          "name": "stderr",
          "text": [
            "Epoch 65/100 - Training: 100%|██████████| 25/25 [00:00<00:00, 36.28it/s]\n"
          ]
        },
        {
          "output_type": "stream",
          "name": "stdout",
          "text": [
            "Epoch 65/100 - Training Loss: 0.0135\n"
          ]
        },
        {
          "output_type": "stream",
          "name": "stderr",
          "text": [
            "Epoch 66/100 - Training: 100%|██████████| 25/25 [00:00<00:00, 33.20it/s]\n"
          ]
        },
        {
          "output_type": "stream",
          "name": "stdout",
          "text": [
            "Epoch 66/100 - Training Loss: 0.0135\n"
          ]
        },
        {
          "output_type": "stream",
          "name": "stderr",
          "text": [
            "Epoch 67/100 - Training: 100%|██████████| 25/25 [00:00<00:00, 39.45it/s]\n"
          ]
        },
        {
          "output_type": "stream",
          "name": "stdout",
          "text": [
            "Epoch 67/100 - Training Loss: 0.0135\n"
          ]
        },
        {
          "output_type": "stream",
          "name": "stderr",
          "text": [
            "Epoch 68/100 - Training: 100%|██████████| 25/25 [00:00<00:00, 48.22it/s]\n"
          ]
        },
        {
          "output_type": "stream",
          "name": "stdout",
          "text": [
            "Epoch 68/100 - Training Loss: 0.0135\n"
          ]
        },
        {
          "output_type": "stream",
          "name": "stderr",
          "text": [
            "Epoch 69/100 - Training: 100%|██████████| 25/25 [00:00<00:00, 48.82it/s]\n"
          ]
        },
        {
          "output_type": "stream",
          "name": "stdout",
          "text": [
            "Epoch 69/100 - Training Loss: 0.0135\n"
          ]
        },
        {
          "output_type": "stream",
          "name": "stderr",
          "text": [
            "Epoch 70/100 - Training: 100%|██████████| 25/25 [00:00<00:00, 47.49it/s]\n"
          ]
        },
        {
          "output_type": "stream",
          "name": "stdout",
          "text": [
            "Epoch 70/100 - Training Loss: 0.0135\n"
          ]
        },
        {
          "output_type": "stream",
          "name": "stderr",
          "text": [
            "Epoch 71/100 - Training: 100%|██████████| 25/25 [00:00<00:00, 48.00it/s]\n"
          ]
        },
        {
          "output_type": "stream",
          "name": "stdout",
          "text": [
            "Epoch 71/100 - Training Loss: 0.0135\n"
          ]
        },
        {
          "output_type": "stream",
          "name": "stderr",
          "text": [
            "Epoch 72/100 - Training: 100%|██████████| 25/25 [00:00<00:00, 47.32it/s]\n"
          ]
        },
        {
          "output_type": "stream",
          "name": "stdout",
          "text": [
            "Epoch 72/100 - Training Loss: 0.0135\n"
          ]
        },
        {
          "output_type": "stream",
          "name": "stderr",
          "text": [
            "Epoch 73/100 - Training: 100%|██████████| 25/25 [00:00<00:00, 46.64it/s]\n"
          ]
        },
        {
          "output_type": "stream",
          "name": "stdout",
          "text": [
            "Epoch 73/100 - Training Loss: 0.0134\n"
          ]
        },
        {
          "output_type": "stream",
          "name": "stderr",
          "text": [
            "Epoch 74/100 - Training: 100%|██████████| 25/25 [00:00<00:00, 48.89it/s]\n"
          ]
        },
        {
          "output_type": "stream",
          "name": "stdout",
          "text": [
            "Epoch 74/100 - Training Loss: 0.0134\n"
          ]
        },
        {
          "output_type": "stream",
          "name": "stderr",
          "text": [
            "Epoch 75/100 - Training: 100%|██████████| 25/25 [00:00<00:00, 48.50it/s]\n"
          ]
        },
        {
          "output_type": "stream",
          "name": "stdout",
          "text": [
            "Epoch 75/100 - Training Loss: 0.0134\n"
          ]
        },
        {
          "output_type": "stream",
          "name": "stderr",
          "text": [
            "Epoch 76/100 - Training: 100%|██████████| 25/25 [00:00<00:00, 48.16it/s]\n"
          ]
        },
        {
          "output_type": "stream",
          "name": "stdout",
          "text": [
            "Epoch 76/100 - Training Loss: 0.0134\n"
          ]
        },
        {
          "output_type": "stream",
          "name": "stderr",
          "text": [
            "Epoch 77/100 - Training: 100%|██████████| 25/25 [00:00<00:00, 49.04it/s]\n"
          ]
        },
        {
          "output_type": "stream",
          "name": "stdout",
          "text": [
            "Epoch 77/100 - Training Loss: 0.0134\n"
          ]
        },
        {
          "output_type": "stream",
          "name": "stderr",
          "text": [
            "Epoch 78/100 - Training: 100%|██████████| 25/25 [00:00<00:00, 48.21it/s]\n"
          ]
        },
        {
          "output_type": "stream",
          "name": "stdout",
          "text": [
            "Epoch 78/100 - Training Loss: 0.0134\n"
          ]
        },
        {
          "output_type": "stream",
          "name": "stderr",
          "text": [
            "Epoch 79/100 - Training: 100%|██████████| 25/25 [00:00<00:00, 49.02it/s]\n"
          ]
        },
        {
          "output_type": "stream",
          "name": "stdout",
          "text": [
            "Epoch 79/100 - Training Loss: 0.0134\n"
          ]
        },
        {
          "output_type": "stream",
          "name": "stderr",
          "text": [
            "Epoch 80/100 - Training: 100%|██████████| 25/25 [00:00<00:00, 47.69it/s]\n"
          ]
        },
        {
          "output_type": "stream",
          "name": "stdout",
          "text": [
            "Epoch 80/100 - Training Loss: 0.0134\n"
          ]
        },
        {
          "output_type": "stream",
          "name": "stderr",
          "text": [
            "Epoch 81/100 - Training: 100%|██████████| 25/25 [00:00<00:00, 48.67it/s]\n"
          ]
        },
        {
          "output_type": "stream",
          "name": "stdout",
          "text": [
            "Epoch 81/100 - Training Loss: 0.0134\n"
          ]
        },
        {
          "output_type": "stream",
          "name": "stderr",
          "text": [
            "Epoch 82/100 - Training: 100%|██████████| 25/25 [00:00<00:00, 47.91it/s]\n"
          ]
        },
        {
          "output_type": "stream",
          "name": "stdout",
          "text": [
            "Epoch 82/100 - Training Loss: 0.0134\n"
          ]
        },
        {
          "output_type": "stream",
          "name": "stderr",
          "text": [
            "Epoch 83/100 - Training: 100%|██████████| 25/25 [00:00<00:00, 47.21it/s]\n"
          ]
        },
        {
          "output_type": "stream",
          "name": "stdout",
          "text": [
            "Epoch 83/100 - Training Loss: 0.0134\n"
          ]
        },
        {
          "output_type": "stream",
          "name": "stderr",
          "text": [
            "Epoch 84/100 - Training: 100%|██████████| 25/25 [00:00<00:00, 46.67it/s]\n"
          ]
        },
        {
          "output_type": "stream",
          "name": "stdout",
          "text": [
            "Epoch 84/100 - Training Loss: 0.0134\n"
          ]
        },
        {
          "output_type": "stream",
          "name": "stderr",
          "text": [
            "Epoch 85/100 - Training: 100%|██████████| 25/25 [00:00<00:00, 48.11it/s]\n"
          ]
        },
        {
          "output_type": "stream",
          "name": "stdout",
          "text": [
            "Epoch 85/100 - Training Loss: 0.0134\n"
          ]
        },
        {
          "output_type": "stream",
          "name": "stderr",
          "text": [
            "Epoch 86/100 - Training: 100%|██████████| 25/25 [00:00<00:00, 37.16it/s]\n"
          ]
        },
        {
          "output_type": "stream",
          "name": "stdout",
          "text": [
            "Epoch 86/100 - Training Loss: 0.0134\n"
          ]
        },
        {
          "output_type": "stream",
          "name": "stderr",
          "text": [
            "Epoch 87/100 - Training: 100%|██████████| 25/25 [00:00<00:00, 37.01it/s]\n"
          ]
        },
        {
          "output_type": "stream",
          "name": "stdout",
          "text": [
            "Epoch 87/100 - Training Loss: 0.0134\n"
          ]
        },
        {
          "output_type": "stream",
          "name": "stderr",
          "text": [
            "Epoch 88/100 - Training: 100%|██████████| 25/25 [00:00<00:00, 34.04it/s]\n"
          ]
        },
        {
          "output_type": "stream",
          "name": "stdout",
          "text": [
            "Epoch 88/100 - Training Loss: 0.0134\n"
          ]
        },
        {
          "output_type": "stream",
          "name": "stderr",
          "text": [
            "Epoch 89/100 - Training: 100%|██████████| 25/25 [00:00<00:00, 32.50it/s]\n"
          ]
        },
        {
          "output_type": "stream",
          "name": "stdout",
          "text": [
            "Epoch 89/100 - Training Loss: 0.0134\n"
          ]
        },
        {
          "output_type": "stream",
          "name": "stderr",
          "text": [
            "Epoch 90/100 - Training: 100%|██████████| 25/25 [00:00<00:00, 46.76it/s]\n"
          ]
        },
        {
          "output_type": "stream",
          "name": "stdout",
          "text": [
            "Epoch 90/100 - Training Loss: 0.0134\n"
          ]
        },
        {
          "output_type": "stream",
          "name": "stderr",
          "text": [
            "Epoch 91/100 - Training: 100%|██████████| 25/25 [00:00<00:00, 47.10it/s]\n"
          ]
        },
        {
          "output_type": "stream",
          "name": "stdout",
          "text": [
            "Epoch 91/100 - Training Loss: 0.0134\n"
          ]
        },
        {
          "output_type": "stream",
          "name": "stderr",
          "text": [
            "Epoch 92/100 - Training: 100%|██████████| 25/25 [00:00<00:00, 49.67it/s]\n"
          ]
        },
        {
          "output_type": "stream",
          "name": "stdout",
          "text": [
            "Epoch 92/100 - Training Loss: 0.0134\n"
          ]
        },
        {
          "output_type": "stream",
          "name": "stderr",
          "text": [
            "Epoch 93/100 - Training: 100%|██████████| 25/25 [00:00<00:00, 47.32it/s]\n"
          ]
        },
        {
          "output_type": "stream",
          "name": "stdout",
          "text": [
            "Epoch 93/100 - Training Loss: 0.0134\n"
          ]
        },
        {
          "output_type": "stream",
          "name": "stderr",
          "text": [
            "Epoch 94/100 - Training: 100%|██████████| 25/25 [00:00<00:00, 49.93it/s]\n"
          ]
        },
        {
          "output_type": "stream",
          "name": "stdout",
          "text": [
            "Epoch 94/100 - Training Loss: 0.0134\n"
          ]
        },
        {
          "output_type": "stream",
          "name": "stderr",
          "text": [
            "Epoch 95/100 - Training: 100%|██████████| 25/25 [00:00<00:00, 46.31it/s]\n"
          ]
        },
        {
          "output_type": "stream",
          "name": "stdout",
          "text": [
            "Epoch 95/100 - Training Loss: 0.0134\n"
          ]
        },
        {
          "output_type": "stream",
          "name": "stderr",
          "text": [
            "Epoch 96/100 - Training: 100%|██████████| 25/25 [00:00<00:00, 50.07it/s]\n"
          ]
        },
        {
          "output_type": "stream",
          "name": "stdout",
          "text": [
            "Epoch 96/100 - Training Loss: 0.0134\n"
          ]
        },
        {
          "output_type": "stream",
          "name": "stderr",
          "text": [
            "Epoch 97/100 - Training: 100%|██████████| 25/25 [00:00<00:00, 46.71it/s]\n"
          ]
        },
        {
          "output_type": "stream",
          "name": "stdout",
          "text": [
            "Epoch 97/100 - Training Loss: 0.0134\n"
          ]
        },
        {
          "output_type": "stream",
          "name": "stderr",
          "text": [
            "Epoch 98/100 - Training: 100%|██████████| 25/25 [00:00<00:00, 49.49it/s]\n"
          ]
        },
        {
          "output_type": "stream",
          "name": "stdout",
          "text": [
            "Epoch 98/100 - Training Loss: 0.0134\n"
          ]
        },
        {
          "output_type": "stream",
          "name": "stderr",
          "text": [
            "Epoch 99/100 - Training: 100%|██████████| 25/25 [00:00<00:00, 46.46it/s]\n"
          ]
        },
        {
          "output_type": "stream",
          "name": "stdout",
          "text": [
            "Epoch 99/100 - Training Loss: 0.0134\n"
          ]
        },
        {
          "output_type": "stream",
          "name": "stderr",
          "text": [
            "Epoch 100/100 - Training: 100%|██████████| 25/25 [00:00<00:00, 47.26it/s]"
          ]
        },
        {
          "output_type": "stream",
          "name": "stdout",
          "text": [
            "Epoch 100/100 - Training Loss: 0.0134\n"
          ]
        },
        {
          "output_type": "stream",
          "name": "stderr",
          "text": [
            "\n"
          ]
        }
      ],
      "source": [
        "trainer.train(data_module.train_dataloader(), data_module.val_dataloader(), epochs)"
      ]
    },
    {
      "cell_type": "code",
      "source": [
        "input = torch.from_numpy(np.asarray(speed.iloc[:12], dtype=np.float32)).reshape(-1, 12, 156)\n",
        "\n",
        "x = input.to(trainer.device)"
      ],
      "metadata": {
        "id": "ujUHL3_R5Ovh"
      },
      "execution_count": null,
      "outputs": []
    },
    {
      "cell_type": "code",
      "source": [
        "\n",
        "with torch.no_grad():\n",
        "  predictions = trainer.forward(x)\n",
        "\n",
        "\n",
        "  predictions = predictions * data_module.feat_max_val\n",
        "\n",
        "  predictions = predictions.transpose(1, 2).reshape((-1, x.size(2)))  # Reshape predictions\n",
        "\n",
        "\n"
      ],
      "metadata": {
        "id": "s2I2EqSn5hT4"
      },
      "execution_count": null,
      "outputs": []
    },
    {
      "cell_type": "code",
      "source": [
        "from matplotlib import pyplot as plt\n",
        "\n",
        "target = (np.asarray(speed.iloc[12:24], dtype=np.float32)[:, 0] * data_module.feat_max_val).tolist()\n",
        "input = np.asarray(speed.iloc[:12], dtype=np.float32)[:, 0].tolist()\n",
        "\n",
        "x = np.linspace(0, 24, 24)\n",
        "\n",
        "\n",
        "plt.plot(input + predictions[:,0].tolist(), label='Prediction')\n",
        "plt.plot(input + target, label='Target')\n",
        "\n",
        "plt.legend(fontsize=12)\n",
        "ax = plt.gca()\n",
        "# Add a vertical line at the start of the input\n",
        "plt.axvline(x=11, color='red', linestyle='--', linewidth=1, label='Input Start')\n",
        "\n",
        "# ax.set_xlim([xmin, xmax])\n",
        "# ax.set_ylim([0, data_module.feat_max_val])"
      ],
      "metadata": {
        "colab": {
          "base_uri": "https://localhost:8080/",
          "height": 448
        },
        "id": "zqi6R0_P6h9q",
        "outputId": "49b35742-5b8e-484e-a57a-e5302f8507b4"
      },
      "execution_count": null,
      "outputs": [
        {
          "output_type": "execute_result",
          "data": {
            "text/plain": [
              "<matplotlib.lines.Line2D at 0x7e70fe8873d0>"
            ]
          },
          "metadata": {},
          "execution_count": 66
        },
        {
          "output_type": "display_data",
          "data": {
            "text/plain": [
              "<Figure size 640x480 with 1 Axes>"
            ],
            "image/png": "[encoded data removed]"
          },
          "metadata": {}
        }
      ]
    },
    {
      "cell_type": "code",
      "source": [
        "with torch.no_grad():\n",
        "    for batch in tqdm(data_module.val_dataloader(), desc=\"Validating\"):\n",
        "        x, y = batch\n",
        "        x, y = x.to(trainer.device), y.to(trainer.device)\n",
        "        # print(x.shape, y.shape)\n",
        "        x = x[200].reshape(1, -1, x.size(2))\n",
        "        y = y[200].reshape(1, -1, y.size(2))\n",
        "\n",
        "        predictions = trainer.forward(x)\n",
        "        predictions = predictions * data_module.feat_max_val\n",
        "        y = y * data_module.feat_max_val\n",
        "\n",
        "        predictions = predictions.transpose(1, 2).reshape((-1, x.size(2)))  # Reshape predictions\n",
        "        y = y.reshape((-1, y.size(2)))  # Reshape targets\n",
        "\n",
        "\n",
        "\n",
        "        input = x[0][:, 0].tolist()\n",
        "\n",
        "        pred = predictions[:, 0].tolist()\n",
        "        target = y[:, 0].tolist()\n",
        "        print(input)\n",
        "        x = [i for i in range(0, 120, 5)]\n",
        "        print(x)\n",
        "        plt.plot(x, input + pred, label='Prediction')\n",
        "        plt.plot(x, input + target, label='Target')\n",
        "\n",
        "        plt.legend(fontsize=12)\n",
        "        plt.axvline(x=55, color='red', linestyle='--', linewidth=1)\n",
        "\n",
        "        # Add a vertical line at the start of the input\n",
        "        plt.xlabel('Time (min)', fontsize=12)\n",
        "        plt.ylabel('Values', fontsize=12)\n",
        "        plt.title('Target vs Prediction over Time - TGCN', fontsize=14)\n",
        "\n",
        "\n",
        "\n",
        "        break"
      ],
      "metadata": {
        "colab": {
          "base_uri": "https://localhost:8080/",
          "height": 531
        },
        "id": "2xrGvaIGAgg1",
        "outputId": "b6b3e5dd-5dd8-4cf1-9daf-1ccebfd119a9"
      },
      "execution_count": null,
      "outputs": [
        {
          "output_type": "stream",
          "name": "stderr",
          "text": [
            "Validating:   0%|          | 0/1 [00:00<?, ?it/s]\n"
          ]
        },
        {
          "output_type": "stream",
          "name": "stdout",
          "text": [
            "[68.625, 68.66666412353516, 68.44444274902344, 68.0, 69.25, 68.625, 67.625, 67.625, 67.44444274902344, 68.0, 68.33333587646484, 67.875]\n",
            "[0, 5, 10, 15, 20, 25, 30, 35, 40, 45, 50, 55, 60, 65, 70, 75, 80, 85, 90, 95, 100, 105, 110, 115]\n"
          ]
        },
        {
          "output_type": "display_data",
          "data": {
            "text/plain": [
              "<Figure size 640x480 with 1 Axes>"
            ],
            "image/png": "[encoded data removed]"
          },
          "metadata": {}
        }
      ]
    },
    {
      "cell_type": "code",
      "execution_count": null,
      "metadata": {
        "id": "bQEQ3dk410sc",
        "colab": {
          "base_uri": "https://localhost:8080/"
        },
        "outputId": "1e71fa71-a3a0-44c3-f169-a2883096afe5"
      },
      "outputs": [
        {
          "output_type": "stream",
          "name": "stderr",
          "text": [
            "Validating: 100%|██████████| 1/1 [00:00<00:00,  3.39it/s]"
          ]
        },
        {
          "output_type": "stream",
          "name": "stdout",
          "text": [
            "Validation Loss: 37.4324, RMSE: 6.1182, MAE: 4.5519, R2: 0.6570, Explained Variance: 0.6570 Accuracy: 0.5734\n"
          ]
        },
        {
          "output_type": "stream",
          "name": "stderr",
          "text": [
            "\n"
          ]
        }
      ],
      "source": [
        "validate(trainer, data_module.val_dataloader())"
      ]
    },
    {
      "cell_type": "code",
      "source": [
        "torch.save(trainer.model.state_dict(), \"/content/TGCN.pkl\")"
      ],
      "metadata": {
        "id": "K6J8u3UZMtkD"
      },
      "execution_count": null,
      "outputs": []
    },
    {
      "cell_type": "code",
      "source": [
        "test = TGCN(data_module.adj, hidden_dim)\n",
        "test.load_state_dict(torch.load(\"/content/TGCN.pkl\", weights_only=True))\n",
        "test.eval()"
      ],
      "metadata": {
        "colab": {
          "base_uri": "https://localhost:8080/"
        },
        "id": "BJLZGPLYSorx",
        "outputId": "f9332624-f31a-4935-c7de-4ddcc11770a4"
      },
      "execution_count": null,
      "outputs": [
        {
          "output_type": "execute_result",
          "data": {
            "text/plain": [
              "TGCN(\n",
              "  (tgcn_cell): TGCNCell(\n",
              "    (graph_conv1): TGCNGraphConvolution()\n",
              "    (graph_conv2): TGCNGraphConvolution()\n",
              "  )\n",
              ")"
            ]
          },
          "metadata": {},
          "execution_count": 29
        }
      ]
    },
    {
      "cell_type": "code",
      "source": [],
      "metadata": {
        "id": "-fkVV24VNvHc"
      },
      "execution_count": null,
      "outputs": []
    },
    {
      "cell_type": "code",
      "source": [],
      "metadata": {
        "id": "87c0OYUnNu_H"
      },
      "execution_count": null,
      "outputs": []
    },
    {
      "cell_type": "code",
      "execution_count": null,
      "metadata": {
        "id": "MUcIgZ3RL8Hp"
      },
      "outputs": [],
      "source": [
        "def compute_time_series_pearson_with_running_mean(adj_matrix, feature_series):\n",
        "    \"\"\"\n",
        "    Compute Pearson correlation matrices for a time series of features using a running mean for neighbor aggregation.\n",
        "\n",
        "    Args:\n",
        "        adj_matrix (np.ndarray): Adjacency matrix of shape (n, n).\n",
        "        feature_series (list[np.ndarray]): List of feature matrices for time steps 1, ..., T.\n",
        "                                           Each feature matrix has shape (n, d).\n",
        "\n",
        "    Returns:\n",
        "        list[np.ndarray]: List of Pearson correlation matrices for each time step t in feature_series.\n",
        "                          Each matrix has shape (n, d).\n",
        "    \"\"\"\n",
        "    n, d = feature_series[0].shape\n",
        "    T = len(feature_series)\n",
        "    correlations_list = []\n",
        "\n",
        "    # Remove self-loops from adjacency matrix\n",
        "    # adj_matrix_no_self = adj_matrix - np.eye(n)\n",
        "    adj_matrix_no_self = adj_matrix\n",
        "\n",
        "\n",
        "    # Initialize running mean and standard deviation for neighbors\n",
        "    running_mean_neighbors = np.zeros((n, d))\n",
        "    running_var_neighbors = np.zeros((n, d))  # Variance to compute std deviation\n",
        "\n",
        "    for t in range(T):\n",
        "        # Current feature set for Graph 2\n",
        "        features2 = feature_series[t] # 207 x 1\n",
        "\n",
        "        # Update running mean and variance for neighbors\n",
        "        if t == 0:\n",
        "            running_mean_neighbors = features2  # Initialize with the first timestep\n",
        "            running_var_neighbors = np.zeros_like(features2)\n",
        "            correlations_list.append(features2)\n",
        "            continue\n",
        "        else:\n",
        "            delta = features2 - running_mean_neighbors\n",
        "            running_mean_neighbors = (running_mean_neighbors * t + features2) / (t + 1)\n",
        "            running_var_neighbors += delta ** 2\n",
        "\n",
        "        # Compute standard deviation for neighbors\n",
        "        running_std_neighbors = np.sqrt(running_var_neighbors / max(1, t))\n",
        "\n",
        "        # Compute correlation for current time step\n",
        "        correlations = np.zeros((n, d))\n",
        "\n",
        "        for i in range(n):\n",
        "            # Find neighbors of node i\n",
        "            neighbors = np.where(adj_matrix_no_self[i] > 0)[0]\n",
        "            if len(neighbors) == 0:\n",
        "                continue  # Skip if no neighbors\n",
        "\n",
        "            # Use running mean of neighbors for aggregation\n",
        "            neighbor_features = running_mean_neighbors[neighbors]  # Shape: (|N_i|, d)\n",
        "\n",
        "            # Feature of node i in Graph 2 (current time step)\n",
        "            node_feature2 = features2[i]  # Shape: (d,)\n",
        "\n",
        "            # Center the data\n",
        "            neighbor_mean = np.mean(neighbor_features, axis=0)  # Shape: (d,)\n",
        "            centered_neighbors = neighbor_features - neighbor_mean  # Shape: (|N_i|, d)\n",
        "            centered_node = node_feature2 - running_mean_neighbors[i]  # Shape: (d,)\n",
        "            centered_node = centered_node.reshape(1, d)\n",
        "            # print(neighbor_features.shape)\n",
        "            # print(neighbor_mean.shape)\n",
        "            # print(centered_neighbors.shape)\n",
        "            # print(node_feature2)\n",
        "            # print(running_mean_neighbors[i])\n",
        "            # print(centered_node.shape, centered_neighbors.shape)\n",
        "\n",
        "            # Compute standard deviations\n",
        "            neighbor_std = np.std(neighbor_features, axis=0)  # Shape: (d,)\n",
        "            node_std = np.std(node_feature2)  # Scalar\n",
        "\n",
        "            # Avoid division by zerossss\n",
        "            neighbor_std[neighbor_std == 0] = 1e-8\n",
        "            node_std = node_std if node_std > 0 else 1e-8\n",
        "\n",
        "\n",
        "            # Compute Pearson correlation\n",
        "            correlation = np.sum(abs(centered_node) * abs(centered_neighbors)) / ((len(neighbors)) * neighbor_std * node_std)\n",
        "            # correlation = np.sum(abs(centered_node) * abs(centered_neighbors)) / ((len(neighbors)))\n",
        "            correlations[i] = correlation\n",
        "\n",
        "        # Append correlation matrix for this time step\n",
        "        correlations_list.append(correlations)\n",
        "\n",
        "    return correlations_list"
      ]
    },
    {
      "cell_type": "code",
      "execution_count": null,
      "metadata": {
        "id": "ugmkQIbXM9Zn"
      },
      "outputs": [],
      "source": [
        "dm = data_module._feat.reshape(-1, 207, 1)"
      ]
    },
    {
      "cell_type": "code",
      "execution_count": null,
      "metadata": {
        "id": "ppJXg-SaDAF9"
      },
      "outputs": [],
      "source": [
        "input = []\n",
        "\n",
        "for arr in dm:\n",
        "  input.append(arr)\n"
      ]
    },
    {
      "cell_type": "code",
      "execution_count": null,
      "metadata": {
        "collapsed": true,
        "id": "qKrMtZcLC2V_"
      },
      "outputs": [],
      "source": [
        "arr = compute_time_series_pearson_with_running_mean(data_module.adj, input)"
      ]
    },
    {
      "cell_type": "code",
      "execution_count": null,
      "metadata": {
        "colab": {
          "base_uri": "https://localhost:8080/"
        },
        "collapsed": true,
        "id": "Eaf71x8eTbid",
        "outputId": "4d72dcc8-e9f5-4fd0-e157-3f7d111ba210"
      },
      "outputs": [
        {
          "output_type": "execute_result",
          "data": {
            "text/plain": [
              "array([[3.48928250e+06],\n",
              "       [1.75176160e+08],\n",
              "       [6.43420880e+07],\n",
              "       [3.93048064e+08],\n",
              "       [5.46608256e+08],\n",
              "       [3.94193408e+08],\n",
              "       [2.18437856e+08],\n",
              "       [7.24085920e+07],\n",
              "       [1.34417696e+08],\n",
              "       [2.25072368e+08],\n",
              "       [1.01708776e+08],\n",
              "       [2.07030064e+08],\n",
              "       [1.04166317e+09],\n",
              "       [4.00712880e+07],\n",
              "       [1.56052210e+07],\n",
              "       [5.84490688e+08],\n",
              "       [2.74253600e+08],\n",
              "       [2.68026848e+08],\n",
              "       [2.80917888e+08],\n",
              "       [2.63561280e+08],\n",
              "       [2.47711220e+07],\n",
              "       [1.42642560e+08],\n",
              "       [8.30132560e+07],\n",
              "       [1.06916840e+07],\n",
              "       [9.35533040e+07],\n",
              "       [2.01564720e+08],\n",
              "       [0.00000000e+00],\n",
              "       [2.93841094e+04],\n",
              "       [8.41922880e+07],\n",
              "       [1.38583120e+08],\n",
              "       [3.72462400e+08],\n",
              "       [8.28017520e+07],\n",
              "       [1.29191816e+08],\n",
              "       [3.24299904e+08],\n",
              "       [1.72657920e+08],\n",
              "       [2.59617824e+08],\n",
              "       [1.02062992e+08],\n",
              "       [4.17176200e+07],\n",
              "       [6.33567488e+08],\n",
              "       [1.64187936e+08],\n",
              "       [2.27766336e+08],\n",
              "       [2.20511344e+08],\n",
              "       [1.80924208e+08],\n",
              "       [4.26285728e+08],\n",
              "       [7.97163950e+06],\n",
              "       [8.13319920e+07],\n",
              "       [1.19925832e+08],\n",
              "       [4.28069024e+08],\n",
              "       [4.61549728e+08],\n",
              "       [6.81874160e+07],\n",
              "       [2.75306176e+08],\n",
              "       [2.76205840e+07],\n",
              "       [3.62980192e+08],\n",
              "       [3.03052820e+07],\n",
              "       [7.26977280e+07],\n",
              "       [3.45910040e+07],\n",
              "       [1.65304224e+08],\n",
              "       [2.18446336e+08],\n",
              "       [4.27143800e+07],\n",
              "       [1.08846040e+08],\n",
              "       [2.90426848e+08],\n",
              "       [5.83191168e+08],\n",
              "       [8.81602688e+08],\n",
              "       [2.77457664e+08],\n",
              "       [1.50813664e+08],\n",
              "       [2.10154432e+08],\n",
              "       [3.48566400e+08],\n",
              "       [5.28893400e+06],\n",
              "       [1.21026584e+08],\n",
              "       [3.28097152e+08],\n",
              "       [1.58718912e+08],\n",
              "       [1.48234800e+08],\n",
              "       [4.52505248e+08],\n",
              "       [3.75634848e+08],\n",
              "       [1.78571152e+08],\n",
              "       [2.37042992e+08],\n",
              "       [1.01649120e+08],\n",
              "       [1.41620480e+08],\n",
              "       [1.82997440e+08],\n",
              "       [2.92688940e+07],\n",
              "       [1.77453696e+08],\n",
              "       [4.00893984e+08],\n",
              "       [4.24778272e+08],\n",
              "       [1.07192176e+08],\n",
              "       [2.91455488e+08],\n",
              "       [2.51450780e+07],\n",
              "       [2.28120336e+08],\n",
              "       [1.93149520e+08],\n",
              "       [1.02125128e+08],\n",
              "       [1.55415024e+08],\n",
              "       [4.13511960e+07],\n",
              "       [6.03679552e+08],\n",
              "       [9.20567280e+07],\n",
              "       [2.59763264e+08],\n",
              "       [2.48921456e+08],\n",
              "       [2.49038140e+07],\n",
              "       [9.14792320e+07],\n",
              "       [3.62863040e+08],\n",
              "       [1.40893776e+08],\n",
              "       [2.32968200e+07],\n",
              "       [2.55315520e+08],\n",
              "       [1.58289776e+08],\n",
              "       [2.62911728e+08],\n",
              "       [1.17528760e+08],\n",
              "       [1.54797856e+08],\n",
              "       [7.36327440e+07],\n",
              "       [1.67021590e+07],\n",
              "       [2.22096820e+07],\n",
              "       [3.95290880e+08],\n",
              "       [7.25405040e+07],\n",
              "       [3.35832760e+07],\n",
              "       [2.05222352e+08],\n",
              "       [7.16576320e+07],\n",
              "       [3.68306272e+08],\n",
              "       [1.81991740e+07],\n",
              "       [6.12794350e+06],\n",
              "       [2.50816064e+08],\n",
              "       [2.51537264e+08],\n",
              "       [1.25005808e+08],\n",
              "       [1.92259952e+08],\n",
              "       [6.75057440e+07],\n",
              "       [2.37999696e+08],\n",
              "       [2.34881024e+08],\n",
              "       [5.80459720e+07],\n",
              "       [2.75885568e+08],\n",
              "       [1.05071536e+08],\n",
              "       [4.41610080e+08],\n",
              "       [3.46859072e+08],\n",
              "       [3.22036256e+08],\n",
              "       [6.05740720e+07],\n",
              "       [1.79351824e+08],\n",
              "       [2.96197792e+08],\n",
              "       [4.45984288e+08],\n",
              "       [2.06809520e+08],\n",
              "       [5.73901960e+07],\n",
              "       [2.59612368e+08],\n",
              "       [1.97482720e+08],\n",
              "       [3.47021824e+08],\n",
              "       [3.09840576e+08],\n",
              "       [1.80222144e+08],\n",
              "       [4.42730592e+08],\n",
              "       [3.62216608e+08],\n",
              "       [6.33424640e+07],\n",
              "       [1.02269512e+08],\n",
              "       [7.14507968e+08],\n",
              "       [1.56384170e+07],\n",
              "       [3.84825280e+08],\n",
              "       [1.32789824e+08],\n",
              "       [3.37840224e+08],\n",
              "       [3.52404064e+08],\n",
              "       [1.24234848e+08],\n",
              "       [2.00186896e+08],\n",
              "       [1.15618808e+08],\n",
              "       [1.71190112e+08],\n",
              "       [3.73696096e+08],\n",
              "       [5.02727520e+08],\n",
              "       [1.15640120e+08],\n",
              "       [3.74064640e+08],\n",
              "       [3.20901536e+08],\n",
              "       [4.64395680e+08],\n",
              "       [7.31458688e+08],\n",
              "       [2.48250400e+08],\n",
              "       [2.35771760e+08],\n",
              "       [7.16352832e+08],\n",
              "       [5.39952960e+08],\n",
              "       [1.53039520e+08],\n",
              "       [2.36433712e+08],\n",
              "       [3.03214440e+07],\n",
              "       [5.61581160e+07],\n",
              "       [8.07188640e+07],\n",
              "       [2.14150720e+07],\n",
              "       [1.23579940e+07],\n",
              "       [3.31256672e+08],\n",
              "       [1.09099010e+07],\n",
              "       [3.30847200e+08],\n",
              "       [2.02613408e+08],\n",
              "       [1.95930992e+08],\n",
              "       [7.09293400e+06],\n",
              "       [5.56034160e+07],\n",
              "       [1.13743744e+08],\n",
              "       [5.04359104e+08],\n",
              "       [1.90305504e+08],\n",
              "       [6.03848960e+07],\n",
              "       [6.17209640e+07],\n",
              "       [1.43381150e+07],\n",
              "       [7.62127200e+07],\n",
              "       [2.42418080e+08],\n",
              "       [7.92859328e+08],\n",
              "       [2.98141664e+08],\n",
              "       [2.94039620e+07],\n",
              "       [2.77271584e+08],\n",
              "       [8.05936896e+08],\n",
              "       [3.33071488e+08],\n",
              "       [8.70876352e+08],\n",
              "       [2.06471920e+08],\n",
              "       [2.52016832e+08],\n",
              "       [2.25280720e+08],\n",
              "       [2.88497472e+08],\n",
              "       [3.41701600e+08],\n",
              "       [3.62717408e+08],\n",
              "       [2.03980032e+08],\n",
              "       [9.83214720e+07],\n",
              "       [7.28917200e+07],\n",
              "       [9.74470240e+07],\n",
              "       [5.68138040e+07],\n",
              "       [1.70234784e+08],\n",
              "       [2.25953152e+08]])"
            ]
          },
          "metadata": {},
          "execution_count": 184
        }
      ],
      "source": [
        "arr[1]"
      ]
    },
    {
      "cell_type": "code",
      "execution_count": null,
      "metadata": {
        "id": "cmz0_hlMUCOn"
      },
      "outputs": [],
      "source": [
        "feat = np.stack(arr, axis=0)"
      ]
    },
    {
      "cell_type": "code",
      "execution_count": null,
      "metadata": {
        "id": "nX_ixwlZU-fz"
      },
      "outputs": [],
      "source": [
        "feat = feat.reshape(-1, 207)"
      ]
    },
    {
      "cell_type": "code",
      "execution_count": null,
      "metadata": {
        "colab": {
          "base_uri": "https://localhost:8080/"
        },
        "id": "vKCTp9swXmbz",
        "outputId": "b661f319-457d-487e-b928-c79ff90364cf"
      },
      "outputs": [
        {
          "output_type": "execute_result",
          "data": {
            "text/plain": [
              "array([[6.27628021e+01, 6.44160995e+01, 6.39782410e+01, ...,\n",
              "        5.76971169e+01, 6.42414246e+01, 5.72315521e+01],\n",
              "       [3.48928250e+06, 1.75176160e+08, 6.43420880e+07, ...,\n",
              "        5.68138040e+07, 1.70234784e+08, 2.25953152e+08],\n",
              "       [6.82234720e+07, 1.46510368e+08, 2.49167776e+08, ...,\n",
              "        1.99697888e+08, 1.90969104e+08, 1.02007280e+08],\n",
              "       ...,\n",
              "       [2.96991328e+08, 1.49935632e+08, 1.85502700e+07, ...,\n",
              "        2.00731648e+08, 4.69504384e+08, 4.31071936e+08],\n",
              "       [1.56549056e+08, 1.63655040e+08, 2.39252848e+08, ...,\n",
              "        1.19760904e+08, 3.56766784e+08, 4.73874720e+08],\n",
              "       [2.65937936e+08, 2.07071680e+08, 1.96925904e+08, ...,\n",
              "        7.21294960e+07, 3.49324576e+08, 1.37643408e+08]])"
            ]
          },
          "metadata": {},
          "execution_count": 187
        }
      ],
      "source": [
        "feat"
      ]
    },
    {
      "cell_type": "code",
      "execution_count": null,
      "metadata": {
        "id": "WsNZdOo2PIUx"
      },
      "outputs": [],
      "source": [
        "covariance_dataset = SpatioTemporalCSVDataModule(\"/content/los_speed.csv\", \"/content/los_adj.csv\", features=feat, adj_matrix=data_module.adj)"
      ]
    },
    {
      "cell_type": "code",
      "execution_count": null,
      "metadata": {
        "id": "r6tL-JlhU3xU"
      },
      "outputs": [],
      "source": [
        "trainer = SupervisedForecastTask(model, feat_max_val=covariance_dataset.feat_max_val)"
      ]
    },
    {
      "cell_type": "code",
      "execution_count": null,
      "metadata": {
        "colab": {
          "base_uri": "https://localhost:8080/"
        },
        "id": "T-iHvB4yVVNZ",
        "outputId": "69bb2040-40fd-49f2-e557-f0eecdb4aec5"
      },
      "outputs": [
        {
          "output_type": "stream",
          "name": "stderr",
          "text": [
            "Epoch 1/10 - Training: 100%|██████████| 25/25 [00:30<00:00,  1.23s/it]\n"
          ]
        },
        {
          "output_type": "stream",
          "name": "stdout",
          "text": [
            "Epoch 1/10 - Training Loss: 0.0609\n"
          ]
        },
        {
          "output_type": "stream",
          "name": "stderr",
          "text": [
            "Epoch 2/10 - Training: 100%|██████████| 25/25 [00:29<00:00,  1.19s/it]\n"
          ]
        },
        {
          "output_type": "stream",
          "name": "stdout",
          "text": [
            "Epoch 2/10 - Training Loss: 0.0476\n"
          ]
        },
        {
          "output_type": "stream",
          "name": "stderr",
          "text": [
            "Epoch 3/10 - Training: 100%|██████████| 25/25 [00:30<00:00,  1.22s/it]\n"
          ]
        },
        {
          "output_type": "stream",
          "name": "stdout",
          "text": [
            "Epoch 3/10 - Training Loss: 0.0536\n"
          ]
        },
        {
          "output_type": "stream",
          "name": "stderr",
          "text": [
            "Epoch 4/10 - Training: 100%|██████████| 25/25 [00:30<00:00,  1.22s/it]\n"
          ]
        },
        {
          "output_type": "stream",
          "name": "stdout",
          "text": [
            "Epoch 4/10 - Training Loss: 0.0489\n"
          ]
        },
        {
          "output_type": "stream",
          "name": "stderr",
          "text": [
            "Epoch 5/10 - Training: 100%|██████████| 25/25 [00:29<00:00,  1.19s/it]\n"
          ]
        },
        {
          "output_type": "stream",
          "name": "stdout",
          "text": [
            "Epoch 5/10 - Training Loss: 0.0371\n"
          ]
        },
        {
          "output_type": "stream",
          "name": "stderr",
          "text": [
            "Epoch 6/10 - Training: 100%|██████████| 25/25 [00:30<00:00,  1.24s/it]\n"
          ]
        },
        {
          "output_type": "stream",
          "name": "stdout",
          "text": [
            "Epoch 6/10 - Training Loss: 0.0427\n"
          ]
        },
        {
          "output_type": "stream",
          "name": "stderr",
          "text": [
            "Epoch 7/10 - Training: 100%|██████████| 25/25 [00:30<00:00,  1.23s/it]\n"
          ]
        },
        {
          "output_type": "stream",
          "name": "stdout",
          "text": [
            "Epoch 7/10 - Training Loss: 0.0382\n"
          ]
        },
        {
          "output_type": "stream",
          "name": "stderr",
          "text": [
            "Epoch 8/10 - Training: 100%|██████████| 25/25 [00:30<00:00,  1.21s/it]\n"
          ]
        },
        {
          "output_type": "stream",
          "name": "stdout",
          "text": [
            "Epoch 8/10 - Training Loss: 0.0479\n"
          ]
        },
        {
          "output_type": "stream",
          "name": "stderr",
          "text": [
            "Epoch 9/10 - Training: 100%|██████████| 25/25 [00:29<00:00,  1.19s/it]\n"
          ]
        },
        {
          "output_type": "stream",
          "name": "stdout",
          "text": [
            "Epoch 9/10 - Training Loss: 0.0346\n"
          ]
        },
        {
          "output_type": "stream",
          "name": "stderr",
          "text": [
            "Epoch 10/10 - Training: 100%|██████████| 25/25 [00:29<00:00,  1.19s/it]"
          ]
        },
        {
          "output_type": "stream",
          "name": "stdout",
          "text": [
            "Epoch 10/10 - Training Loss: 0.0452\n"
          ]
        },
        {
          "output_type": "stream",
          "name": "stderr",
          "text": [
            "\n"
          ]
        }
      ],
      "source": [
        "trainer.train(covariance_dataset.train_dataloader(), covariance_dataset.val_dataloader(), 10)"
      ]
    },
    {
      "cell_type": "code",
      "execution_count": null,
      "metadata": {
        "id": "_P-JmRvyVbDM"
      },
      "outputs": [],
      "source": [
        "with torch.no_grad():\n",
        "    for batch in tqdm(covariance_dataset.val_dataloader(), desc=\"Validating\"):\n",
        "        x, y = batch\n",
        "        # x, y = x, y\n",
        "        print(x.shape)\n",
        "        print(y.shape)\n",
        "        predictions = trainer.forward(x)\n",
        "        print(predictions)\n",
        "        break"
      ]
    },
    {
      "cell_type": "code",
      "execution_count": null,
      "metadata": {
        "id": "e7Gg_hvlW_Tk"
      },
      "outputs": [],
      "source": []
    },
    {
      "cell_type": "code",
      "source": [
        "# 15-min Validating: 100%|██████████| 1/1 [00:02<00:00,  2.09s/it]Validation Loss: 29.0100, RMSE: 5.3861, MAE: 3.5388, R2: 0.8495, Explained Variance: 0.8514 Accuracy: 0.9083\n",
        "# 30-min Validating: 100%|██████████| 1/1 [00:00<00:00, 15.99it/s]Validation Loss: 58.2098, RMSE: 7.6295, MAE: 5.0990, R2: 0.6986, Explained Variance: 0.6986 Accuracy: 0.8701\n",
        "\n",
        "# 45-min Validating: 100%|██████████| 1/1 [00:00<00:00, 16.80it/s]Validation Loss: 69.1587, RMSE: 8.3162, MAE: 5.4171, R2: 0.6448, Explained Variance: 0.6479 Accuracy: 0.8583\n",
        "# 60-min Validating: 100%|██████████| 1/1 [00:00<00:00, 16.60it/s]Validation Loss: 78.9497, RMSE: 8.8854, MAE: 5.7577, R2: 0.5952, Explained Variance: 0.5973 Accuracy: 0.8486"
      ],
      "metadata": {
        "id": "HOsUKRaef-qJ"
      },
      "execution_count": null,
      "outputs": []
    },
    {
      "cell_type": "code",
      "source": [
        "# SZ-taxi\n",
        "# 15min Validating: 100%|██████████| 1/1 [00:00<00:00,  3.65it/s]Validation Loss: 35.9434, RMSE: 5.9953, MAE: 4.4205, R2: 0.6706, Explained Variance: 0.6706 Accuracy: 0.5822\n"
      ],
      "metadata": {
        "id": "peMN-HZaG_HL"
      },
      "execution_count": null,
      "outputs": []
    }
  ],
  "metadata": {
    "colab": {
      "provenance": [],
      "gpuType": "T4",
      "authorship_tag": "ABX9TyNtorXksVIqwv69A5lRm415",
      "include_colab_link": true
    },
    "kernelspec": {
      "display_name": "Python 3",
      "name": "python3"
    },
    "language_info": {
      "name": "python"
    },
    "accelerator": "GPU"
  },
  "nbformat": 4,
  "nbformat_minor": 0
}