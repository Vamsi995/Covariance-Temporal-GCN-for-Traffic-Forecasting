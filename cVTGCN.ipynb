{
  "nbformat": 4,
  "nbformat_minor": 0,
  "metadata": {
    "colab": {
      "provenance": [],
      "gpuType": "T4",
      "include_colab_link": true
    },
    "kernelspec": {
      "name": "python3",
      "display_name": "Python 3"
    },
    "language_info": {
      "name": "python"
    },
    "accelerator": "GPU"
  },
  "cells": [
    {
      "cell_type": "markdown",
      "metadata": {
        "id": "view-in-github",
        "colab_type": "text"
      },
      "source": [
        "<a href=\"https://colab.research.google.com/github/Vamsi995/Covariance-Temporal-GCN-for-Traffic-Forecasting/blob/main/cVTGCN.ipynb\" target=\"_parent\"><img src=\"https://colab.research.google.com/assets/colab-badge.svg\" alt=\"Open In Colab\"/></a>"
      ]
    },
    {
      "cell_type": "code",
      "execution_count": 1,
      "metadata": {
        "id": "1Dj1IYa3DlSf"
      },
      "outputs": [],
      "source": [
        "import numpy as np\n",
        "import pandas as pd\n",
        "import pickle as pkl\n",
        "\n",
        "def load_sz_data():\n",
        "    sz_adj = pd.read_csv(r'/content/sz_adj.csv',header=None)\n",
        "    adj = np.asarray(sz_adj)\n",
        "    sz_tf = pd.read_csv(r'/content/sz_speed.csv')\n",
        "    return sz_tf, adj\n",
        "\n",
        "def load_los_data():\n",
        "    los_adj = pd.read_csv(r'/content/los_adj.csv',header=None)\n",
        "    adj = np.asarray(los_adj)\n",
        "    los_tf = pd.read_csv(r'/content/los_speed.csv')\n",
        "    return los_tf, adj\n",
        "\n",
        "\n",
        "def preprocess_data(data, time_len, rate, seq_len, pre_len):\n",
        "    train_size = int(time_len * rate)\n",
        "    train_data = data[0:train_size]\n",
        "    test_data = data[train_size:time_len]\n",
        "\n",
        "    trainX, trainY, testX, testY = [], [], [], []\n",
        "    for i in range(len(train_data) - seq_len - pre_len):\n",
        "        a = train_data[i: i + seq_len + pre_len]\n",
        "        trainX.append(a[0 : seq_len])\n",
        "        trainY.append(a[seq_len : seq_len + pre_len])\n",
        "    for i in range(len(test_data) - seq_len -pre_len):\n",
        "        b = test_data[i: i + seq_len + pre_len]\n",
        "        testX.append(b[0 : seq_len])\n",
        "        testY.append(b[seq_len : seq_len + pre_len])\n",
        "\n",
        "    trainX1 = np.array(trainX)\n",
        "    trainY1 = np.array(trainY)\n",
        "    testX1 = np.array(testX)\n",
        "    testY1 = np.array(testY)\n",
        "    return trainX1, trainY1, testX1, testY1"
      ]
    },
    {
      "cell_type": "code",
      "execution_count": 2,
      "metadata": {
        "id": "yLXk7jmnEAK5"
      },
      "outputs": [],
      "source": [
        "speed, adj = load_sz_data()"
      ]
    },
    {
      "cell_type": "code",
      "execution_count": 3,
      "metadata": {
        "colab": {
          "base_uri": "https://localhost:8080/"
        },
        "id": "FrPLea8tNu8U",
        "outputId": "7c790692-0ef7-45ef-b902-0b162539c630"
      },
      "outputs": [
        {
          "output_type": "execute_result",
          "data": {
            "text/plain": [
              "(156, 156)"
            ]
          },
          "metadata": {},
          "execution_count": 3
        }
      ],
      "source": [
        "adj.shape"
      ]
    },
    {
      "cell_type": "code",
      "execution_count": 4,
      "metadata": {
        "colab": {
          "base_uri": "https://localhost:8080/"
        },
        "id": "wweGeDqTOc5-",
        "outputId": "e74680f4-338b-4655-8cf8-b63a0c0a2437"
      },
      "outputs": [
        {
          "output_type": "execute_result",
          "data": {
            "text/plain": [
              "(2976, 156)"
            ]
          },
          "metadata": {},
          "execution_count": 4
        }
      ],
      "source": [
        "speed.shape"
      ]
    },
    {
      "cell_type": "code",
      "execution_count": 5,
      "metadata": {
        "id": "eGcaH2q9v0mH"
      },
      "outputs": [],
      "source": [
        "import numpy as np\n",
        "import pandas as pd\n",
        "import torch\n",
        "\n",
        "\n",
        "def load_features(feat_path, dtype=np.float32):\n",
        "    feat_df = pd.read_csv(feat_path)\n",
        "    feat = np.array(feat_df, dtype=dtype)\n",
        "    return feat\n",
        "\n",
        "\n",
        "def load_adjacency_matrix(adj_path, dtype=np.float32):\n",
        "    adj_df = pd.read_csv(adj_path, header=None)\n",
        "    adj = np.array(adj_df, dtype=dtype)\n",
        "    return adj\n",
        "\n",
        "\n",
        "def generate_dataset(\n",
        "    data, cov_data, seq_len, pre_len, time_len=None, split_ratio=0.8, normalize=True\n",
        "):\n",
        "    \"\"\"\n",
        "    :param data: feature matrix\n",
        "    :param seq_len: length of the train data sequence\n",
        "    :param pre_len: length of the prediction data sequence\n",
        "    :param time_len: length of the time series in total\n",
        "    :param split_ratio: proportion of the training set\n",
        "    :param normalize: scale the data to (0, 1], divide by the maximum value in the data\n",
        "    :return: train set (X, Y) and test set (X, Y)\n",
        "    \"\"\"\n",
        "    if time_len is None:\n",
        "        time_len = data.shape[0]\n",
        "    if normalize:\n",
        "        max_val = np.max(data)\n",
        "        data = data / max_val\n",
        "    train_size = int(time_len * split_ratio)\n",
        "    train_data = data[:train_size]\n",
        "    train_cov = cov_data[:train_size]\n",
        "    test_data = data[train_size:time_len]\n",
        "    test_cov = cov_data[train_size:time_len]\n",
        "    train_X, train_Y, test_X, test_Y = list(), list(), list(), list()\n",
        "    for i in range(len(train_data) - seq_len - pre_len):\n",
        "        train_X.append(np.array(train_cov[i : i + seq_len]))\n",
        "        train_Y.append(np.array(train_data[i + seq_len : i + seq_len + pre_len]))\n",
        "    for i in range(len(test_data) - seq_len - pre_len):\n",
        "        test_X.append(np.array(test_cov[i : i + seq_len]))\n",
        "        test_Y.append(np.array(test_data[i + seq_len : i + seq_len + pre_len]))\n",
        "    return np.array(train_X), np.array(train_Y), np.array(test_X), np.array(test_Y)\n",
        "\n",
        "\n",
        "def generate_torch_datasets(\n",
        "    data, cov_data, seq_len, pre_len, time_len=None, split_ratio=0.8, normalize=True\n",
        "):\n",
        "    train_X, train_Y, test_X, test_Y = generate_dataset(\n",
        "        data,\n",
        "        cov_data,\n",
        "        seq_len,\n",
        "        pre_len,\n",
        "        time_len=time_len,\n",
        "        split_ratio=split_ratio,\n",
        "        normalize=normalize,\n",
        "    )\n",
        "    train_dataset = torch.utils.data.TensorDataset(\n",
        "        torch.FloatTensor(train_X), torch.FloatTensor(train_Y)\n",
        "    )\n",
        "    test_dataset = torch.utils.data.TensorDataset(\n",
        "        torch.FloatTensor(test_X), torch.FloatTensor(test_Y)\n",
        "    )\n",
        "    return train_dataset, test_dataset"
      ]
    },
    {
      "cell_type": "code",
      "execution_count": 6,
      "metadata": {
        "id": "xMveJNYmvnIZ"
      },
      "outputs": [],
      "source": [
        "import argparse\n",
        "import numpy as np\n",
        "# import pytorch_lightning as pl\n",
        "from torch.utils.data.dataloader import DataLoader\n",
        "\n",
        "\n",
        "class SpatioTemporalCSVDataModule():\n",
        "    def __init__(\n",
        "        self,\n",
        "        feat_path: str,\n",
        "        adj_path: str,\n",
        "        batch_size: int = 64,\n",
        "        seq_len: int = 12,\n",
        "        pre_len: int = 3,\n",
        "        split_ratio: float = 0.8,\n",
        "        normalize: bool = True,\n",
        "        features=None,\n",
        "        adj_matrix=None,\n",
        "        **kwargs\n",
        "    ):\n",
        "        super(SpatioTemporalCSVDataModule, self).__init__()\n",
        "        self._feat_path = feat_path\n",
        "        self._adj_path = adj_path\n",
        "        self.batch_size = batch_size\n",
        "        self.seq_len = seq_len\n",
        "        self.pre_len = pre_len\n",
        "        self.split_ratio = split_ratio\n",
        "        self.normalize = normalize\n",
        "        self._feat = load_features(self._feat_path)\n",
        "        if features is not None:\n",
        "            self.cov_data = self._feat + features\n",
        "        else:\n",
        "          self.cov_data = self._feat\n",
        "        if adj_matrix is not None:\n",
        "            self._adj = adj_matrix\n",
        "        self._feat_max_val = np.max(self._feat)\n",
        "        self._adj = load_adjacency_matrix(self._adj_path)\n",
        "\n",
        "        self.train_dataset, self.val_dataset = generate_torch_datasets(\n",
        "            self._feat,\n",
        "            self.cov_data,\n",
        "            self.seq_len,\n",
        "            self.pre_len,\n",
        "            split_ratio=self.split_ratio,\n",
        "            normalize=self.normalize,\n",
        "        )\n",
        "\n",
        "    @staticmethod\n",
        "    def add_data_specific_arguments(parent_parser):\n",
        "        parser = argparse.ArgumentParser(parents=[parent_parser], add_help=False)\n",
        "        parser.add_argument(\"--batch_size\", type=int, default=32)\n",
        "        parser.add_argument(\"--seq_len\", type=int, default=12)\n",
        "        parser.add_argument(\"--pre_len\", type=int, default=3)\n",
        "        parser.add_argument(\"--split_ratio\", type=float, default=0.8)\n",
        "        parser.add_argument(\"--normalize\", type=bool, default=True)\n",
        "        return parser\n",
        "\n",
        "    def setup(self, stage: str = None):\n",
        "        (\n",
        "            self.train_dataset,\n",
        "            self.val_dataset,\n",
        "        ) = generate_torch_datasets(\n",
        "            self._feat,\n",
        "            self.seq_len,\n",
        "            self.pre_len,\n",
        "            split_ratio=self.split_ratio,\n",
        "            normalize=self.normalize,\n",
        "        )\n",
        "\n",
        "    def train_dataloader(self):\n",
        "        return DataLoader(self.train_dataset, batch_size=self.batch_size)\n",
        "\n",
        "    def val_dataloader(self):\n",
        "        return DataLoader(self.val_dataset, batch_size=len(self.val_dataset))\n",
        "\n",
        "    @property\n",
        "    def feat_max_val(self):\n",
        "        return self._feat_max_val\n",
        "\n",
        "    @property\n",
        "    def adj(self):\n",
        "        return self._adj"
      ]
    },
    {
      "cell_type": "code",
      "execution_count": 7,
      "metadata": {
        "id": "Fi60TAK8vvdf"
      },
      "outputs": [],
      "source": [
        "data_module = SpatioTemporalCSVDataModule(\"/content/sz_speed.csv\", \"/content/sz_adj.csv\")"
      ]
    },
    {
      "cell_type": "code",
      "execution_count": 8,
      "metadata": {
        "id": "jegnllRbxbNI"
      },
      "outputs": [],
      "source": [
        "import numpy as np\n",
        "import scipy.sparse as sp\n",
        "import torch\n",
        "from torch.nn.functional import normalize\n",
        "\n",
        "\n",
        "def calculate_laplacian_with_self_loop(matrix):\n",
        "    matrix = matrix + torch.eye(matrix.size(0))\n",
        "    row_sum = matrix.sum(1)\n",
        "    d_inv_sqrt = torch.pow(row_sum, -0.5).flatten()\n",
        "    d_inv_sqrt[torch.isinf(d_inv_sqrt)] = 0.0\n",
        "    d_mat_inv_sqrt = torch.diag(d_inv_sqrt)\n",
        "    normalized_laplacian = (\n",
        "        matrix.matmul(d_mat_inv_sqrt).transpose(0, 1).matmul(d_mat_inv_sqrt)\n",
        "    )\n",
        "    return normalized_laplacian"
      ]
    },
    {
      "cell_type": "code",
      "source": [
        "from math import nan\n",
        "import torch\n",
        "import torch.nn as nn\n",
        "import torch.nn.functional as F\n",
        "import argparse\n",
        "\n",
        "\n",
        "\n",
        "class TGCNGraphConvolution(nn.Module):\n",
        "    def __init__(self, adj, num_gru_units: int, output_dim: int, bias: float = 0.0):\n",
        "        super(TGCNGraphConvolution, self).__init__()\n",
        "        self._num_gru_units = num_gru_units\n",
        "        self._output_dim = output_dim\n",
        "        self._bias_init_value = bias\n",
        "        self.register_buffer(\"laplacian\", calculate_laplacian_with_self_loop(torch.FloatTensor(adj)))\n",
        "        self.weights = nn.Parameter(torch.FloatTensor(self._num_gru_units + 1, self._output_dim))\n",
        "        self.biases = nn.Parameter(torch.FloatTensor(self._output_dim))\n",
        "        self.reset_parameters()\n",
        "        self.covariance = None  # Covariance matrix placeholder\n",
        "        self.laplacian_mask = nn.Parameter(torch.ones_like(self.laplacian))  # Learnable mask for Laplacian\n",
        "        self.covariance_mask = nn.Parameter(torch.ones_like(self.laplacian))  # Learnable mask for covariance\n",
        "        self.bottleneck_scores = None\n",
        "\n",
        "\n",
        "    def reset_parameters(self):\n",
        "        nn.init.xavier_uniform_(self.weights)\n",
        "        nn.init.constant_(self.biases, self._bias_init_value)\n",
        "\n",
        "\n",
        "    def update_covariance(self, hidden_state, gamma=0.9):\n",
        "\n",
        "        # print(hidden_state.shape)\n",
        "        \"\"\"\n",
        "        Update covariance matrix dynamically using the hidden state and a decay factor gamma.\n",
        "        \"\"\"\n",
        "        batch_size, num_nodes, num_features = hidden_state.shape\n",
        "        reshaped_hidden = hidden_state.reshape(-1, num_features)  # Flatten to (batch_size * num_nodes, features)\n",
        "        current_covariance = torch.cov(reshaped_hidden.T)\n",
        "\n",
        "        # Initialize or update self.covariance with the same shape as current_covariance\n",
        "        if self.covariance is None:\n",
        "            self.covariance = torch.zeros_like(current_covariance)\n",
        "\n",
        "        # Update self.covariance using the current covariance and decay factor\n",
        "        # print(hidden_state.shape, self.covariance.shape, current_covariance.shape)\n",
        "        self.covariance = (gamma * self.covariance + (1 - gamma) * current_covariance) / torch.trace(self.covariance)\n",
        "        # assert not torch.isnan(self.covariance).any()\n",
        "        print(self.covariance)\n",
        "        self.covariance = torch.nan_to_num(self.covariance)\n",
        "\n",
        "\n",
        "\n",
        "        # Normalize by trace to keep the scale stable\n",
        "        # self.covariance = self.covariance / torch.trace(self.covariance)\n",
        "\n",
        "        # if self.covariance is None:\n",
        "        #     self.covariance = current_covariance\n",
        "        # else:\n",
        "        #     self.covariance = gamma * self.covariance + (1 - gamma) * current_covariance\n",
        "\n",
        "        # self.covariance = self.covariance / torch.trace(self.covariance)  # Trace-normalize\n",
        "    # Apply the covariance filter\n",
        "        # self.filtered_covariance, _ = self.covariance_filter(self.covariance, self.top_k)\n",
        "\n",
        "    def covariance_filter(self, covariance_matrix, top_k):\n",
        "        \"\"\"\n",
        "        Apply a covariance filter by selecting the top-k eigenvectors as a mask.\n",
        "\n",
        "        Args:\n",
        "            covariance_matrix (torch.Tensor): Covariance matrix (N, N).\n",
        "            top_k (int): Number of top eigenvectors to select as the mask.\n",
        "\n",
        "        Returns:\n",
        "            torch.Tensor: Filtered covariance matrix.\n",
        "            torch.Tensor: Selected top eigenvectors.\n",
        "        \"\"\"\n",
        "        # Ensure the covariance matrix is symmetric\n",
        "        assert torch.allclose(covariance_matrix, covariance_matrix.T), \"Matrix must be symmetric.\"\n",
        "\n",
        "        # Compute eigenvalues and eigenvectors\n",
        "        eigenvalues, eigenvectors = torch.linalg.eigh(covariance_matrix)\n",
        "\n",
        "        # Sort eigenvalues and eigenvectors in descending order\n",
        "        sorted_indices = torch.argsort(eigenvalues, descending=True)\n",
        "        top_eigenvectors = eigenvectors[:, sorted_indices[:top_k]]\n",
        "\n",
        "        # Project the covariance matrix using the top eigenvectors\n",
        "        filtered_matrix = top_eigenvectors @ top_eigenvectors.T\n",
        "\n",
        "        return filtered_matrix, top_eigenvectors\n",
        "\n",
        "\n",
        "    def forward(self, inputs, hidden_state):\n",
        "        batch_size, num_nodes = inputs.shape\n",
        "        inputs = inputs.reshape((batch_size, num_nodes, 1))\n",
        "        hidden_state = hidden_state.reshape((batch_size, num_nodes, self._num_gru_units))\n",
        "\n",
        "        # Update covariance using the current hidden state\n",
        "        # self.update_covariance(hidden_state)\n",
        "        # self.covariance, _ = self.covariance_filter(self.covariance, 50)\n",
        "\n",
        "        masked_laplacian = self.laplacian * self.laplacian_mask\n",
        "        masked_covariance = self.covariance * self.covariance_mask\n",
        "\n",
        "        # self.laplacian_filter(self.laplacian, 2)\n",
        "\n",
        "        # Combine Laplacian and masked covariance as Graph Shift Operator (GSO)\n",
        "        mask = masked_laplacian + masked_covariance\n",
        "\n",
        "        # Normalize GSO\n",
        "        mask = mask / torch.linalg.matrix_norm(mask)\n",
        "\n",
        "        # Introduce bottleneck weighting (Diagonal Matrix D_B)\n",
        "        bottleneck_diag = torch.diag(1 - torch.softmax(self.bottleneck_scores, dim=0))  # Shape: (num_nodes, num_nodes)\n",
        "\n",
        "        # Apply Bottleneck-Weighted Graph Convolution (BWGC)\n",
        "        bw_mask = mask @ bottleneck_diag # Scale edges by node importance\n",
        "        # bw_mask = mask # Scale edges by node importance\n",
        "\n",
        "\n",
        "        # Feature concatenation (input + hidden state)\n",
        "        concatenation = torch.cat((inputs, hidden_state), dim=2)\n",
        "        concatenation = concatenation.transpose(0, 1).transpose(1, 2)\n",
        "        concatenation = concatenation.reshape((num_nodes, (self._num_gru_units + 1) * batch_size))\n",
        "\n",
        "        # Apply BWGC (message passing)\n",
        "        a_times_concat = bw_mask @ concatenation  # Bottleneck-weighted aggregation\n",
        "\n",
        "\n",
        "        # concatenation = torch.cat((inputs, hidden_state), dim=2)\n",
        "        # concatenation = concatenation.transpose(0, 1).transpose(1, 2)\n",
        "        # concatenation = concatenation.reshape((num_nodes, (self._num_gru_units + 1) * batch_size))\n",
        "        # a_times_concat = (mask/torch.linalg.matrix_norm(mask)) @ concatenation\n",
        "        a_times_concat = a_times_concat.reshape((num_nodes, self._num_gru_units + 1, batch_size))\n",
        "        a_times_concat = a_times_concat.transpose(0, 2).transpose(1, 2)\n",
        "        a_times_concat = a_times_concat.reshape((batch_size * num_nodes, self._num_gru_units + 1))\n",
        "        outputs = a_times_concat @ self.weights + self.biases\n",
        "        outputs = outputs.reshape((batch_size, num_nodes, self._output_dim))\n",
        "        outputs = outputs.reshape((batch_size, num_nodes * self._output_dim))\n",
        "        return outputs\n",
        "\n",
        "    @property\n",
        "    def hyperparameters(self):\n",
        "        return {\n",
        "            \"num_gru_units\": self._num_gru_units,\n",
        "            \"output_dim\": self._output_dim,\n",
        "            \"bias_init_value\": self._bias_init_value,\n",
        "        }\n",
        "\n",
        "\n",
        "\n",
        "class TGCNCell(nn.Module):\n",
        "    def __init__(self, adj, input_dim: int, hidden_dim: int):\n",
        "        super(TGCNCell, self).__init__()\n",
        "        self._input_dim = input_dim\n",
        "        self._hidden_dim = hidden_dim\n",
        "        self.register_buffer(\"adj\", torch.FloatTensor(adj))\n",
        "        self.graph_conv1 = TGCNGraphConvolution(\n",
        "            self.adj, self._hidden_dim, self._hidden_dim * 2, bias=1.0\n",
        "        )\n",
        "        self.graph_conv2 = TGCNGraphConvolution(\n",
        "            self.adj, self._hidden_dim, self._hidden_dim\n",
        "        )\n",
        "\n",
        "    def forward(self, inputs, hidden_state):\n",
        "        # [r, u] = sigmoid(A[x, h]W + b)\n",
        "        # [r, u] (batch_size, num_nodes * (2 * num_gru_units))\n",
        "        concatenation = torch.sigmoid(self.graph_conv1(inputs, hidden_state))\n",
        "        # r (batch_size, num_nodes, num_gru_units)\n",
        "        # u (batch_size, num_nodes, num_gru_units)\n",
        "        r, u = torch.chunk(concatenation, chunks=2, dim=1)\n",
        "        # c = tanh(A[x, (r * h)W + b])\n",
        "        # c (batch_size, num_nodes * num_gru_units)\n",
        "        c = torch.tanh(self.graph_conv2(inputs, r * hidden_state))\n",
        "        # h := u * h + (1 - u) * c\n",
        "        # h (batch_size, num_nodes * num_gru_units)\n",
        "        new_hidden_state = u * hidden_state + (1.0 - u) * c\n",
        "        return new_hidden_state, new_hidden_state\n",
        "\n",
        "    @property\n",
        "    def hyperparameters(self):\n",
        "        return {\"input_dim\": self._input_dim, \"hidden_dim\": self._hidden_dim}\n",
        "\n",
        "\n",
        "class TGCN(nn.Module):\n",
        "    def __init__(self, adj, hidden_dim: int, **kwargs):\n",
        "        super(TGCN, self).__init__()\n",
        "        self._input_dim = adj.shape[0]\n",
        "        self._hidden_dim = hidden_dim\n",
        "        self.register_buffer(\"adj\", torch.FloatTensor(adj))\n",
        "        self.tgcn_cell = TGCNCell(self.adj, self._input_dim, self._hidden_dim)\n",
        "\n",
        "    def forward(self, inputs):\n",
        "        batch_size, seq_len, num_nodes = inputs.shape\n",
        "        assert self._input_dim == num_nodes\n",
        "        hidden_state = torch.zeros(batch_size, num_nodes * self._hidden_dim).type_as(\n",
        "            inputs\n",
        "        )\n",
        "        output = None\n",
        "        for i in range(seq_len):\n",
        "            output, hidden_state = self.tgcn_cell(inputs[:, i, :], hidden_state)\n",
        "            output = output.reshape((batch_size, num_nodes, self._hidden_dim))\n",
        "        return output\n",
        "\n",
        "    @staticmethod\n",
        "    def add_model_specific_arguments(parent_parser):\n",
        "        parser = argparse.ArgumentParser(parents=[parent_parser], add_help=False)\n",
        "        parser.add_argument(\"--hidden_dim\", type=int, default=64)\n",
        "        return parser\n",
        "\n",
        "    @property\n",
        "    def hyperparameters(self):\n",
        "        return {\"input_dim\": self._input_dim, \"hidden_dim\": self._hidden_dim}"
      ],
      "metadata": {
        "id": "CfWnhUcV0cm0"
      },
      "execution_count": 9,
      "outputs": []
    },
    {
      "cell_type": "code",
      "source": [
        "import torch\n",
        "\n",
        "\n",
        "def accuracy_f(pred, y):\n",
        "    \"\"\"\n",
        "    :param pred: predictions\n",
        "    :param y: ground truth\n",
        "    :return: accuracy, defined as 1 - (norm(y - pred) / norm(y))\n",
        "    \"\"\"\n",
        "    return 1 - torch.linalg.norm(y - pred, \"fro\") / torch.linalg.norm(y, \"fro\")\n",
        "\n",
        "\n",
        "def r2_f(pred, y):\n",
        "    \"\"\"\n",
        "    :param y: ground truth\n",
        "    :param pred: predictions\n",
        "    :return: R square (coefficient of determination)\n",
        "    \"\"\"\n",
        "    return 1 - torch.sum((y - pred) ** 2) / torch.sum((y - torch.mean(pred)) ** 2)\n",
        "\n",
        "\n",
        "def explained_variance_f(pred, y):\n",
        "    return 1 - torch.var(y - pred) / torch.var(y)"
      ],
      "metadata": {
        "id": "0YoGVkNurpFt"
      },
      "execution_count": 10,
      "outputs": []
    },
    {
      "cell_type": "code",
      "source": [
        "import torch\n",
        "import torch.nn as nn\n",
        "import torch.optim as optim\n",
        "from tqdm import tqdm\n",
        "import networkx as nx\n",
        "import random\n",
        "\n",
        "class SupervisedForecastTask:\n",
        "    def __init__(\n",
        "        self,\n",
        "        model: nn.Module,\n",
        "        regressor=\"linear\",\n",
        "        loss=\"mse\",\n",
        "        pre_len: int = 3,\n",
        "        learning_rate: float = 1e-3,\n",
        "        weight_decay: float = 1.5e-3,\n",
        "        feat_max_val: float = 1.0,\n",
        "        gamma: float = 0.9,  # Covariance update factor\n",
        "        **kwargs\n",
        "    ):\n",
        "        self.model = model\n",
        "        self.gamma = gamma\n",
        "        self.regressor = (\n",
        "            nn.Linear(\n",
        "                self.model.hyperparameters.get(\"hidden_dim\")\n",
        "                or self.model.hyperparameters.get(\"output_dim\"),\n",
        "                pre_len,\n",
        "            )\n",
        "            if regressor == \"linear\"\n",
        "            else regressor\n",
        "        )\n",
        "        self._loss = loss\n",
        "        self.feat_max_val = feat_max_val\n",
        "        self.learning_rate = learning_rate\n",
        "        self.weight_decay = weight_decay\n",
        "        self.device = torch.device(\"cuda\" if torch.cuda.is_available() else \"cpu\")\n",
        "        self.covariance = None  # Initialize covariance matrix\n",
        "\n",
        "        self.model.to(self.device)\n",
        "        if self.regressor is not None:\n",
        "            self.regressor.to(self.device)\n",
        "\n",
        "        self.optimizer = optim.Adam(\n",
        "            list(self.model.parameters()) + list(self.regressor.parameters())\n",
        "            if self.regressor is not None\n",
        "            else self.model.parameters(),\n",
        "            lr=self.learning_rate,\n",
        "            weight_decay=self.weight_decay,\n",
        "        )\n",
        "\n",
        "        self.speed, self.adj = load_sz_data()\n",
        "        G = nx.from_numpy_array(self.adj)\n",
        "        self.betweeness_centrality = nx.betweenness_centrality(G)\n",
        "        self.betweeness_centrality = torch.from_numpy(np.array(list(self.betweeness_centrality.values())).astype(np.float32))\n",
        "\n",
        "        self.final_dataset = None\n",
        "\n",
        "        for x, y in data_module.train_dataloader():\n",
        "            if self.final_dataset is None:\n",
        "                self.final_dataset = x\n",
        "            else:\n",
        "                self.final_dataset = torch.cat([self.final_dataset, x], dim=0)\n",
        "\n",
        "        for x, y in data_module.val_dataloader():\n",
        "            self.final_dataset = torch.cat([self.final_dataset, x], dim=0)\n",
        "\n",
        "        self.final_dataset = self.final_dataset.to(self.device)\n",
        "\n",
        "        self.adj = torch.tensor(self.adj, dtype=torch.float32).to(self.device)\n",
        "\n",
        "        self.n = adj.shape[0]\n",
        "        self.alpha_factor = 0.85  # Scaling factor for alpha\n",
        "        self.alpha = self.compute_alpha()  # Compute optimized alpha\n",
        "        self.num_samples = 100\n",
        "\n",
        "    def compute_alpha(self):\n",
        "        \"\"\" Compute the optimal alpha based on the largest eigenvalue of the adjacency matrix. \"\"\"\n",
        "        eigvals = torch.linalg.eigvals(self.adj)  # Compute eigenvalues\n",
        "        lambda_max = torch.max(torch.abs(eigvals))  # Get largest absolute eigenvalue\n",
        "        return self.alpha_factor / lambda_max.item() if lambda_max.item() > 0 else 0.1  # Avoid division by zero\n",
        "\n",
        "    def compute_weights(self, speeds):\n",
        "        \"\"\"\n",
        "        Compute edge weights as inverse min speed.\n",
        "\n",
        "        :param speeds: (b, t, n) tensor of node speeds\n",
        "        :return: (b, t, n, n) weighted adjacency matrix\n",
        "        \"\"\"\n",
        "        b, t, n = speeds.shape\n",
        "        speeds_exp = speeds.unsqueeze(-1).expand(-1, -1, -1, n)  # (b, t, n, n)\n",
        "        min_speeds = torch.min(speeds_exp, speeds_exp.transpose(2, 3))  # Min speed per edge\n",
        "        min_speeds = torch.clamp(min_speeds, min=1e-2)  # Avoid very small values\n",
        "        weights = 1.0 / min_speeds\n",
        "        weights = weights * self.adj\n",
        "        return weights * self.adj  # Apply adjacency mask\n",
        "\n",
        "    def update_bottleneck_scores(self, x):\n",
        "        \"\"\"\n",
        "        Compute approximate betweenness centrality using sampled shortest paths.\n",
        "\n",
        "        :param x: Tensor (b, t, n) of node speeds\n",
        "        :return: Tensor (n,) with averaged betweenness centrality scores\n",
        "        \"\"\"\n",
        "        b, t, n = x.shape\n",
        "        weights = self.compute_weights(x)  # (b, t, n, n)\n",
        "\n",
        "        centrality_scores = torch.zeros((b, t, n), dtype=torch.float32).to(self.device)\n",
        "\n",
        "        for batch in range(b):\n",
        "            for time in range(t):\n",
        "                G = nx.from_numpy_array(weights[batch, time].cpu().numpy(), create_using=nx.Graph)\n",
        "\n",
        "                # Sample node pairs\n",
        "                nodes = list(G.nodes)\n",
        "                sampled_pairs = random.sample([(u, v) for u in nodes for v in nodes if u != v], self.num_samples)\n",
        "\n",
        "                # Compute shortest paths on sampled pairs\n",
        "                betweenness = {node: 0 for node in G.nodes}\n",
        "                for u, v in sampled_pairs:\n",
        "                    try:\n",
        "                        path = nx.shortest_path(G, source=u, target=v, weight='weight')\n",
        "                        for node in path[1:-1]:  # Exclude source & target\n",
        "                            betweenness[node] += 1\n",
        "                    except nx.NetworkXNoPath:\n",
        "                        continue  # Skip if no path\n",
        "\n",
        "                # Normalize and store results\n",
        "                max_bet = max(betweenness.values()) if max(betweenness.values()) > 0 else 1\n",
        "                centrality_scores[batch, time, :] = torch.tensor(\n",
        "                    [betweenness[node] / max_bet for node in range(n)], dtype=torch.float32\n",
        "                ).to(self.device)\n",
        "\n",
        "        # Average over batch and time dimensions\n",
        "        avg_centrality = centrality_scores.mean(dim=(0, 1))  # Shape: (n,)\n",
        "\n",
        "        return avg_centrality\n",
        "\n",
        "    # def update_bottleneck_scores(self, x):\n",
        "    #     \"\"\"\n",
        "    #     Compute betweenness-like centrality using matrix operations.\n",
        "\n",
        "    #     :param x: Tensor (b, t, n) of node speeds\n",
        "    #     :return: Tensor (n,) with averaged centrality scores\n",
        "    #     \"\"\"\n",
        "    #     b, t, n = x.shape\n",
        "    #     weights = self.compute_weights(x)  # (b, t, n, n)\n",
        "\n",
        "    #     # Compute inverse of (I - αW) for Katz centrality approximation\n",
        "    #     I = torch.eye(n, dtype=torch.float32).unsqueeze(0).unsqueeze(0).to(self.device)  # (1, 1, n, n)\n",
        "    #     centrality_matrices = torch.linalg.inv(I - self.alpha * weights).to(self.device) - I  # (b, t, n, n)\n",
        "    #     centrality_scores = centrality_matrices.sum(dim=-1)  # Sum along columns\n",
        "\n",
        "    #     # Average over batch and time\n",
        "    #     avg_centrality = centrality_scores.mean(dim=(0, 1))  # Shape: (n,)\n",
        "\n",
        "    #     return avg_centrality\n",
        "\n",
        "\n",
        "    def forward(self, x):\n",
        "        batch_size, _, num_nodes = x.size()\n",
        "        hidden = self.model(x)  # (batch_size, num_nodes, hidden_dim)\n",
        "        hidden = hidden.reshape((-1, hidden.size(2)))  # (batch_size * num_nodes, hidden_dim)\n",
        "        if self.regressor is not None:\n",
        "            predictions = self.regressor(hidden)\n",
        "        else:\n",
        "            predictions = hidden\n",
        "        predictions = predictions.reshape((batch_size, num_nodes, -1))  # (batch_size, num_nodes, pre_len)\n",
        "        return predictions\n",
        "\n",
        "\n",
        "    def update_covariance(self, x, C_old, gamma, mean):\n",
        "\n",
        "        b, t, n = x.shape\n",
        "\n",
        "        if mean is not None:\n",
        "            C_new = torch.matmul((x - mean).T,x - mean) / x.shape[0]\n",
        "            if C_old is not None:\n",
        "                mean = (1-gamma)*mean + gamma * x.mean(0)\n",
        "                Craw = self.gamma * C_new + (1-gamma) * C_old\n",
        "            else: # First pass, no C_old\n",
        "                mean = x.mean(0)\n",
        "                Craw = C_new\n",
        "        else:\n",
        "            if C_old is not None:\n",
        "                Craw = gamma * torch.cov(x.reshape(b*t, n).T).to(x.device) + (1-gamma) * C_old\n",
        "            else: # First pass, no C_old\n",
        "                Craw = torch.cov(x.reshape(b * t, n).T).to(x.device)\n",
        "                # print(Craw)\n",
        "\n",
        "        if torch.trace(Craw) != 0:\n",
        "          C = Craw / torch.trace(Craw)\n",
        "        else:\n",
        "          C = Craw\n",
        "\n",
        "        return C, Craw, mean\n",
        "\n",
        "\n",
        "\n",
        "\n",
        "    # def update_bottleneck_scores(self, x):\n",
        "\n",
        "\n",
        "    #     def adjust_degree_centrality(degree_centrality, speeds):\n",
        "    #         \"\"\" Adjust precomputed degree centrality by speed at each time step and average. \"\"\"\n",
        "    #         speeds = torch.where(speeds > 0, speeds, torch.tensor(1e-6))  # Avoid division by zero\n",
        "    #         adjusted = degree_centrality[None, None, :] / speeds  # Shape: (batch, time, nodes)\n",
        "    #         return torch.mean(adjusted, dim=(0, 1))  # Average over batch & time, shape: (nodes,)\n",
        "\n",
        "\n",
        "    #     # b, t, n = x.shape\n",
        "\n",
        "    #     # G = nx.from_numpy_array(self.adj)\n",
        "\n",
        "    #     # degree_centrality = nx.degree_centrality(G)\n",
        "    #     # degree_centrality = torch.from_numpy(np.array(list(degree_centrality.values())).astype(np.float32))\n",
        "    #     degree_centrality = self.betweeness_centrality.to(x.device)\n",
        "    #     return adjust_degree_centrality(degree_centrality, x)\n",
        "\n",
        "\n",
        "        # \"\"\"\n",
        "        # Computes betweenness centrality for each time step and averages across batches.\n",
        "\n",
        "        # :param x: Tensor of shape (batch, time, nodes) containing speed values for each node\n",
        "        # :return: Tensor of shape (nodes,) with average betweenness centrality scores\n",
        "        # \"\"\"\n",
        "        # b, t, n = x.shape  # batch, time, nodes\n",
        "        # G = nx.from_numpy_array(self.adj)  # Create base graph structure\n",
        "\n",
        "        # # Store centrality scores for all batch and time steps\n",
        "        # centrality_scores = torch.zeros((b, t, n), dtype=torch.float32)\n",
        "\n",
        "        # for batch in range(b):\n",
        "        #     for time in range(t):\n",
        "        #         # Get node speeds at this time step\n",
        "        #         node_speeds = x[batch, time, :].cpu().numpy()  # Convert to numpy\n",
        "\n",
        "        #         # Compute edge weights based on min speed rule\n",
        "        #         for u, v in G.edges():\n",
        "        #             min_speed = min(node_speeds[u], node_speeds[v])\n",
        "        #             G[u][v]['weight'] = 1 / min_speed if min_speed > 0 else float('inf')  # Avoid division by zero\n",
        "\n",
        "        #         # Compute betweenness centrality with weighted edges\n",
        "        #         betweenness = nx.betweenness_centrality(G, weight='weight')\n",
        "\n",
        "        #         # Store results\n",
        "        #         centrality_scores[batch, time, :] = torch.tensor(list(betweenness.values()), dtype=torch.float32)\n",
        "\n",
        "        # # Average over batch and time dimensions\n",
        "        # avg_betweenness = torch.mean(centrality_scores, dim=(0, 1))  # Shape: (nodes,)\n",
        "\n",
        "        # return avg_betweenness\n",
        "\n",
        "    def train(self, train_loader, val_loader, epochs):\n",
        "        self.model.train()\n",
        "        if self.regressor is not None:\n",
        "            self.regressor.train()\n",
        "\n",
        "        train_losses = []\n",
        "        mae = []\n",
        "\n",
        "        for epoch in range(epochs):\n",
        "            train_loss = 0.0\n",
        "            C_old = None\n",
        "            mean = None\n",
        "            tot_train_loss = []\n",
        "\n",
        "            for batch in tqdm(train_loader, desc=f\"Epoch {epoch + 1}/{epochs} - Training\"):\n",
        "                x, y = batch\n",
        "                x, y = x.to(self.device), y.to(self.device)\n",
        "\n",
        "                # if hasattr(self.model, \"tgcn_cell\"):\n",
        "                C, C_old, mean = self.update_covariance(x, C_old, gamma=self.gamma,\n",
        "                                               mean=mean)\n",
        "\n",
        "                self.bottleneck_scores = self.update_bottleneck_scores(x)\n",
        "                # print(self.bottleneck_scores)\n",
        "\n",
        "                for graph_layer in [self.model.tgcn_cell.graph_conv1, self.model.tgcn_cell.graph_conv2]:\n",
        "                    graph_layer.covariance = C\n",
        "                    graph_layer.bottleneck_scores = self.bottleneck_scores\n",
        "\n",
        "                # Forward pass\n",
        "                predictions = self.forward(x)\n",
        "\n",
        "                # Update covariance matrix dynamically\n",
        "                predictions = predictions.transpose(1, 2).reshape((-1, x.size(2)))  # Reshape predictions\n",
        "                y = y.reshape((-1, y.size(2)))  # Reshape targets\n",
        "\n",
        "                # Compute loss\n",
        "                loss = self.loss(predictions, y)\n",
        "\n",
        "                # Backward pass\n",
        "                self.optimizer.zero_grad()\n",
        "                loss.backward()\n",
        "                self.optimizer.step()\n",
        "\n",
        "                train_loss += loss.item()\n",
        "\n",
        "            avg_train_loss = train_loss / len(train_loader)\n",
        "            print(f\"Epoch {epoch + 1}/{epochs} - Training Loss: {avg_train_loss:.4f}\")\n",
        "            train_losses.append(avg_train_loss)\n",
        "            mae.append(self.validate(val_loader))\n",
        "\n",
        "        return train_losses, mae\n",
        "\n",
        "\n",
        "\n",
        "    def validate(self, val_loader):\n",
        "        # Validation logic remains the same\n",
        "        self.model.eval()\n",
        "        if self.regressor is not None:\n",
        "            self.regressor.eval()\n",
        "        # mean = final_dataset.mean(0).mean(0)\n",
        "        mean = None\n",
        "        b, t, n = self.final_dataset.shape\n",
        "        self.final_dataset = self.final_dataset.to(self.device)\n",
        "        C_old = torch.cov(self.final_dataset.reshape(b*t, n).T)\n",
        "        val_loss, rmse, mae, r2, explained_var = 0.0, 0.0, 0.0, 0.0, 0.0\n",
        "        acc = 0\n",
        "        C_old = C_old.to(self.device)\n",
        "        with torch.no_grad():\n",
        "            for batch in tqdm(val_loader, desc=\"Validating\"):\n",
        "                x, y = batch\n",
        "                x, y = x.to(self.device), y.to(self.device)\n",
        "\n",
        "                # print(x.shape, mean.shape)\n",
        "                C, C_old, mean = self.update_covariance(x, C_old, gamma=self.gamma,\n",
        "                                               mean=mean)\n",
        "\n",
        "                self.bottleneck_score = self.update_bottleneck_scores(x)\n",
        "\n",
        "                for graph_layer in [self.model.tgcn_cell.graph_conv1, self.model.tgcn_cell.graph_conv2]:\n",
        "                    graph_layer.covariance = C\n",
        "                    graph_layer.bottleneck_scores = self.bottleneck_score\n",
        "\n",
        "\n",
        "                predictions = self.forward(x)\n",
        "                predictions = predictions * data_module.feat_max_val\n",
        "\n",
        "                predictions = predictions.transpose(1, 2).reshape((-1, x.size(2)))  # Reshape predictions\n",
        "                y = y.reshape((-1, y.size(2)))  # Reshape targets\n",
        "                y = y * data_module.feat_max_val\n",
        "\n",
        "\n",
        "\n",
        "                # Compute loss\n",
        "                loss = self.loss(predictions, y)\n",
        "                val_loss += loss.item()\n",
        "\n",
        "                # Metrics\n",
        "                rmse += torch.sqrt(F.mse_loss(predictions, y)).item()\n",
        "                mae += F.l1_loss(predictions, y).item()\n",
        "                r2 += r2_f(predictions, y)\n",
        "                explained_var += explained_variance_f(predictions, y)\n",
        "                acc += accuracy_f(predictions, y)\n",
        "\n",
        "        num_batches = len(val_loader)\n",
        "        print(\n",
        "            f\"Validation Loss: {val_loss / num_batches:.4f}, RMSE: {rmse / num_batches:.4f}, \"\n",
        "            f\"MAE: {mae / num_batches:.4f}, R2: {r2 / num_batches:.4f}, Explained Variance: {explained_var / num_batches:.4f}\", f\"Accuracy: {acc / num_batches:.4f}\"\n",
        "        )\n",
        "\n",
        "        return mae / num_batches\n",
        "\n",
        "    def loss(self, inputs, targets):\n",
        "        if self._loss == \"mse\":\n",
        "            return F.mse_loss(inputs, targets)\n",
        "        if self._loss == \"mse_with_regularizer\":\n",
        "            return utils.losses.mse_with_regularizer_loss(inputs, targets, self)\n",
        "        raise ValueError(f\"Loss '{self._loss}' not supported\")\n",
        "\n"
      ],
      "metadata": {
        "id": "dtMg1wSwu_-W"
      },
      "execution_count": 19,
      "outputs": []
    },
    {
      "cell_type": "code",
      "source": [
        "hidden_dim = 32\n",
        "epochs = 100\n",
        "model = TGCN(data_module.adj, hidden_dim)"
      ],
      "metadata": {
        "id": "WExzTTTNvUeO"
      },
      "execution_count": 20,
      "outputs": []
    },
    {
      "cell_type": "code",
      "source": [
        "trainer = SupervisedForecastTask(model, feat_max_val=data_module.feat_max_val)"
      ],
      "metadata": {
        "id": "o8nZ2bRCvCFk"
      },
      "execution_count": 21,
      "outputs": []
    },
    {
      "cell_type": "code",
      "source": [
        "train_losses, mae = trainer.train(data_module.train_dataloader(), data_module.val_dataloader(), epochs)"
      ],
      "metadata": {
        "colab": {
          "base_uri": "https://localhost:8080/"
        },
        "id": "Mx8Hl-orwll7",
        "outputId": "3ae78d78-b49d-4f61-9759-80d6224333ad"
      },
      "execution_count": null,
      "outputs": [
        {
          "output_type": "stream",
          "name": "stderr",
          "text": [
            "Epoch 1/100 - Training: 100%|██████████| 37/37 [07:34<00:00, 12.27s/it]\n"
          ]
        },
        {
          "output_type": "stream",
          "name": "stdout",
          "text": [
            "Epoch 1/100 - Training Loss: 0.0201\n"
          ]
        },
        {
          "output_type": "stream",
          "name": "stderr",
          "text": [
            "Validating: 100%|██████████| 1/1 [01:52<00:00, 112.76s/it]\n"
          ]
        },
        {
          "output_type": "stream",
          "name": "stdout",
          "text": [
            "Validation Loss: 61.1140, RMSE: 7.8175, MAE: 6.5219, R2: 0.4631, Explained Variance: 0.4831 Accuracy: 0.4552\n"
          ]
        },
        {
          "output_type": "stream",
          "name": "stderr",
          "text": [
            "Epoch 2/100 - Training: 100%|██████████| 37/37 [07:31<00:00, 12.20s/it]\n"
          ]
        },
        {
          "output_type": "stream",
          "name": "stdout",
          "text": [
            "Epoch 2/100 - Training Loss: 0.0117\n"
          ]
        },
        {
          "output_type": "stream",
          "name": "stderr",
          "text": [
            "Validating: 100%|██████████| 1/1 [01:52<00:00, 112.45s/it]\n"
          ]
        },
        {
          "output_type": "stream",
          "name": "stdout",
          "text": [
            "Validation Loss: 44.1967, RMSE: 6.6481, MAE: 5.3922, R2: 0.5987, Explained Variance: 0.6042 Accuracy: 0.5367\n"
          ]
        },
        {
          "output_type": "stream",
          "name": "stderr",
          "text": [
            "Epoch 3/100 - Training:  59%|█████▉    | 22/37 [04:33<03:08, 12.60s/it]"
          ]
        }
      ]
    },
    {
      "cell_type": "code",
      "source": [
        "import matplotlib.pyplot as plt\n",
        "\n",
        "# Assuming you have these lists from your training process\n",
        "epochs = range(1, len(train_losses) + 1)  # Epoch indices\n",
        "\n",
        "# Create a figure for Training Loss\n",
        "plt.figure(figsize=(8, 4))\n",
        "plt.plot(epochs, train_losses, color='b', label='Training Loss')\n",
        "plt.xlabel('Epochs')\n",
        "plt.ylabel('Loss')\n",
        "plt.title('Training Loss per Epoch')\n",
        "plt.legend()\n",
        "plt.grid(True)\n",
        "plt.show()  # Show Training Loss plot\n",
        "\n",
        "# Create a separate figure for MAE\n",
        "plt.figure(figsize=(8, 4))\n",
        "plt.plot(epochs, mae, color='r', label='MAE')\n",
        "plt.xlabel('Epochs')\n",
        "plt.ylabel('Mean Absolute Error')\n",
        "plt.title('MAE per Epoch')\n",
        "plt.legend()\n",
        "plt.grid(True)\n",
        "plt.show()  # Show MAE plot\n"
      ],
      "metadata": {
        "id": "oou1rJ14_Y2q",
        "outputId": "a40e2a89-0465-44c9-b0ab-0ad50be5237d",
        "colab": {
          "base_uri": "https://localhost:8080/",
          "height": 803
        }
      },
      "execution_count": 161,
      "outputs": [
        {
          "output_type": "display_data",
          "data": {
            "text/plain": [
              "<Figure size 800x400 with 1 Axes>"
            ],
            "image/png": "[encoded data removed]"
          },
          "metadata": {}
        },
        {
          "output_type": "display_data",
          "data": {
            "text/plain": [
              "<Figure size 800x400 with 1 Axes>"
            ],
            "image/png": "[encoded data removed]"
          },
          "metadata": {}
        }
      ]
    },
    {
      "cell_type": "code",
      "source": [
        "import numpy as np\n",
        "\n",
        "arr = np.array(train_losses)\n",
        "\n",
        "# Save the array to a binary .npy file\n",
        "np.save(\"with_katz_centrality_train_losses.npy\", arr)\n",
        "\n",
        "# Load the array back from the file\n",
        "# loaded_arr = np.load(\"my_array.npy\")"
      ],
      "metadata": {
        "id": "wManxdywwObG"
      },
      "execution_count": 163,
      "outputs": []
    },
    {
      "cell_type": "code",
      "source": [
        "with torch.no_grad():\n",
        "    for batch in tqdm(data_module.val_dataloader(), desc=\"Validating\"):\n",
        "        x, y = batch\n",
        "        x, y = x.to(trainer.device), y.to(trainer.device)\n",
        "        # print(x.shape, y.shape)\n",
        "        x = x[220].reshape(1, -1, x.size(2))\n",
        "        y = y[220].reshape(1, -1, y.size(2))\n",
        "\n",
        "        predictions = trainer.forward(x)\n",
        "        predictions = predictions * data_module.feat_max_val\n",
        "        y = y * data_module.feat_max_val\n",
        "\n",
        "        predictions = predictions.transpose(1, 2).reshape((-1, x.size(2)))  # Reshape predictions\n",
        "        y = y.reshape((-1, y.size(2)))  # Reshape targets\n",
        "\n",
        "\n",
        "\n",
        "        input = x[0][:, 0].tolist()\n",
        "\n",
        "        pred = predictions[:, 0].tolist()\n",
        "        target = y[:, 0].tolist()\n",
        "        print(input)\n",
        "        x = [i for i in range(0, 120, 5)]\n",
        "        print(x)\n",
        "        plt.plot(x, input + pred, label='Prediction')\n",
        "        plt.plot(x, input + target, label='Target')\n",
        "\n",
        "        plt.legend(fontsize=12)\n",
        "        plt.axvline(x=55, color='red', linestyle='--', linewidth=1)\n",
        "\n",
        "        # Add a vertical line at the start of the input\n",
        "        plt.xlabel('Time (min)', fontsize=12)\n",
        "        plt.ylabel('Values', fontsize=12)\n",
        "        plt.title('Target vs Prediction over Time - cVTGCN', fontsize=14)\n",
        "\n",
        "\n",
        "\n",
        "        break"
      ],
      "metadata": {
        "colab": {
          "base_uri": "https://localhost:8080/",
          "height": 531
        },
        "id": "_MzjvpMeDcFz",
        "outputId": "d7cd93a5-5a24-4ecd-f296-c30a18ee213e"
      },
      "execution_count": null,
      "outputs": [
        {
          "output_type": "stream",
          "name": "stderr",
          "text": [
            "Validating:   0%|          | 0/1 [00:00<?, ?it/s]\n"
          ]
        },
        {
          "output_type": "stream",
          "name": "stdout",
          "text": [
            "[67.0, 66.875, 67.75, 67.11111450195312, 65.77777862548828, 66.75, 68.19999694824219, 68.46666717529297, 68.73332977294922, 69.0, 64.44444274902344, 66.875]\n",
            "[0, 5, 10, 15, 20, 25, 30, 35, 40, 45, 50, 55, 60, 65, 70, 75, 80, 85, 90, 95, 100, 105, 110, 115]\n"
          ]
        },
        {
          "output_type": "display_data",
          "data": {
            "text/plain": [
              "<Figure size 640x480 with 1 Axes>"
            ],
            "image/png": "[encoded data removed]"
          },
          "metadata": {}
        }
      ]
    },
    {
      "cell_type": "code",
      "source": [
        "input = torch.from_numpy(np.asarray(speed.iloc[12:24], dtype=np.float32)).reshape(-1, 12, 156)\n",
        "\n",
        "# x = input.to(trainer.device)\n",
        "x = input"
      ],
      "metadata": {
        "id": "ujUHL3_R5Ovh"
      },
      "execution_count": null,
      "outputs": []
    },
    {
      "cell_type": "code",
      "source": [
        "\n",
        "with torch.no_grad():\n",
        "  predictions = trainer.forward(x)\n",
        "\n",
        "\n",
        "  predictions = predictions * data_module.feat_max_val\n",
        "\n",
        "  predictions = predictions.transpose(1, 2).reshape((-1, x.size(2)))  # Reshape predictions\n",
        "\n",
        "\n"
      ],
      "metadata": {
        "id": "s2I2EqSn5hT4"
      },
      "execution_count": null,
      "outputs": []
    },
    {
      "cell_type": "code",
      "source": [
        "from matplotlib import pyplot as plt\n",
        "\n",
        "target = np.asarray(speed.iloc[24:36], dtype=np.float32)[:, 0].tolist()\n",
        "input = np.asarray(speed.iloc[12:24], dtype=np.float32)[:, 0].tolist()\n",
        "\n",
        "x = np.linspace(0, 24, 24)\n",
        "\n",
        "\n",
        "plt.plot(input + predictions[:,0].tolist(), label='Prediction')\n",
        "plt.plot(input + target, label='Target')\n",
        "\n",
        "plt.legend(fontsize=12)\n",
        "ax = plt.gca()\n",
        "# Add a vertical line at the start of the input\n",
        "plt.axvline(x=11, color='red', linestyle='--', linewidth=1, label='Input Start')\n",
        "\n",
        "# ax.set_xlim([xmin, xmax])\n",
        "ax.set_ylim([0, data_module.feat_max_val])"
      ],
      "metadata": {
        "colab": {
          "base_uri": "https://localhost:8080/",
          "height": 448
        },
        "id": "zqi6R0_P6h9q",
        "outputId": "c4687fcd-57af-4c85-f8d4-46860b4dece6"
      },
      "execution_count": null,
      "outputs": [
        {
          "output_type": "execute_result",
          "data": {
            "text/plain": [
              "(0.0, 86.42919921875)"
            ]
          },
          "metadata": {},
          "execution_count": 38
        },
        {
          "output_type": "display_data",
          "data": {
            "text/plain": [
              "<Figure size 640x480 with 1 Axes>"
            ],
            "image/png": "[encoded data removed]"
          },
          "metadata": {}
        }
      ]
    },
    {
      "cell_type": "code",
      "source": [
        "final_dataset = None\n",
        "\n",
        "for x, y in data_module.train_dataloader():\n",
        "    if final_dataset is None:\n",
        "        final_dataset = x\n",
        "    else:\n",
        "        final_dataset = torch.cat([final_dataset, x], dim=0)\n",
        "\n",
        "for x, y in data_module.val_dataloader():\n",
        "    final_dataset = torch.cat([final_dataset, x], dim=0)\n"
      ],
      "metadata": {
        "id": "kcwAZo5bZlYf"
      },
      "execution_count": 65,
      "outputs": []
    },
    {
      "cell_type": "code",
      "source": [
        "\n",
        "\n",
        "\n",
        "\n",
        "def validate(self, val_loader):\n",
        "        self.model.eval()\n",
        "        if self.regressor is not None:\n",
        "            self.regressor.eval()\n",
        "        # mean = final_dataset.mean(0).mean(0)\n",
        "        mean = None\n",
        "        b, t, n = final_dataset.shape\n",
        "        final_dataset.to(self.device)\n",
        "        C_old = torch.cov(final_dataset.reshape(b*t, n).T)\n",
        "        val_loss, rmse, mae, r2, explained_var = 0.0, 0.0, 0.0, 0.0, 0.0\n",
        "        acc = 0\n",
        "        C_old = C_old.to(self.device)\n",
        "        with torch.no_grad():\n",
        "            for batch in tqdm(val_loader, desc=\"Validating\"):\n",
        "                x, y = batch\n",
        "                x, y = x.to(self.device), y.to(self.device)\n",
        "\n",
        "                # print(x.shape, mean.shape)\n",
        "                C, C_old, mean = self.update_covariance(x, C_old, gamma=self.gamma,\n",
        "                                               mean=mean)\n",
        "\n",
        "                self.bottleneck_score = self.update_bottleneck_scores(x)\n",
        "\n",
        "                for graph_layer in [self.model.tgcn_cell.graph_conv1, self.model.tgcn_cell.graph_conv2]:\n",
        "                    graph_layer.covariance = C\n",
        "                    graph_layer.bottleneck_scores = self.bottleneck_score\n",
        "\n",
        "\n",
        "                predictions = self.forward(x)\n",
        "                predictions = predictions * data_module.feat_max_val\n",
        "\n",
        "                predictions = predictions.transpose(1, 2).reshape((-1, x.size(2)))  # Reshape predictions\n",
        "                y = y.reshape((-1, y.size(2)))  # Reshape targets\n",
        "                y = y * data_module.feat_max_val\n",
        "\n",
        "\n",
        "\n",
        "                # Compute loss\n",
        "                loss = self.loss(predictions, y)\n",
        "                val_loss += loss.item()\n",
        "\n",
        "                # Metrics\n",
        "                rmse += torch.sqrt(F.mse_loss(predictions, y)).item()\n",
        "                mae += F.l1_loss(predictions, y).item()\n",
        "                r2 += r2_f(predictions, y)\n",
        "                explained_var += explained_variance_f(predictions, y)\n",
        "                acc += accuracy_f(predictions, y)\n",
        "\n",
        "        num_batches = len(val_loader)\n",
        "        print(\n",
        "            f\"Validation Loss: {val_loss / num_batches:.4f}, RMSE: {rmse / num_batches:.4f}, \"\n",
        "            f\"MAE: {mae / num_batches:.4f}, R2: {r2 / num_batches:.4f}, Explained Variance: {explained_var / num_batches:.4f}\", f\"Accuracy: {acc / num_batches:.4f}\"\n",
        "        )\n"
      ],
      "metadata": {
        "id": "5j9qw20cAo8e"
      },
      "execution_count": 66,
      "outputs": []
    },
    {
      "cell_type": "code",
      "source": [
        "import torch\n",
        "\n",
        "\n",
        "def accuracy_f(pred, y):\n",
        "    \"\"\"\n",
        "    :param pred: predictions\n",
        "    :param y: ground truth\n",
        "    :return: accuracy, defined as 1 - (norm(y - pred) / norm(y))\n",
        "    \"\"\"\n",
        "    return 1 - torch.linalg.norm(y - pred, \"fro\") / torch.linalg.norm(y, \"fro\")\n",
        "\n",
        "\n",
        "def r2_f(pred, y):\n",
        "    \"\"\"\n",
        "    :param y: ground truth\n",
        "    :param pred: predictions\n",
        "    :return: R square (coefficient of determination)\n",
        "    \"\"\"\n",
        "    return 1 - torch.sum((y - pred) ** 2) / torch.sum((y - torch.mean(pred)) ** 2)\n",
        "\n",
        "\n",
        "def explained_variance_f(pred, y):\n",
        "    return 1 - torch.var(y - pred) / torch.var(y)"
      ],
      "metadata": {
        "id": "KQj_2fq9MmOf"
      },
      "execution_count": 67,
      "outputs": []
    },
    {
      "cell_type": "code",
      "source": [
        "validate(trainer, data_module.val_dataloader())"
      ],
      "metadata": {
        "colab": {
          "base_uri": "https://localhost:8080/"
        },
        "id": "oUpwdqNnMmo1",
        "outputId": "29f7a1c8-bf0c-497c-c427-d1b6fca04b72"
      },
      "execution_count": 68,
      "outputs": [
        {
          "output_type": "stream",
          "name": "stderr",
          "text": [
            "Validating: 100%|██████████| 1/1 [00:00<00:00,  6.58it/s]"
          ]
        },
        {
          "output_type": "stream",
          "name": "stdout",
          "text": [
            "Validation Loss: 18.5134, RMSE: 4.3027, MAE: 2.9659, R2: 0.8304, Explained Variance: 0.8305 Accuracy: 0.7002\n"
          ]
        },
        {
          "output_type": "stream",
          "name": "stderr",
          "text": [
            "\n"
          ]
        }
      ]
    },
    {
      "cell_type": "code",
      "source": [
        "torch.save(trainer.model.state_dict(), \"/content/cVTGCNSZ48S30min.pkl\")"
      ],
      "metadata": {
        "id": "K6J8u3UZMtkD"
      },
      "execution_count": null,
      "outputs": []
    },
    {
      "cell_type": "code",
      "source": [
        "test = TGCN(data_module.adj, hidden_dim)\n",
        "test.load_state_dict(torch.load(\"/content/cVTGCNSZ60min.pkl\", weights_only=True))\n",
        "test.eval()"
      ],
      "metadata": {
        "colab": {
          "base_uri": "https://localhost:8080/"
        },
        "id": "BJLZGPLYSorx",
        "outputId": "2e311c81-780b-4f70-e8ba-2288f9910af0"
      },
      "execution_count": null,
      "outputs": [
        {
          "output_type": "execute_result",
          "data": {
            "text/plain": [
              "TGCN(\n",
              "  (tgcn_cell): TGCNCell(\n",
              "    (graph_conv1): TGCNGraphConvolution()\n",
              "    (graph_conv2): TGCNGraphConvolution()\n",
              "  )\n",
              ")"
            ]
          },
          "metadata": {},
          "execution_count": 17
        }
      ]
    },
    {
      "cell_type": "code",
      "source": [],
      "metadata": {
        "id": "nJ1YBlcl32Xc"
      },
      "execution_count": null,
      "outputs": []
    },
    {
      "cell_type": "code",
      "source": [
        "# 15min Validating: 100%|██████████| 1/1 [00:01<00:00,  1.70s/it]Validation Loss: 27.7364, RMSE: 5.2665, MAE: 3.2937, R2: 0.8559, Explained Variance: 0.8567 Accuracy: 0.9103\n",
        "# 30min Validating: 100%|██████████| 1/1 [00:03<00:00,  3.55s/it]Validation Loss: 39.8364, RMSE: 6.3116, MAE: 3.8155, R2: 0.7937, Explained Variance: 0.7937 Accuracy: 0.8925\n",
        "\n",
        "# 45min Validating: 100%|██████████| 1/1 [00:01<00:00,  1.64s/it]Validation Loss: 51.5813, RMSE: 7.1820, MAE: 4.3116, R2: 0.7338, Explained Variance: 0.7338 Accuracy: 0.8777\n",
        "# 60min Validating: 100%|██████████| 1/1 [00:01<00:00,  1.62s/it]Validation Loss: 62.4549, RMSE: 7.9028, MAE: 4.7294, R2: 0.6787, Explained Variance: 0.6788 Accuracy: 0.8653"
      ],
      "metadata": {
        "id": "uORR7GCETNl0"
      },
      "execution_count": null,
      "outputs": []
    },
    {
      "cell_type": "code",
      "source": [
        "# 15min Validating: 100%|██████████| 1/1 [00:01<00:00,  1.79s/it]Validation Loss: 17.9162, RMSE: 4.2328, MAE: 2.9625, R2: 0.8358, Explained Variance: 0.8360 Accuracy: 0.7050\n",
        "# 30min Validating: 100%|██████████| 1/1 [00:01<00:00,  1.78s/it]Validation Loss: 18.5834, RMSE: 4.3108, MAE: 3.0719, R2: 0.8298, Explained Variance: 0.8300 Accuracy: 0.6996\n"
      ],
      "metadata": {
        "id": "YhUWK6IuUnza"
      },
      "execution_count": null,
      "outputs": []
    },
    {
      "cell_type": "code",
      "source": [
        "# SZ - taxi\n",
        "# 24 S 30min Validating: 100%|██████████| 1/1 [00:03<00:00,  3.61s/it]Validation Loss: 18.8457, RMSE: 4.3412, MAE: 3.0485, R2: 0.8273, Explained Variance: 0.8280 Accuracy: 0.6971\n",
        "# 36 S 30min Validating: 100%|██████████| 1/1 [00:14<00:00, 14.02s/it]Validation Loss: 18.7651, RMSE: 4.3319, MAE: 3.0749, R2: 0.8283, Explained Variance: 0.8294 Accuracy: 0.6980\n",
        "\n",
        "# 48 S 30min Validating: 100%|██████████| 1/1 [00:06<00:00,  6.92s/it]Validation Loss: 18.6807, RMSE: 4.3221, MAE: 3.0549, R2: 0.8286, Explained Variance: 0.8287 Accuracy: 0.6985\n"
      ],
      "metadata": {
        "id": "vqGvs9uSSMnX"
      },
      "execution_count": null,
      "outputs": []
    },
    {
      "cell_type": "code",
      "source": [
        "\n",
        "\n",
        "def validate(self, val_loader):\n",
        "        self.model.eval()\n",
        "        if self.regressor is not None:\n",
        "            self.regressor.eval()\n",
        "        # mean = final_dataset.mean(0).mean(0)\n",
        "        mean = None\n",
        "        b, t, n = final_dataset.shape\n",
        "        C_old = torch.cov(final_dataset.reshape(b*t, n).T)\n",
        "        val_loss, rmse, mae, r2, explained_var = 0.0, 0.0, 0.0, 0.0, 0.0\n",
        "        acc = 0\n",
        "        with torch.no_grad():\n",
        "            for batch in tqdm(val_loader, desc=\"Validating\"):\n",
        "                x, y = batch\n",
        "                x, y = x.to(self.device), y.to(self.device)\n",
        "\n",
        "                # print(x.shape, mean.shape)\n",
        "                C, C_old, mean = self.update_covariance(x, C_old, gamma=self.gamma,\n",
        "                                               mean=mean)\n",
        "\n",
        "                for graph_layer in [self.model.tgcn_cell.graph_conv1, self.model.tgcn_cell.graph_conv2]:\n",
        "                    graph_layer.covariance = C\n",
        "\n",
        "\n",
        "                predictions = self.forward(x)\n",
        "                predictions = predictions * data_module.feat_max_val\n",
        "\n",
        "                predictions = predictions.transpose(1, 2).reshape((-1, x.size(2)))  # Reshape predictions\n",
        "                y = y.reshape((-1, y.size(2)))  # Reshape targets\n",
        "                y = y * data_module.feat_max_val\n",
        "\n",
        "\n",
        "\n",
        "                # Compute loss\n",
        "                loss = self.loss(predictions, y)\n",
        "                val_loss += loss.item()\n",
        "\n",
        "                # Metrics\n",
        "                rmse += torch.sqrt(F.mse_loss(predictions, y)).item()\n",
        "                mae += F.l1_loss(predictions, y).item()\n",
        "                r2 += r2_f(predictions, y)\n",
        "                explained_var += explained_variance_f(predictions, y)\n",
        "                acc += accuracy_f(predictions, y)\n",
        "\n",
        "        num_batches = len(val_loader)\n",
        "        print(\n",
        "            f\"Validation Loss: {val_loss / num_batches:.4f}, RMSE: {rmse / num_batches:.4f}, \"\n",
        "            f\"MAE: {mae / num_batches:.4f}, R2: {r2 / num_batches:.4f}, Explained Variance: {explained_var / num_batches:.4f}\", f\"Accuracy: {acc / num_batches:.4f}\"\n",
        "        )\n"
      ],
      "metadata": {
        "id": "IJ23pcvM4Azn"
      },
      "execution_count": null,
      "outputs": []
    }
  ]
}